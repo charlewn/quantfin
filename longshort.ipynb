{
 "cells": [
  {
   "cell_type": "code",
   "execution_count": 1,
   "id": "937d518f-50cc-47a0-a318-887dd7b85cc9",
   "metadata": {},
   "outputs": [],
   "source": [
    "import pandas as pd\n",
    "import numpy as np\n",
    "import statsmodels.api as sm\n",
    "import json\n",
    "import math\n",
    "import datetime\n",
    "import matplotlib.pyplot as plt   # plotting\n",
    "import seaborn as sns   # plotting heatmap\n",
    "\n",
    "%matplotlib inline\n",
    "from yahoofinancials import YahooFinancials\n",
    "\n",
    "from bs4 import BeautifulSoup"
   ]
  },
  {
   "cell_type": "code",
   "execution_count": 5,
   "id": "60ea7ff8-a6a3-4a27-b226-1e07e5f208ab",
   "metadata": {},
   "outputs": [],
   "source": [
    "tickers = [\"SPY\", \"QQQ\", \"TQQQ\", \"MSFT\", \"^VIX\", \"AAPL\", \"NVDA\", \"AMD\",\"MRNA\", \"UPRO\"]\n",
    "\n",
    "start_date = \"2019-08-30\" #\"2013-11-20\" # \"2018-6-15\" #\"2016-10-15\"\n",
    "\n",
    "end_date = str(datetime.date.today()) # \"2019-3-30\"# \n",
    "\n",
    "update = True\n",
    "\n",
    "if update:\n",
    "\tstocks = YahooFinancials(tickers)\n",
    "\thistorical_price = stocks.get_historical_price_data(start_date, end_date, \"weekly\")\n",
    "\n",
    "\twith open('data/data_ls.py', 'w') as outfile:\n",
    "\t\n",
    "\t\toutfile.write(\"historical_price=\")\n",
    "\n",
    "\t\tjson.dump(historical_price, outfile)\n",
    "\n",
    "else:\n",
    "\tfrom data.data_ls import historical_price\n",
    "\n",
    "\thistorical_price = historical_price\n",
    "    \n",
    "chart_data = {}\n",
    "other_tickers = {}\n",
    "longest = 0\n",
    "longest_ticker = \"ICE\"\n",
    "\n",
    "\n",
    "for ticker in tickers:\n",
    "\t# for all data before sorting\n",
    "\t# print ticker\n",
    "\tchart_data[ticker] = historical_price[ticker][\"prices\"]\n",
    "\n",
    "\tother_tickers[ticker] = len(historical_price[ticker][\"prices\"])\n",
    "\n",
    "\tif len(historical_price[ticker][\"prices\"]) > longest:\n",
    "\n",
    "\t\tlongest = len(historical_price[ticker][\"prices\"])\n",
    "\n",
    "\t\tlongest_ticker = ticker\n",
    "\n",
    "save_data = {}\n",
    "save_data[\"date\"] = []\n",
    "save_data[\"formatted_date\"] = []\n",
    "\n",
    "def load_ticker_data(ticker, chart_data):\n",
    "    rf_list = list()\n",
    "    for i in range(0, len(chart_data[ticker]) ):\n",
    "        rf_list.append( [ pd.to_datetime(chart_data[ticker][i][\"formatted_date\"]), \\\n",
    "                    chart_data[ticker][i][\"adjclose\"], chart_data[ticker][i][\"high\"],\\\n",
    "                    chart_data[ticker][i][\"low\"], chart_data[ticker][i][\"open\"],\n",
    "                    chart_data[ticker][i][\"close\"], chart_data[ticker][i][\"volume\"]  \n",
    "                    ])\n",
    "    df = pd.DataFrame(rf_list, columns=[\"date\", \"adjclose\", \"high\",\"low\", \"open\", \"close\", \"volume\"]) # , \n",
    "    df = df.set_index(\"date\")\n",
    "    return df\n",
    "\n",
    "prices = pd.DataFrame()\n",
    "\n",
    "for ticker in tickers:\n",
    "    prices[ticker] = load_ticker_data(ticker, chart_data).open"
   ]
  },
  {
   "cell_type": "markdown",
   "id": "b87a264e-740b-40be-9f60-d555c2ffb084",
   "metadata": {},
   "source": [
    "## GOAL is to minimize drawdown"
   ]
  },
  {
   "cell_type": "code",
   "execution_count": 8,
   "id": "7406a19b-7983-4ee9-8991-e2791ab72231",
   "metadata": {},
   "outputs": [],
   "source": [
    "prices=prices.fillna(0)"
   ]
  },
  {
   "cell_type": "code",
   "execution_count": 9,
   "id": "d954d056-5610-4334-aca8-2df921b4f378",
   "metadata": {},
   "outputs": [
    {
     "name": "stdout",
     "output_type": "stream",
     "text": [
      "------------------------------------------------------------------------------------------------------------------------\n",
      "SPY\n",
      "0.7957401777407674\n",
      "T-statistic: -1.3917\n",
      "P-value: 0.8004\n",
      "------------------------------------------------------------------------------------------------------------------------\n",
      "QQQ\n",
      "0.8440301320540025\n",
      "T-statistic: -1.2154\n",
      "P-value: 0.8538\n",
      "------------------------------------------------------------------------------------------------------------------------\n",
      "TQQQ\n",
      "0.9999999999999998\n",
      "T-statistic: -inf\n",
      "P-value: 0.0000\n",
      "------------------------------------------------------------------------------------------------------------------------\n",
      "MSFT\n",
      "0.7146392663163929\n",
      "T-statistic: -1.6228\n",
      "P-value: 0.7112\n",
      "------------------------------------------------------------------------------------------------------------------------\n",
      "^VIX\n",
      "-0.3888955861443596\n",
      "T-statistic: -2.1548\n",
      "P-value: 0.4478\n",
      "------------------------------------------------------------------------------------------------------------------------\n",
      "AAPL\n",
      "0.621133172217743\n",
      "T-statistic: -1.4397\n",
      "P-value: 0.7836\n",
      "------------------------------------------------------------------------------------------------------------------------\n",
      "NVDA\n",
      "0.559513435963743\n",
      "T-statistic: -1.5526\n",
      "P-value: 0.7405\n",
      "------------------------------------------------------------------------------------------------------------------------\n",
      "AMD\n",
      "0.7879837951512185\n",
      "T-statistic: -1.6424\n",
      "P-value: 0.7026\n",
      "------------------------------------------------------------------------------------------------------------------------\n",
      "MRNA\n",
      "0.6329353867103016\n",
      "T-statistic: -1.5618\n",
      "P-value: 0.7368\n",
      "------------------------------------------------------------------------------------------------------------------------\n",
      "UPRO\n",
      "0.9239925867223122\n",
      "T-statistic: -1.7861\n",
      "P-value: 0.6365\n"
     ]
    },
    {
     "name": "stderr",
     "output_type": "stream",
     "text": [
      "C:\\Users\\charles\\AppData\\Local\\Temp\\ipykernel_8152\\363538895.py:8: CollinearityWarning: y0 and y1 are (almost) perfectly colinear.Cointegration test is not reliable in this case.\n",
      "  t_stat, p_value, _ = coint(prices[t], prices[ticker])\n"
     ]
    }
   ],
   "source": [
    "from statsmodels.tsa.stattools import coint\n",
    "\n",
    "for ticker in tickers:\n",
    "    t = \"TQQQ\"\n",
    "    print(\"----\"*30)\n",
    "    print(ticker)\n",
    "    print(prices[t].corr(prices[ticker]))\n",
    "    t_stat, p_value, _ = coint(prices[t], prices[ticker])\n",
    "    print(f\"T-statistic: {t_stat:.4f}\")\n",
    "    print(f\"P-value: {p_value:.4f}\")"
   ]
  },
  {
   "cell_type": "code",
   "execution_count": 10,
   "id": "e60323e3-4e60-4d2c-a6b5-6b7ff53d72df",
   "metadata": {},
   "outputs": [
    {
     "data": {
      "image/png": "[encoded data removed]",
      "text/plain": [
       "<Figure size 1600x800 with 2 Axes>"
      ]
     },
     "metadata": {},
     "output_type": "display_data"
    }
   ],
   "source": [
    "# Let's also draw a heatmap visualization of the correlation matrix\n",
    "corr_matrix = prices.corr(method='spearman')\n",
    "#corr_matrix[corr_matrix > 0.75].to_csv(\"data/corr.csv\")\n",
    "#print(corr_matrix[corr_matrix > 0.9])\n",
    "f, ax = plt.subplots(figsize=(16,8))\n",
    "sns.heatmap(corr_matrix, annot=True, fmt='.2f', linewidth=0.4,\n",
    "            annot_kws={\"size\": 10}, cmap='coolwarm', ax=ax)\n",
    "plt.xticks(fontsize=10)\n",
    "plt.yticks(fontsize=10)\n",
    "plt.show()"
   ]
  },
  {
   "cell_type": "code",
   "execution_count": 11,
   "id": "5135a830-44b9-46e5-9fe3-fd163f171e8b",
   "metadata": {},
   "outputs": [
    {
     "data": {
      "text/html": [
       "        <script type=\"text/javascript\">\n",
       "        window.PlotlyConfig = {MathJaxConfig: 'local'};\n",
       "        if (window.MathJax && window.MathJax.Hub && window.MathJax.Hub.Config) {window.MathJax.Hub.Config({SVG: {font: \"STIX-Web\"}});}\n",
       "        if (typeof require !== 'undefined') {\n",
       "        require.undef(\"plotly\");\n",
       "        requirejs.config({\n",
       "            paths: {\n",
       "                'plotly': ['https://cdn.plot.ly/plotly-2.32.0.min']\n",
       "            }\n",
       "        });\n",
       "        require(['plotly'], function(Plotly) {\n",
       "            window._Plotly = Plotly;\n",
       "        });\n",
       "        }\n",
       "        </script>\n",
       "        "
      ]
     },
     "metadata": {},
     "output_type": "display_data"
    },
    {
     "name": "stderr",
     "output_type": "stream",
     "text": [
      "C:\\Users\\charles\\AppData\\Local\\Temp\\ipykernel_8152\\953178967.py:13: FutureWarning:\n",
      "\n",
      "The default fill_method='pad' in DataFrame.pct_change is deprecated and will be removed in a future version. Either fill in any non-leading NA values prior to calling pct_change or specify 'fill_method=None' to not fill NA values.\n",
      "\n"
     ]
    },
    {
     "data": {
      "application/vnd.plotly.v1+json": {
       "config": {
        "plotlyServerURL": "https://plot.ly"
       },
       "data": [
        {
         "hovertemplate": "variable=TQQQ<br>date=%{x}<br>value=%{y}<extra></extra>",
         "legendgroup": "TQQQ",
         "marker": {
          "color": "#636efa",
          "symbol": "circle"
         },
         "mode": "markers+lines",
         "name": "TQQQ",
         "orientation": "v",
         "showlegend": true,
         "type": "scatter",
         "x": [
          "2020-12-28T00:00:00",
          "2021-01-04T00:00:00",
          "2021-01-11T00:00:00",
          "2021-01-18T00:00:00",
          "2021-01-25T00:00:00",
          "2021-02-01T00:00:00",
          "2021-02-08T00:00:00",
          "2021-02-15T00:00:00",
          "2021-02-22T00:00:00",
          "2021-03-01T00:00:00",
          "2021-03-08T00:00:00",
          "2021-03-15T00:00:00",
          "2021-03-22T00:00:00",
          "2021-03-29T00:00:00",
          "2021-04-05T00:00:00",
          "2021-04-12T00:00:00",
          "2021-04-19T00:00:00",
          "2021-04-26T00:00:00",
          "2021-05-03T00:00:00",
          "2021-05-10T00:00:00",
          "2021-05-17T00:00:00",
          "2021-05-24T00:00:00",
          "2021-05-31T00:00:00",
          "2021-06-07T00:00:00",
          "2021-06-14T00:00:00",
          "2021-06-21T00:00:00",
          "2021-06-28T00:00:00",
          "2021-07-05T00:00:00",
          "2021-07-12T00:00:00",
          "2021-07-19T00:00:00",
          "2021-07-26T00:00:00",
          "2021-08-02T00:00:00",
          "2021-08-09T00:00:00",
          "2021-08-16T00:00:00",
          "2021-08-23T00:00:00",
          "2021-08-30T00:00:00",
          "2021-09-06T00:00:00",
          "2021-09-13T00:00:00",
          "2021-09-20T00:00:00",
          "2021-09-27T00:00:00",
          "2021-10-04T00:00:00",
          "2021-10-11T00:00:00",
          "2021-10-18T00:00:00",
          "2021-10-25T00:00:00",
          "2021-11-01T00:00:00",
          "2021-11-08T00:00:00",
          "2021-11-15T00:00:00",
          "2021-11-22T00:00:00",
          "2021-11-29T00:00:00",
          "2021-12-06T00:00:00",
          "2021-12-13T00:00:00",
          "2021-12-20T00:00:00",
          "2021-12-27T00:00:00",
          "2022-01-03T00:00:00",
          "2022-01-10T00:00:00",
          "2022-01-17T00:00:00",
          "2022-01-24T00:00:00",
          "2022-01-31T00:00:00",
          "2022-02-07T00:00:00",
          "2022-02-14T00:00:00",
          "2022-02-21T00:00:00",
          "2022-02-28T00:00:00",
          "2022-03-07T00:00:00",
          "2022-03-14T00:00:00",
          "2022-03-21T00:00:00",
          "2022-03-28T00:00:00",
          "2022-04-04T00:00:00",
          "2022-04-11T00:00:00",
          "2022-04-18T00:00:00",
          "2022-04-25T00:00:00",
          "2022-05-02T00:00:00",
          "2022-05-09T00:00:00",
          "2022-05-16T00:00:00",
          "2022-05-23T00:00:00",
          "2022-05-30T00:00:00",
          "2022-06-06T00:00:00",
          "2022-06-13T00:00:00",
          "2022-06-20T00:00:00",
          "2022-06-27T00:00:00",
          "2022-07-04T00:00:00",
          "2022-07-11T00:00:00",
          "2022-07-18T00:00:00",
          "2022-07-25T00:00:00",
          "2022-08-01T00:00:00",
          "2022-08-08T00:00:00",
          "2022-08-15T00:00:00",
          "2022-08-22T00:00:00",
          "2022-08-29T00:00:00",
          "2022-09-05T00:00:00",
          "2022-09-12T00:00:00",
          "2022-09-19T00:00:00",
          "2022-09-26T00:00:00",
          "2022-10-03T00:00:00",
          "2022-10-10T00:00:00",
          "2022-10-17T00:00:00",
          "2022-10-24T00:00:00",
          "2022-10-31T00:00:00",
          "2022-11-07T00:00:00",
          "2022-11-14T00:00:00",
          "2022-11-21T00:00:00",
          "2022-11-28T00:00:00",
          "2022-12-05T00:00:00",
          "2022-12-12T00:00:00",
          "2022-12-19T00:00:00",
          "2022-12-26T00:00:00",
          "2023-01-02T00:00:00",
          "2023-01-09T00:00:00",
          "2023-01-16T00:00:00",
          "2023-01-23T00:00:00",
          "2023-01-30T00:00:00",
          "2023-02-06T00:00:00",
          "2023-02-13T00:00:00",
          "2023-02-20T00:00:00",
          "2023-02-27T00:00:00",
          "2023-03-06T00:00:00",
          "2023-03-13T00:00:00",
          "2023-03-20T00:00:00",
          "2023-03-27T00:00:00",
          "2023-04-03T00:00:00",
          "2023-04-10T00:00:00",
          "2023-04-17T00:00:00",
          "2023-04-24T00:00:00",
          "2023-05-01T00:00:00",
          "2023-05-08T00:00:00",
          "2023-05-15T00:00:00",
          "2023-05-22T00:00:00",
          "2023-05-29T00:00:00",
          "2023-06-05T00:00:00",
          "2023-06-12T00:00:00",
          "2023-06-19T00:00:00",
          "2023-06-26T00:00:00",
          "2023-07-03T00:00:00",
          "2023-07-10T00:00:00",
          "2023-07-17T00:00:00",
          "2023-07-24T00:00:00",
          "2023-07-31T00:00:00",
          "2023-08-07T00:00:00",
          "2023-08-14T00:00:00",
          "2023-08-21T00:00:00",
          "2023-08-28T00:00:00",
          "2023-09-04T00:00:00",
          "2023-09-11T00:00:00",
          "2023-09-18T00:00:00",
          "2023-09-25T00:00:00",
          "2023-10-02T00:00:00",
          "2023-10-09T00:00:00",
          "2023-10-16T00:00:00",
          "2023-10-23T00:00:00",
          "2023-10-30T00:00:00",
          "2023-11-06T00:00:00",
          "2023-11-13T00:00:00",
          "2023-11-20T00:00:00",
          "2023-11-27T00:00:00",
          "2023-12-04T00:00:00",
          "2023-12-11T00:00:00",
          "2023-12-18T00:00:00",
          "2023-12-25T00:00:00",
          "2024-01-01T00:00:00",
          "2024-01-08T00:00:00",
          "2024-01-15T00:00:00",
          "2024-01-22T00:00:00",
          "2024-01-29T00:00:00",
          "2024-02-05T00:00:00",
          "2024-02-12T00:00:00",
          "2024-02-19T00:00:00",
          "2024-02-26T00:00:00",
          "2024-03-04T00:00:00",
          "2024-03-11T00:00:00",
          "2024-03-18T00:00:00",
          "2024-03-25T00:00:00",
          "2024-04-01T00:00:00",
          "2024-04-08T00:00:00",
          "2024-04-15T00:00:00",
          "2024-04-22T00:00:00",
          "2024-04-29T00:00:00",
          "2024-05-06T00:00:00",
          "2024-05-13T00:00:00",
          "2024-05-20T00:00:00",
          "2024-05-27T00:00:00",
          "2024-06-03T00:00:00",
          "2024-06-10T00:00:00",
          "2024-06-17T00:00:00",
          "2024-06-24T00:00:00",
          "2024-07-01T00:00:00",
          "2024-07-08T00:00:00",
          "2024-07-15T00:00:00",
          "2024-07-22T00:00:00",
          "2024-07-29T00:00:00",
          "2024-08-05T00:00:00",
          "2024-08-06T00:00:00"
         ],
         "xaxis": "x",
         "y": [
          0,
          0.027461476157503828,
          0.03142712000951242,
          0.013246282096313067,
          0.15692226866386916,
          0.05852212531125478,
          0.20186788260957977,
          0.23926504074568788,
          0.14535734198108463,
          0.0739429771532154,
          -0.03402619342471447,
          0.03237629048924562,
          0.026521131640453555,
          0.02595478153014319,
          0.13894210544299546,
          0.22131665022154456,
          0.25753488506248357,
          0.24990888455727422,
          0.24487736470870347,
          0.1872274552814559,
          0.10936624058862188,
          0.15211304859000074,
          0.20589280767919893,
          0.20184853059574792,
          0.26188912874086745,
          0.27091866056575553,
          0.34449725219314475,
          0.41757968505084164,
          0.44386455114523693,
          0.3751336239020112,
          0.49179077026663387,
          0.480909937007994,
          0.4985255940188885,
          0.49144063897720236,
          0.4994588552366912,
          0.5649189829504073,
          0.6029327024829951,
          0.581421586019925,
          0.49463221586765715,
          0.5152348490285376,
          0.4203791395798908,
          0.4264542966182634,
          0.49311566122148576,
          0.5582181229955196,
          0.6478047868634791,
          0.7421564984187012,
          0.7211008014222753,
          0.7952724469342205,
          0.7222622576985055,
          0.6283392679453058,
          0.7404317395125241,
          0.6063778983194612,
          0.7585637445146178,
          0.7629925284596939,
          0.5873386203031834,
          0.5774361243470105,
          0.3636822939151828,
          0.4231066366006758,
          0.4585141823461182,
          0.3540618681287214,
          0.28109399480147335,
          0.3100499112459142,
          0.26228931094590935,
          0.13242462909682673,
          0.3967154416802361,
          0.47352205370662115,
          0.4991721406029077,
          0.35271789119162766,
          0.28528862193846927,
          0.16348961830748832,
          0.05175226913220976,
          -0.05004079643217596,
          -0.0939597814509372,
          -0.20574904055963006,
          -0.001409087703218459,
          0.008200512962119655,
          -0.2699077193749634,
          -0.28844915960783757,
          -0.09827280592678278,
          -0.27252326333723575,
          -0.11062659779982387,
          -0.09555307442070904,
          -0.026013051463444126,
          0.08404444996157723,
          0.17007250974922028,
          0.22765686760384296,
          0.12778961703690705,
          -0.006173177000953989,
          -0.09441849621475207,
          0.037868461105899254,
          -0.17203249147313204,
          -0.2881561600039916,
          -0.3571542268754909,
          -0.3662912978503513,
          -0.4026642986275568,
          -0.3059072679790693,
          -0.27924700783445666,
          -0.4218343739463293,
          -0.20101938151375598,
          -0.2303382636199094,
          -0.21732716820444153,
          -0.16778588556668672,
          -0.25388725731553463,
          -0.340448686256262,
          -0.4263126267925226,
          -0.4102759314129383,
          -0.3911101953940781,
          -0.2815969459144583,
          -0.25717023683352935,
          -0.15984663224705642,
          -0.05785101263616221,
          -0.08642248068131875,
          -0.12950446222538936,
          -0.1563443249524371,
          -0.09940479146888037,
          -0.23787284213531645,
          -0.0444189523133558,
          0.019436939887017113,
          0.08446197062732752,
          0.04688968363089718,
          0.07354137312369713,
          0.053797281423676235,
          0.10340563465753583,
          0.10198420576463307,
          0.12867459686137417,
          0.22676818044148928,
          0.37291720264837347,
          0.3853103982204672,
          0.39591984387208046,
          0.4804420312389127,
          0.4424672841744496,
          0.5054188462763164,
          0.47046733135543384,
          0.5841494402230224,
          0.5547908297239552,
          0.6094674773239399,
          0.5300498258039686,
          0.4605555113301222,
          0.41007900330167313,
          0.46649348367357046,
          0.5440287955762385,
          0.5325920662868537,
          0.4829415169989719,
          0.378452577105559,
          0.3886478980246514,
          0.41500064514154433,
          0.4480516985231312,
          0.3383213558640633,
          0.2872373790436471,
          0.4706489743619451,
          0.5351821279743805,
          0.6072318553254092,
          0.6271622554469138,
          0.6021679696920134,
          0.6431840108896772,
          0.7510864892218202,
          0.7743234597649432,
          0.7488495077294888,
          0.6888697878511819,
          0.7641015559991583,
          0.8749676077409217,
          0.8785770782966015,
          0.9069891984011876,
          0.9597956423648576,
          0.899506698524729,
          0.9588915816445122,
          1.0114441608578737,
          0.9531147854215855,
          0.9610259320620546,
          0.9877460129835803,
          0.9949027896586794,
          0.9672865245579115,
          0.967120467064385,
          0.8039975506130344,
          0.9171376983322233,
          0.9410320687697897,
          0.9845709068004758,
          1.0363065941093748,
          1.0813716549148134,
          1.0490303089024289,
          1.093907083046431,
          1.2093899312866634,
          1.2031971594499349,
          1.2078030110984144,
          1.3109582635083195,
          1.3068023369952169,
          1.2108160895709688,
          1.110612359361685,
          0.854991480078238,
          0.9522953328836682
         ],
         "yaxis": "y"
        },
        {
         "hovertemplate": "variable=NVDA<br>date=%{x}<br>value=%{y}<extra></extra>",
         "legendgroup": "NVDA",
         "marker": {
          "color": "#EF553B",
          "symbol": "circle"
         },
         "mode": "markers+lines",
         "name": "NVDA",
         "orientation": "v",
         "showlegend": true,
         "type": "scatter",
         "x": [
          "2020-12-28T00:00:00",
          "2021-01-04T00:00:00",
          "2021-01-11T00:00:00",
          "2021-01-18T00:00:00",
          "2021-01-25T00:00:00",
          "2021-02-01T00:00:00",
          "2021-02-08T00:00:00",
          "2021-02-15T00:00:00",
          "2021-02-22T00:00:00",
          "2021-03-01T00:00:00",
          "2021-03-08T00:00:00",
          "2021-03-15T00:00:00",
          "2021-03-22T00:00:00",
          "2021-03-29T00:00:00",
          "2021-04-05T00:00:00",
          "2021-04-12T00:00:00",
          "2021-04-19T00:00:00",
          "2021-04-26T00:00:00",
          "2021-05-03T00:00:00",
          "2021-05-10T00:00:00",
          "2021-05-17T00:00:00",
          "2021-05-24T00:00:00",
          "2021-05-31T00:00:00",
          "2021-06-07T00:00:00",
          "2021-06-14T00:00:00",
          "2021-06-21T00:00:00",
          "2021-06-28T00:00:00",
          "2021-07-05T00:00:00",
          "2021-07-12T00:00:00",
          "2021-07-19T00:00:00",
          "2021-07-26T00:00:00",
          "2021-08-02T00:00:00",
          "2021-08-09T00:00:00",
          "2021-08-16T00:00:00",
          "2021-08-23T00:00:00",
          "2021-08-30T00:00:00",
          "2021-09-06T00:00:00",
          "2021-09-13T00:00:00",
          "2021-09-20T00:00:00",
          "2021-09-27T00:00:00",
          "2021-10-04T00:00:00",
          "2021-10-11T00:00:00",
          "2021-10-18T00:00:00",
          "2021-10-25T00:00:00",
          "2021-11-01T00:00:00",
          "2021-11-08T00:00:00",
          "2021-11-15T00:00:00",
          "2021-11-22T00:00:00",
          "2021-11-29T00:00:00",
          "2021-12-06T00:00:00",
          "2021-12-13T00:00:00",
          "2021-12-20T00:00:00",
          "2021-12-27T00:00:00",
          "2022-01-03T00:00:00",
          "2022-01-10T00:00:00",
          "2022-01-17T00:00:00",
          "2022-01-24T00:00:00",
          "2022-01-31T00:00:00",
          "2022-02-07T00:00:00",
          "2022-02-14T00:00:00",
          "2022-02-21T00:00:00",
          "2022-02-28T00:00:00",
          "2022-03-07T00:00:00",
          "2022-03-14T00:00:00",
          "2022-03-21T00:00:00",
          "2022-03-28T00:00:00",
          "2022-04-04T00:00:00",
          "2022-04-11T00:00:00",
          "2022-04-18T00:00:00",
          "2022-04-25T00:00:00",
          "2022-05-02T00:00:00",
          "2022-05-09T00:00:00",
          "2022-05-16T00:00:00",
          "2022-05-23T00:00:00",
          "2022-05-30T00:00:00",
          "2022-06-06T00:00:00",
          "2022-06-13T00:00:00",
          "2022-06-20T00:00:00",
          "2022-06-27T00:00:00",
          "2022-07-04T00:00:00",
          "2022-07-11T00:00:00",
          "2022-07-18T00:00:00",
          "2022-07-25T00:00:00",
          "2022-08-01T00:00:00",
          "2022-08-08T00:00:00",
          "2022-08-15T00:00:00",
          "2022-08-22T00:00:00",
          "2022-08-29T00:00:00",
          "2022-09-05T00:00:00",
          "2022-09-12T00:00:00",
          "2022-09-19T00:00:00",
          "2022-09-26T00:00:00",
          "2022-10-03T00:00:00",
          "2022-10-10T00:00:00",
          "2022-10-17T00:00:00",
          "2022-10-24T00:00:00",
          "2022-10-31T00:00:00",
          "2022-11-07T00:00:00",
          "2022-11-14T00:00:00",
          "2022-11-21T00:00:00",
          "2022-11-28T00:00:00",
          "2022-12-05T00:00:00",
          "2022-12-12T00:00:00",
          "2022-12-19T00:00:00",
          "2022-12-26T00:00:00",
          "2023-01-02T00:00:00",
          "2023-01-09T00:00:00",
          "2023-01-16T00:00:00",
          "2023-01-23T00:00:00",
          "2023-01-30T00:00:00",
          "2023-02-06T00:00:00",
          "2023-02-13T00:00:00",
          "2023-02-20T00:00:00",
          "2023-02-27T00:00:00",
          "2023-03-06T00:00:00",
          "2023-03-13T00:00:00",
          "2023-03-20T00:00:00",
          "2023-03-27T00:00:00",
          "2023-04-03T00:00:00",
          "2023-04-10T00:00:00",
          "2023-04-17T00:00:00",
          "2023-04-24T00:00:00",
          "2023-05-01T00:00:00",
          "2023-05-08T00:00:00",
          "2023-05-15T00:00:00",
          "2023-05-22T00:00:00",
          "2023-05-29T00:00:00",
          "2023-06-05T00:00:00",
          "2023-06-12T00:00:00",
          "2023-06-19T00:00:00",
          "2023-06-26T00:00:00",
          "2023-07-03T00:00:00",
          "2023-07-10T00:00:00",
          "2023-07-17T00:00:00",
          "2023-07-24T00:00:00",
          "2023-07-31T00:00:00",
          "2023-08-07T00:00:00",
          "2023-08-14T00:00:00",
          "2023-08-21T00:00:00",
          "2023-08-28T00:00:00",
          "2023-09-04T00:00:00",
          "2023-09-11T00:00:00",
          "2023-09-18T00:00:00",
          "2023-09-25T00:00:00",
          "2023-10-02T00:00:00",
          "2023-10-09T00:00:00",
          "2023-10-16T00:00:00",
          "2023-10-23T00:00:00",
          "2023-10-30T00:00:00",
          "2023-11-06T00:00:00",
          "2023-11-13T00:00:00",
          "2023-11-20T00:00:00",
          "2023-11-27T00:00:00",
          "2023-12-04T00:00:00",
          "2023-12-11T00:00:00",
          "2023-12-18T00:00:00",
          "2023-12-25T00:00:00",
          "2024-01-01T00:00:00",
          "2024-01-08T00:00:00",
          "2024-01-15T00:00:00",
          "2024-01-22T00:00:00",
          "2024-01-29T00:00:00",
          "2024-02-05T00:00:00",
          "2024-02-12T00:00:00",
          "2024-02-19T00:00:00",
          "2024-02-26T00:00:00",
          "2024-03-04T00:00:00",
          "2024-03-11T00:00:00",
          "2024-03-18T00:00:00",
          "2024-03-25T00:00:00",
          "2024-04-01T00:00:00",
          "2024-04-08T00:00:00",
          "2024-04-15T00:00:00",
          "2024-04-22T00:00:00",
          "2024-04-29T00:00:00",
          "2024-05-06T00:00:00",
          "2024-05-13T00:00:00",
          "2024-05-20T00:00:00",
          "2024-05-27T00:00:00",
          "2024-06-03T00:00:00",
          "2024-06-10T00:00:00",
          "2024-06-17T00:00:00",
          "2024-06-24T00:00:00",
          "2024-07-01T00:00:00",
          "2024-07-08T00:00:00",
          "2024-07-15T00:00:00",
          "2024-07-22T00:00:00",
          "2024-07-29T00:00:00",
          "2024-08-05T00:00:00",
          "2024-08-06T00:00:00"
         ],
         "xaxis": "x",
         "y": [
          0,
          0.00319616874439288,
          0.027196005144044078,
          -0.0027993489917025327,
          0.05601175934255209,
          0.0031520407251793836,
          0.054786673496739824,
          0.15218417725957545,
          0.13296647729722422,
          0.07206867728524413,
          -0.030634039164115334,
          0.0026792223247305014,
          0.0064103741959256055,
          -0.0007531413136755427,
          0.08093409441321475,
          0.11138297018131194,
          0.19863081351490852,
          0.17600669881642805,
          0.17205540359359828,
          0.14972479632910318,
          0.10710361959599046,
          0.1816603802962813,
          0.2511756385215149,
          0.33115415242147894,
          0.3502051137566191,
          0.37976220005311934,
          0.42999209272159167,
          0.5010747613911077,
          0.47708443062580075,
          0.36222528936052933,
          0.4401337743187701,
          0.4602777296999898,
          0.498145666434884,
          0.48293491960795254,
          0.5244546828561155,
          0.613100870105339,
          0.6132322875126731,
          0.6067066375038351,
          0.5389055395591622,
          0.5655772116705429,
          0.5100268005582642,
          0.5134895909338186,
          0.5705491167099541,
          0.6268275199709248,
          0.7433121168829677,
          0.9187575522041134,
          0.9321244922580485,
          1.0291720911319937,
          0.9948313917688958,
          0.9180223365364044,
          0.9303717809444991,
          0.8330462432183557,
          0.919294165427312,
          0.924520082063958,
          0.816051153613872,
          0.8039748903783712,
          0.6543176066418157,
          0.6924725231553805,
          0.7438054786720794,
          0.7258340471111252,
          0.6882724123123647,
          0.7298179186618856,
          0.6808432139264746,
          0.6392952462847783,
          0.851376301582627,
          0.8984959511376269,
          0.8614589191908436,
          0.6925723646139705,
          0.6469254794548323,
          0.5526801480053355,
          0.5182566864049069,
          0.49091188518229445,
          0.461800229033861,
          0.3912650439598302,
          0.5575425016518869,
          0.5659197619555392,
          0.4019091057574484,
          0.43159662959930634,
          0.48240087080162475,
          0.30119707954964736,
          0.3965057084014739,
          0.4464863873750805,
          0.4904686626751499,
          0.5588040624243559,
          0.5214045229071369,
          0.589910942145224,
          0.5251550238161761,
          0.44110703453135325,
          0.298223111574901,
          0.3446873523995102,
          0.2502479126415068,
          0.21020795682480076,
          0.19867965233494245,
          0.1735723050803999,
          0.1304552438329888,
          0.2164077316744274,
          0.3179427065810062,
          0.35060345656300973,
          0.4904685654007249,
          0.42443082511367236,
          0.4824620351391711,
          0.5232084361877487,
          0.5446725397488035,
          0.5173789942490187,
          0.4269855535392806,
          0.41219183447841634,
          0.44134815859591603,
          0.5470141968841542,
          0.615953127981115,
          0.7203597750660624,
          0.7632669911154015,
          0.7984491673886662,
          0.7734700558581867,
          0.9006129166340889,
          0.9099496581074468,
          0.8622748055136131,
          0.9881098468566842,
          1.035816274066891,
          1.0608563637819983,
          1.0359190412850543,
          1.0263004519920476,
          1.0431647450549923,
          1.0737796212019575,
          1.0982767190038616,
          1.0977858719637026,
          1.1817272111569077,
          1.495438820602805,
          1.4539065931542008,
          1.461385591926819,
          1.5582733537067646,
          1.5457843414328047,
          1.5471031930328916,
          1.550396069058321,
          1.635540355861447,
          1.601882199007337,
          1.6471081646700294,
          1.6119667543188796,
          1.509441871391381,
          1.6084390411321237,
          1.6531191999306662,
          1.690574584540748,
          1.6475453084417175,
          1.5738693571790476,
          1.5468037291818046,
          1.605446204700319,
          1.6238881828327374,
          1.6288166132339068,
          1.5437357340834459,
          1.5402915979001695,
          1.6424649827398519,
          1.709484964138517,
          1.7300147775925565,
          1.6993528488698093,
          1.6633068321280764,
          1.6939946259329126,
          1.7341917233058874,
          1.7254467231460409,
          1.731083077193396,
          1.736525396241807,
          1.8477307687456928,
          1.9391735345252425,
          1.9588740900954444,
          2.073079084351158,
          2.137205139284813,
          2.1282106504190526,
          2.2359705084162584,
          2.2915539522657316,
          2.31888075217218,
          2.36468713191333,
          2.40399546249499,
          2.365226466873683,
          2.3475185566081813,
          2.35200562130046,
          2.2286133639140173,
          2.350130896899204,
          2.3706229129267244,
          2.382794268156082,
          2.4189577917596643,
          2.5948938269159143,
          2.6255258685726677,
          2.6849251030346117,
          2.7897685229782936,
          2.716454685647144,
          2.718320990101221,
          2.7508794788298365,
          2.774959796864705,
          2.696758209277431,
          2.641419645778014,
          2.451165406897509,
          2.57904395780644
         ],
         "yaxis": "y"
        },
        {
         "hovertemplate": "variable=MSFT<br>date=%{x}<br>value=%{y}<extra></extra>",
         "legendgroup": "MSFT",
         "marker": {
          "color": "#00cc96",
          "symbol": "circle"
         },
         "mode": "markers+lines",
         "name": "MSFT",
         "orientation": "v",
         "showlegend": true,
         "type": "scatter",
         "x": [
          "2020-12-28T00:00:00",
          "2021-01-04T00:00:00",
          "2021-01-11T00:00:00",
          "2021-01-18T00:00:00",
          "2021-01-25T00:00:00",
          "2021-02-01T00:00:00",
          "2021-02-08T00:00:00",
          "2021-02-15T00:00:00",
          "2021-02-22T00:00:00",
          "2021-03-01T00:00:00",
          "2021-03-08T00:00:00",
          "2021-03-15T00:00:00",
          "2021-03-22T00:00:00",
          "2021-03-29T00:00:00",
          "2021-04-05T00:00:00",
          "2021-04-12T00:00:00",
          "2021-04-19T00:00:00",
          "2021-04-26T00:00:00",
          "2021-05-03T00:00:00",
          "2021-05-10T00:00:00",
          "2021-05-17T00:00:00",
          "2021-05-24T00:00:00",
          "2021-05-31T00:00:00",
          "2021-06-07T00:00:00",
          "2021-06-14T00:00:00",
          "2021-06-21T00:00:00",
          "2021-06-28T00:00:00",
          "2021-07-05T00:00:00",
          "2021-07-12T00:00:00",
          "2021-07-19T00:00:00",
          "2021-07-26T00:00:00",
          "2021-08-02T00:00:00",
          "2021-08-09T00:00:00",
          "2021-08-16T00:00:00",
          "2021-08-23T00:00:00",
          "2021-08-30T00:00:00",
          "2021-09-06T00:00:00",
          "2021-09-13T00:00:00",
          "2021-09-20T00:00:00",
          "2021-09-27T00:00:00",
          "2021-10-04T00:00:00",
          "2021-10-11T00:00:00",
          "2021-10-18T00:00:00",
          "2021-10-25T00:00:00",
          "2021-11-01T00:00:00",
          "2021-11-08T00:00:00",
          "2021-11-15T00:00:00",
          "2021-11-22T00:00:00",
          "2021-11-29T00:00:00",
          "2021-12-06T00:00:00",
          "2021-12-13T00:00:00",
          "2021-12-20T00:00:00",
          "2021-12-27T00:00:00",
          "2022-01-03T00:00:00",
          "2022-01-10T00:00:00",
          "2022-01-17T00:00:00",
          "2022-01-24T00:00:00",
          "2022-01-31T00:00:00",
          "2022-02-07T00:00:00",
          "2022-02-14T00:00:00",
          "2022-02-21T00:00:00",
          "2022-02-28T00:00:00",
          "2022-03-07T00:00:00",
          "2022-03-14T00:00:00",
          "2022-03-21T00:00:00",
          "2022-03-28T00:00:00",
          "2022-04-04T00:00:00",
          "2022-04-11T00:00:00",
          "2022-04-18T00:00:00",
          "2022-04-25T00:00:00",
          "2022-05-02T00:00:00",
          "2022-05-09T00:00:00",
          "2022-05-16T00:00:00",
          "2022-05-23T00:00:00",
          "2022-05-30T00:00:00",
          "2022-06-06T00:00:00",
          "2022-06-13T00:00:00",
          "2022-06-20T00:00:00",
          "2022-06-27T00:00:00",
          "2022-07-04T00:00:00",
          "2022-07-11T00:00:00",
          "2022-07-18T00:00:00",
          "2022-07-25T00:00:00",
          "2022-08-01T00:00:00",
          "2022-08-08T00:00:00",
          "2022-08-15T00:00:00",
          "2022-08-22T00:00:00",
          "2022-08-29T00:00:00",
          "2022-09-05T00:00:00",
          "2022-09-12T00:00:00",
          "2022-09-19T00:00:00",
          "2022-09-26T00:00:00",
          "2022-10-03T00:00:00",
          "2022-10-10T00:00:00",
          "2022-10-17T00:00:00",
          "2022-10-24T00:00:00",
          "2022-10-31T00:00:00",
          "2022-11-07T00:00:00",
          "2022-11-14T00:00:00",
          "2022-11-21T00:00:00",
          "2022-11-28T00:00:00",
          "2022-12-05T00:00:00",
          "2022-12-12T00:00:00",
          "2022-12-19T00:00:00",
          "2022-12-26T00:00:00",
          "2023-01-02T00:00:00",
          "2023-01-09T00:00:00",
          "2023-01-16T00:00:00",
          "2023-01-23T00:00:00",
          "2023-01-30T00:00:00",
          "2023-02-06T00:00:00",
          "2023-02-13T00:00:00",
          "2023-02-20T00:00:00",
          "2023-02-27T00:00:00",
          "2023-03-06T00:00:00",
          "2023-03-13T00:00:00",
          "2023-03-20T00:00:00",
          "2023-03-27T00:00:00",
          "2023-04-03T00:00:00",
          "2023-04-10T00:00:00",
          "2023-04-17T00:00:00",
          "2023-04-24T00:00:00",
          "2023-05-01T00:00:00",
          "2023-05-08T00:00:00",
          "2023-05-15T00:00:00",
          "2023-05-22T00:00:00",
          "2023-05-29T00:00:00",
          "2023-06-05T00:00:00",
          "2023-06-12T00:00:00",
          "2023-06-19T00:00:00",
          "2023-06-26T00:00:00",
          "2023-07-03T00:00:00",
          "2023-07-10T00:00:00",
          "2023-07-17T00:00:00",
          "2023-07-24T00:00:00",
          "2023-07-31T00:00:00",
          "2023-08-07T00:00:00",
          "2023-08-14T00:00:00",
          "2023-08-21T00:00:00",
          "2023-08-28T00:00:00",
          "2023-09-04T00:00:00",
          "2023-09-11T00:00:00",
          "2023-09-18T00:00:00",
          "2023-09-25T00:00:00",
          "2023-10-02T00:00:00",
          "2023-10-09T00:00:00",
          "2023-10-16T00:00:00",
          "2023-10-23T00:00:00",
          "2023-10-30T00:00:00",
          "2023-11-06T00:00:00",
          "2023-11-13T00:00:00",
          "2023-11-20T00:00:00",
          "2023-11-27T00:00:00",
          "2023-12-04T00:00:00",
          "2023-12-11T00:00:00",
          "2023-12-18T00:00:00",
          "2023-12-25T00:00:00",
          "2024-01-01T00:00:00",
          "2024-01-08T00:00:00",
          "2024-01-15T00:00:00",
          "2024-01-22T00:00:00",
          "2024-01-29T00:00:00",
          "2024-02-05T00:00:00",
          "2024-02-12T00:00:00",
          "2024-02-19T00:00:00",
          "2024-02-26T00:00:00",
          "2024-03-04T00:00:00",
          "2024-03-11T00:00:00",
          "2024-03-18T00:00:00",
          "2024-03-25T00:00:00",
          "2024-04-01T00:00:00",
          "2024-04-08T00:00:00",
          "2024-04-15T00:00:00",
          "2024-04-22T00:00:00",
          "2024-04-29T00:00:00",
          "2024-05-06T00:00:00",
          "2024-05-13T00:00:00",
          "2024-05-20T00:00:00",
          "2024-05-27T00:00:00",
          "2024-06-03T00:00:00",
          "2024-06-10T00:00:00",
          "2024-06-17T00:00:00",
          "2024-06-24T00:00:00",
          "2024-07-01T00:00:00",
          "2024-07-08T00:00:00",
          "2024-07-15T00:00:00",
          "2024-07-22T00:00:00",
          "2024-07-29T00:00:00",
          "2024-08-05T00:00:00",
          "2024-08-06T00:00:00"
         ],
         "xaxis": "x",
         "y": [
          0,
          -0.008554235665184984,
          -0.02679895584163372,
          -0.0484037583057253,
          0.02350265159924536,
          0.04942794213693125,
          0.08384467157586539,
          0.09157654461721476,
          0.060519120431345885,
          0.05411694587072058,
          0.034913898407799904,
          0.05043022149395182,
          0.03046936727454541,
          0.05791537391096224,
          0.08399423719533161,
          0.1332198611755412,
          0.15473450756984286,
          0.16038422972253852,
          0.1288165095894629,
          0.11883229948592833,
          0.10161225663699491,
          0.10664162276567712,
          0.12052435626829261,
          0.11554883574424013,
          0.14723136356369648,
          0.1546761618311404,
          0.17919311563615914,
          0.22367260858968152,
          0.2277369357765816,
          0.226912996160194,
          0.26301527124225654,
          0.2538802724587358,
          0.2657185697832575,
          0.2775908819192584,
          0.3119030940507216,
          0.3048791702821725,
          0.3045139160534731,
          0.29301920870021825,
          0.2889190531944079,
          0.2882779708455522,
          0.2587648340871549,
          0.2779715830380203,
          0.3143296105140494,
          0.333402568604932,
          0.4045171310619957,
          0.42244326186835757,
          0.42315485617799165,
          0.44413010768309835,
          0.4160412190146112,
          0.3832294015121689,
          0.43487311146226504,
          0.37431773595934936,
          0.42246647599953857,
          0.42213861171060973,
          0.34502510224743066,
          0.32751247475969925,
          0.28847542792419545,
          0.34579917638500035,
          0.336800960915004,
          0.2963005073426972,
          0.2664472570392302,
          0.2991139151395592,
          0.2794747631323422,
          0.25108949131985736,
          0.31725920863764157,
          0.3354597896447613,
          0.35438664542555776,
          0.29537155945345783,
          0.25123020949071717,
          0.23108035812864147,
          0.2472535908556247,
          0.21970689058603132,
          0.18230777115026864,
          0.16511287151631293,
          0.23180821348572211,
          0.2300836282187485,
          0.13102460745095645,
          0.15203555716194472,
          0.22376095212015445,
          0.17883351400498282,
          0.21588063337843844,
          0.19367098146034567,
          0.1984833009983631,
          0.26292777350494845,
          0.2853522940740505,
          0.30981986142383966,
          0.2791668943182233,
          0.22163009184609161,
          0.18533145097742487,
          0.22272405876748302,
          0.1350199513641629,
          0.11266667821012899,
          0.10574830922242495,
          0.09572324412901911,
          0.10760912370931563,
          0.1412788164241533,
          0.10025485750820595,
          0.04990411619122803,
          0.13999826234690194,
          0.1376840642202416,
          0.15694434378922606,
          0.18104216820265584,
          0.16294765743725026,
          0.15248091114574647,
          0.12732366354812086,
          0.1456730767815121,
          0.07725936624365104,
          0.12813154300545493,
          0.14128448189168707,
          0.15542794235205826,
          0.2083092487405741,
          0.2479301783175648,
          0.19875958273907868,
          0.19082187035466558,
          0.20654707773934877,
          0.1713327929941395,
          0.2908963250054639,
          0.30360478364526666,
          0.3250664200576441,
          0.3344549532998322,
          0.33694449806652793,
          0.30990350011548873,
          0.39810232037074844,
          0.40839649781331044,
          0.4050753139127521,
          0.43580970347086323,
          0.48800683016335067,
          0.48797697076742264,
          0.46816903978401503,
          0.5008247444063909,
          0.4843501448422407,
          0.5007411348958624,
          0.4872089072215413,
          0.5203230326553521,
          0.5208148558193668,
          0.49499443506416685,
          0.4696174376470017,
          0.4483609873849763,
          0.4375951831752808,
          0.46190874642632973,
          0.47216483037993695,
          0.4972103934023534,
          0.4692184508250641,
          0.43502079410593664,
          0.43404161737205493,
          0.4608216896288959,
          0.48022119014612064,
          0.46336577018532843,
          0.4877612671946583,
          0.5478674677429514,
          0.5896555240551986,
          0.5978028272708158,
          0.6127804619357329,
          0.5923972337902286,
          0.5907174854647473,
          0.5933499246521722,
          0.6083722216059985,
          0.6053321825434984,
          0.5931351094753398,
          0.6590977866330682,
          0.6752538230411292,
          0.690353089854807,
          0.6998098114254575,
          0.7258161637573423,
          0.6846329617772118,
          0.7050178477502658,
          0.7098300069575949,
          0.6864167121176667,
          0.7123974679643497,
          0.7389273176550557,
          0.7358937882199883,
          0.738771488858212,
          0.7421348320635632,
          0.679968823737687,
          0.6928912732509184,
          0.7015526175214305,
          0.7241820327749035,
          0.7294450208327411,
          0.7518624159906128,
          0.7190434649321047,
          0.7411116993668583,
          0.7832355129214914,
          0.7995259657440486,
          0.7969915411958112,
          0.8368657978374451,
          0.8084658399622352,
          0.7830743121484208,
          0.7599637352336465,
          0.6616969609066818,
          0.690129192430303
         ],
         "yaxis": "y"
        },
        {
         "hovertemplate": "variable=^VIX<br>date=%{x}<br>value=%{y}<extra></extra>",
         "legendgroup": "^VIX",
         "marker": {
          "color": "#ab63fa",
          "symbol": "circle"
         },
         "mode": "markers+lines",
         "name": "^VIX",
         "orientation": "v",
         "showlegend": true,
         "type": "scatter",
         "x": [
          "2020-12-28T00:00:00",
          "2021-01-04T00:00:00",
          "2021-01-11T00:00:00",
          "2021-01-18T00:00:00",
          "2021-01-25T00:00:00",
          "2021-02-01T00:00:00",
          "2021-02-08T00:00:00",
          "2021-02-15T00:00:00",
          "2021-02-22T00:00:00",
          "2021-03-01T00:00:00",
          "2021-03-08T00:00:00",
          "2021-03-15T00:00:00",
          "2021-03-22T00:00:00",
          "2021-03-29T00:00:00",
          "2021-04-05T00:00:00",
          "2021-04-12T00:00:00",
          "2021-04-19T00:00:00",
          "2021-04-26T00:00:00",
          "2021-05-03T00:00:00",
          "2021-05-10T00:00:00",
          "2021-05-17T00:00:00",
          "2021-05-24T00:00:00",
          "2021-05-31T00:00:00",
          "2021-06-07T00:00:00",
          "2021-06-14T00:00:00",
          "2021-06-21T00:00:00",
          "2021-06-28T00:00:00",
          "2021-07-05T00:00:00",
          "2021-07-12T00:00:00",
          "2021-07-19T00:00:00",
          "2021-07-26T00:00:00",
          "2021-08-02T00:00:00",
          "2021-08-09T00:00:00",
          "2021-08-16T00:00:00",
          "2021-08-23T00:00:00",
          "2021-08-30T00:00:00",
          "2021-09-06T00:00:00",
          "2021-09-13T00:00:00",
          "2021-09-20T00:00:00",
          "2021-09-27T00:00:00",
          "2021-10-04T00:00:00",
          "2021-10-11T00:00:00",
          "2021-10-18T00:00:00",
          "2021-10-25T00:00:00",
          "2021-11-01T00:00:00",
          "2021-11-08T00:00:00",
          "2021-11-15T00:00:00",
          "2021-11-22T00:00:00",
          "2021-11-29T00:00:00",
          "2021-12-06T00:00:00",
          "2021-12-13T00:00:00",
          "2021-12-20T00:00:00",
          "2021-12-27T00:00:00",
          "2022-01-03T00:00:00",
          "2022-01-10T00:00:00",
          "2022-01-17T00:00:00",
          "2022-01-24T00:00:00",
          "2022-01-31T00:00:00",
          "2022-02-07T00:00:00",
          "2022-02-14T00:00:00",
          "2022-02-21T00:00:00",
          "2022-02-28T00:00:00",
          "2022-03-07T00:00:00",
          "2022-03-14T00:00:00",
          "2022-03-21T00:00:00",
          "2022-03-28T00:00:00",
          "2022-04-04T00:00:00",
          "2022-04-11T00:00:00",
          "2022-04-18T00:00:00",
          "2022-04-25T00:00:00",
          "2022-05-02T00:00:00",
          "2022-05-09T00:00:00",
          "2022-05-16T00:00:00",
          "2022-05-23T00:00:00",
          "2022-05-30T00:00:00",
          "2022-06-06T00:00:00",
          "2022-06-13T00:00:00",
          "2022-06-20T00:00:00",
          "2022-06-27T00:00:00",
          "2022-07-04T00:00:00",
          "2022-07-11T00:00:00",
          "2022-07-18T00:00:00",
          "2022-07-25T00:00:00",
          "2022-08-01T00:00:00",
          "2022-08-08T00:00:00",
          "2022-08-15T00:00:00",
          "2022-08-22T00:00:00",
          "2022-08-29T00:00:00",
          "2022-09-05T00:00:00",
          "2022-09-12T00:00:00",
          "2022-09-19T00:00:00",
          "2022-09-26T00:00:00",
          "2022-10-03T00:00:00",
          "2022-10-10T00:00:00",
          "2022-10-17T00:00:00",
          "2022-10-24T00:00:00",
          "2022-10-31T00:00:00",
          "2022-11-07T00:00:00",
          "2022-11-14T00:00:00",
          "2022-11-21T00:00:00",
          "2022-11-28T00:00:00",
          "2022-12-05T00:00:00",
          "2022-12-12T00:00:00",
          "2022-12-19T00:00:00",
          "2022-12-26T00:00:00",
          "2023-01-02T00:00:00",
          "2023-01-09T00:00:00",
          "2023-01-16T00:00:00",
          "2023-01-23T00:00:00",
          "2023-01-30T00:00:00",
          "2023-02-06T00:00:00",
          "2023-02-13T00:00:00",
          "2023-02-20T00:00:00",
          "2023-02-27T00:00:00",
          "2023-03-06T00:00:00",
          "2023-03-13T00:00:00",
          "2023-03-20T00:00:00",
          "2023-03-27T00:00:00",
          "2023-04-03T00:00:00",
          "2023-04-10T00:00:00",
          "2023-04-17T00:00:00",
          "2023-04-24T00:00:00",
          "2023-05-01T00:00:00",
          "2023-05-08T00:00:00",
          "2023-05-15T00:00:00",
          "2023-05-22T00:00:00",
          "2023-05-29T00:00:00",
          "2023-06-05T00:00:00",
          "2023-06-12T00:00:00",
          "2023-06-19T00:00:00",
          "2023-06-26T00:00:00",
          "2023-07-03T00:00:00",
          "2023-07-10T00:00:00",
          "2023-07-17T00:00:00",
          "2023-07-24T00:00:00",
          "2023-07-31T00:00:00",
          "2023-08-07T00:00:00",
          "2023-08-14T00:00:00",
          "2023-08-21T00:00:00",
          "2023-08-28T00:00:00",
          "2023-09-04T00:00:00",
          "2023-09-11T00:00:00",
          "2023-09-18T00:00:00",
          "2023-09-25T00:00:00",
          "2023-10-02T00:00:00",
          "2023-10-09T00:00:00",
          "2023-10-16T00:00:00",
          "2023-10-23T00:00:00",
          "2023-10-30T00:00:00",
          "2023-11-06T00:00:00",
          "2023-11-13T00:00:00",
          "2023-11-20T00:00:00",
          "2023-11-27T00:00:00",
          "2023-12-04T00:00:00",
          "2023-12-11T00:00:00",
          "2023-12-18T00:00:00",
          "2023-12-25T00:00:00",
          "2024-01-01T00:00:00",
          "2024-01-08T00:00:00",
          "2024-01-15T00:00:00",
          "2024-01-22T00:00:00",
          "2024-01-29T00:00:00",
          "2024-02-05T00:00:00",
          "2024-02-12T00:00:00",
          "2024-02-19T00:00:00",
          "2024-02-26T00:00:00",
          "2024-03-04T00:00:00",
          "2024-03-11T00:00:00",
          "2024-03-18T00:00:00",
          "2024-03-25T00:00:00",
          "2024-04-01T00:00:00",
          "2024-04-08T00:00:00",
          "2024-04-15T00:00:00",
          "2024-04-22T00:00:00",
          "2024-04-29T00:00:00",
          "2024-05-06T00:00:00",
          "2024-05-13T00:00:00",
          "2024-05-20T00:00:00",
          "2024-05-27T00:00:00",
          "2024-06-03T00:00:00",
          "2024-06-10T00:00:00",
          "2024-06-17T00:00:00",
          "2024-06-24T00:00:00",
          "2024-07-01T00:00:00",
          "2024-07-08T00:00:00",
          "2024-07-15T00:00:00",
          "2024-07-22T00:00:00",
          "2024-07-29T00:00:00",
          "2024-08-05T00:00:00",
          "2024-08-06T00:00:00"
         ],
         "xaxis": "x",
         "y": [
          0,
          0.04206242783821401,
          0.05378111445654121,
          0.04176915453753849,
          0.010505533207269324,
          0.4201873582090968,
          0.11621275911921436,
          0.08149369790072791,
          0.23908953585462034,
          0.2693430806692052,
          0.364977992353668,
          0.15599572758687985,
          0.15920084179636518,
          0.09028252872480258,
          0.09028252872480258,
          0.09028252872480258,
          0.09028252872480258,
          0.09028252872480258,
          0.09028252872480258,
          0.09028252872480258,
          0.09028252872480258,
          0.09518450830027736,
          0.09518450830027736,
          0.09518450830027736,
          0.09518450830027736,
          0.15567230201335858,
          0.15567230201335858,
          0.15567230201335858,
          0.15567230201335858,
          0.15567230201335858,
          0.15567230201335858,
          0.15567230201335858,
          0.15567230201335858,
          0.15567230201335858,
          0.15567230201335858,
          0.15567230201335858,
          0.15567230201335858,
          0.15567230201335858,
          0.2711276955417614,
          0.2711276955417614,
          0.21545757671826749,
          0.21545757671826749,
          0.21545757671826749,
          0.21545757671826749,
          0.21545757671826749,
          0.21545757671826749,
          0.21545757671826749,
          0.21545757671826749,
          0.32069774648062765,
          0.4660948378605646,
          0.4660948378605646,
          0.3591613985385622,
          0.3591613985385622,
          0.3591613985385622,
          0.3591613985385622,
          0.177237907016355,
          0.5086826830604887,
          0.5143564363613178,
          0.3637922485663042,
          0.5746681261723211,
          0.6648292216089976,
          0.6849549890619279,
          0.7909969923613355,
          0.6558241875372107,
          0.46600784313951393,
          0.3466760979989285,
          0.28389382934636787,
          0.3966649210373506,
          0.4585965059540146,
          0.6837188695229718,
          0.793905203002171,
          0.750426974458443,
          0.6911793439803986,
          0.6568574286591775,
          0.6047525200072255,
          0.5283055405163966,
          0.7648053356098721,
          0.7412158660953765,
          0.665146653312292,
          0.6322845182275227,
          0.5975749554284716,
          0.5373932692817497,
          0.5172563380881804,
          0.43834141485288747,
          0.408444043998094,
          0.36244588344022166,
          0.4429666208907367,
          0.6415387223293422,
          0.5894165520364881,
          0.5155752626268133,
          0.6898755435279846,
          0.8361377016698455,
          0.8758352517003396,
          0.8737140488268784,
          0.8536715392217882,
          0.803470088454729,
          0.6814472559044458,
          0.6353677398082236,
          0.5699216821462585,
          0.5724227020093189,
          0.49092585599477356,
          0.4098936738687974,
          0.6118641436008646,
          0.5393231400993945,
          0.4969016146873655,
          0.5624299982265684,
          0.5043962111441674,
          0.5043962111441674,
          0.43359157134980686,
          0.43359157134980686,
          0.43359157134980686,
          0.5053382724198474,
          0.5118017715257888,
          0.5205173926591424,
          0.5205173926591424,
          0.614196314322798,
          0.7688741246642918,
          0.5628964103533804,
          0.5628964103533804,
          0.5628964103533804,
          0.5628964103533804,
          0.5628964103533804,
          0.5628964103533804,
          0.5628964103533804,
          0.5628964103533804,
          0.5628964103533804,
          0.5628964103533804,
          0.5628964103533804,
          0.5628964103533804,
          0.5628964103533804,
          0.5628964103533804,
          0.5628964103533804,
          0.5628964103533804,
          0.5628964103533804,
          0.5628964103533804,
          0.5628964103533804,
          0.5628964103533804,
          0.5628964103533804,
          0.5628964103533804,
          0.5628964103533804,
          0.5628964103533804,
          0.5628964103533804,
          0.5628964103533804,
          0.5628964103533804,
          0.5628964103533804,
          0.5628964103533804,
          0.5628964103533804,
          0.5529191168855091,
          0.5208531175549597,
          0.5208531175549597,
          0.5208531175549597,
          0.5208531175549597,
          0.5208531175549597,
          0.5208531175549597,
          0.5208531175549597,
          0.5208531175549597,
          0.5208531175549597,
          0.5208531175549597,
          0.5208531175549597,
          0.5208531175549597,
          0.5208531175549597,
          0.5208531175549597,
          0.5208531175549597,
          0.5208531175549597,
          0.5208531175549597,
          0.5208531175549597,
          0.5208531175549597,
          0.5208531175549597,
          0.5208531175549597,
          0.5208531175549597,
          0.5208531175549597,
          0.5208531175549597,
          0.5208531175549597,
          0.5208531175549597,
          0.5208531175549597,
          0.5208531175549597,
          0.5208531175549597,
          0.5208531175549597,
          0.5208531175549597,
          0.5208531175549597,
          0.5208531175549597,
          0.5208531175549597,
          0.5208531175549597,
          0.5208531175549597,
          0.5208531175549597,
          0.5208531175549597,
          0.5208531175549597,
          0.5208531175549597,
          0.6278100659053468,
          0.6278100659053468
         ],
         "yaxis": "y"
        }
       ],
       "layout": {
        "autosize": true,
        "legend": {
         "title": {
          "text": "variable"
         },
         "tracegroupgap": 0
        },
        "margin": {
         "t": 60
        },
        "template": {
         "data": {
          "bar": [
           {
            "error_x": {
             "color": "#2a3f5f"
            },
            "error_y": {
             "color": "#2a3f5f"
            },
            "marker": {
             "line": {
              "color": "#E5ECF6",
              "width": 0.5
             },
             "pattern": {
              "fillmode": "overlay",
              "size": 10,
              "solidity": 0.2
             }
            },
            "type": "bar"
           }
          ],
          "barpolar": [
           {
            "marker": {
             "line": {
              "color": "#E5ECF6",
              "width": 0.5
             },
             "pattern": {
              "fillmode": "overlay",
              "size": 10,
              "solidity": 0.2
             }
            },
            "type": "barpolar"
           }
          ],
          "carpet": [
           {
            "aaxis": {
             "endlinecolor": "#2a3f5f",
             "gridcolor": "white",
             "linecolor": "white",
             "minorgridcolor": "white",
             "startlinecolor": "#2a3f5f"
            },
            "baxis": {
             "endlinecolor": "#2a3f5f",
             "gridcolor": "white",
             "linecolor": "white",
             "minorgridcolor": "white",
             "startlinecolor": "#2a3f5f"
            },
            "type": "carpet"
           }
          ],
          "choropleth": [
           {
            "colorbar": {
             "outlinewidth": 0,
             "ticks": ""
            },
            "type": "choropleth"
           }
          ],
          "contour": [
           {
            "colorbar": {
             "outlinewidth": 0,
             "ticks": ""
            },
            "colorscale": [
             [
              0,
              "#0d0887"
             ],
             [
              0.1111111111111111,
              "#46039f"
             ],
             [
              0.2222222222222222,
              "#7201a8"
             ],
             [
              0.3333333333333333,
              "#9c179e"
             ],
             [
              0.4444444444444444,
              "#bd3786"
             ],
             [
              0.5555555555555556,
              "#d8576b"
             ],
             [
              0.6666666666666666,
              "#ed7953"
             ],
             [
              0.7777777777777778,
              "#fb9f3a"
             ],
             [
              0.8888888888888888,
              "#fdca26"
             ],
             [
              1,
              "#f0f921"
             ]
            ],
            "type": "contour"
           }
          ],
          "contourcarpet": [
           {
            "colorbar": {
             "outlinewidth": 0,
             "ticks": ""
            },
            "type": "contourcarpet"
           }
          ],
          "heatmap": [
           {
            "colorbar": {
             "outlinewidth": 0,
             "ticks": ""
            },
            "colorscale": [
             [
              0,
              "#0d0887"
             ],
             [
              0.1111111111111111,
              "#46039f"
             ],
             [
              0.2222222222222222,
              "#7201a8"
             ],
             [
              0.3333333333333333,
              "#9c179e"
             ],
             [
              0.4444444444444444,
              "#bd3786"
             ],
             [
              0.5555555555555556,
              "#d8576b"
             ],
             [
              0.6666666666666666,
              "#ed7953"
             ],
             [
              0.7777777777777778,
              "#fb9f3a"
             ],
             [
              0.8888888888888888,
              "#fdca26"
             ],
             [
              1,
              "#f0f921"
             ]
            ],
            "type": "heatmap"
           }
          ],
          "heatmapgl": [
           {
            "colorbar": {
             "outlinewidth": 0,
             "ticks": ""
            },
            "colorscale": [
             [
              0,
              "#0d0887"
             ],
             [
              0.1111111111111111,
              "#46039f"
             ],
             [
              0.2222222222222222,
              "#7201a8"
             ],
             [
              0.3333333333333333,
              "#9c179e"
             ],
             [
              0.4444444444444444,
              "#bd3786"
             ],
             [
              0.5555555555555556,
              "#d8576b"
             ],
             [
              0.6666666666666666,
              "#ed7953"
             ],
             [
              0.7777777777777778,
              "#fb9f3a"
             ],
             [
              0.8888888888888888,
              "#fdca26"
             ],
             [
              1,
              "#f0f921"
             ]
            ],
            "type": "heatmapgl"
           }
          ],
          "histogram": [
           {
            "marker": {
             "pattern": {
              "fillmode": "overlay",
              "size": 10,
              "solidity": 0.2
             }
            },
            "type": "histogram"
           }
          ],
          "histogram2d": [
           {
            "colorbar": {
             "outlinewidth": 0,
             "ticks": ""
            },
            "colorscale": [
             [
              0,
              "#0d0887"
             ],
             [
              0.1111111111111111,
              "#46039f"
             ],
             [
              0.2222222222222222,
              "#7201a8"
             ],
             [
              0.3333333333333333,
              "#9c179e"
             ],
             [
              0.4444444444444444,
              "#bd3786"
             ],
             [
              0.5555555555555556,
              "#d8576b"
             ],
             [
              0.6666666666666666,
              "#ed7953"
             ],
             [
              0.7777777777777778,
              "#fb9f3a"
             ],
             [
              0.8888888888888888,
              "#fdca26"
             ],
             [
              1,
              "#f0f921"
             ]
            ],
            "type": "histogram2d"
           }
          ],
          "histogram2dcontour": [
           {
            "colorbar": {
             "outlinewidth": 0,
             "ticks": ""
            },
            "colorscale": [
             [
              0,
              "#0d0887"
             ],
             [
              0.1111111111111111,
              "#46039f"
             ],
             [
              0.2222222222222222,
              "#7201a8"
             ],
             [
              0.3333333333333333,
              "#9c179e"
             ],
             [
              0.4444444444444444,
              "#bd3786"
             ],
             [
              0.5555555555555556,
              "#d8576b"
             ],
             [
              0.6666666666666666,
              "#ed7953"
             ],
             [
              0.7777777777777778,
              "#fb9f3a"
             ],
             [
              0.8888888888888888,
              "#fdca26"
             ],
             [
              1,
              "#f0f921"
             ]
            ],
            "type": "histogram2dcontour"
           }
          ],
          "mesh3d": [
           {
            "colorbar": {
             "outlinewidth": 0,
             "ticks": ""
            },
            "type": "mesh3d"
           }
          ],
          "parcoords": [
           {
            "line": {
             "colorbar": {
              "outlinewidth": 0,
              "ticks": ""
             }
            },
            "type": "parcoords"
           }
          ],
          "pie": [
           {
            "automargin": true,
            "type": "pie"
           }
          ],
          "scatter": [
           {
            "fillpattern": {
             "fillmode": "overlay",
             "size": 10,
             "solidity": 0.2
            },
            "type": "scatter"
           }
          ],
          "scatter3d": [
           {
            "line": {
             "colorbar": {
              "outlinewidth": 0,
              "ticks": ""
             }
            },
            "marker": {
             "colorbar": {
              "outlinewidth": 0,
              "ticks": ""
             }
            },
            "type": "scatter3d"
           }
          ],
          "scattercarpet": [
           {
            "marker": {
             "colorbar": {
              "outlinewidth": 0,
              "ticks": ""
             }
            },
            "type": "scattercarpet"
           }
          ],
          "scattergeo": [
           {
            "marker": {
             "colorbar": {
              "outlinewidth": 0,
              "ticks": ""
             }
            },
            "type": "scattergeo"
           }
          ],
          "scattergl": [
           {
            "marker": {
             "colorbar": {
              "outlinewidth": 0,
              "ticks": ""
             }
            },
            "type": "scattergl"
           }
          ],
          "scattermapbox": [
           {
            "marker": {
             "colorbar": {
              "outlinewidth": 0,
              "ticks": ""
             }
            },
            "type": "scattermapbox"
           }
          ],
          "scatterpolar": [
           {
            "marker": {
             "colorbar": {
              "outlinewidth": 0,
              "ticks": ""
             }
            },
            "type": "scatterpolar"
           }
          ],
          "scatterpolargl": [
           {
            "marker": {
             "colorbar": {
              "outlinewidth": 0,
              "ticks": ""
             }
            },
            "type": "scatterpolargl"
           }
          ],
          "scatterternary": [
           {
            "marker": {
             "colorbar": {
              "outlinewidth": 0,
              "ticks": ""
             }
            },
            "type": "scatterternary"
           }
          ],
          "surface": [
           {
            "colorbar": {
             "outlinewidth": 0,
             "ticks": ""
            },
            "colorscale": [
             [
              0,
              "#0d0887"
             ],
             [
              0.1111111111111111,
              "#46039f"
             ],
             [
              0.2222222222222222,
              "#7201a8"
             ],
             [
              0.3333333333333333,
              "#9c179e"
             ],
             [
              0.4444444444444444,
              "#bd3786"
             ],
             [
              0.5555555555555556,
              "#d8576b"
             ],
             [
              0.6666666666666666,
              "#ed7953"
             ],
             [
              0.7777777777777778,
              "#fb9f3a"
             ],
             [
              0.8888888888888888,
              "#fdca26"
             ],
             [
              1,
              "#f0f921"
             ]
            ],
            "type": "surface"
           }
          ],
          "table": [
           {
            "cells": {
             "fill": {
              "color": "#EBF0F8"
             },
             "line": {
              "color": "white"
             }
            },
            "header": {
             "fill": {
              "color": "#C8D4E3"
             },
             "line": {
              "color": "white"
             }
            },
            "type": "table"
           }
          ]
         },
         "layout": {
          "annotationdefaults": {
           "arrowcolor": "#2a3f5f",
           "arrowhead": 0,
           "arrowwidth": 1
          },
          "autotypenumbers": "strict",
          "coloraxis": {
           "colorbar": {
            "outlinewidth": 0,
            "ticks": ""
           }
          },
          "colorscale": {
           "diverging": [
            [
             0,
             "#8e0152"
            ],
            [
             0.1,
             "#c51b7d"
            ],
            [
             0.2,
             "#de77ae"
            ],
            [
             0.3,
             "#f1b6da"
            ],
            [
             0.4,
             "#fde0ef"
            ],
            [
             0.5,
             "#f7f7f7"
            ],
            [
             0.6,
             "#e6f5d0"
            ],
            [
             0.7,
             "#b8e186"
            ],
            [
             0.8,
             "#7fbc41"
            ],
            [
             0.9,
             "#4d9221"
            ],
            [
             1,
             "#276419"
            ]
           ],
           "sequential": [
            [
             0,
             "#0d0887"
            ],
            [
             0.1111111111111111,
             "#46039f"
            ],
            [
             0.2222222222222222,
             "#7201a8"
            ],
            [
             0.3333333333333333,
             "#9c179e"
            ],
            [
             0.4444444444444444,
             "#bd3786"
            ],
            [
             0.5555555555555556,
             "#d8576b"
            ],
            [
             0.6666666666666666,
             "#ed7953"
            ],
            [
             0.7777777777777778,
             "#fb9f3a"
            ],
            [
             0.8888888888888888,
             "#fdca26"
            ],
            [
             1,
             "#f0f921"
            ]
           ],
           "sequentialminus": [
            [
             0,
             "#0d0887"
            ],
            [
             0.1111111111111111,
             "#46039f"
            ],
            [
             0.2222222222222222,
             "#7201a8"
            ],
            [
             0.3333333333333333,
             "#9c179e"
            ],
            [
             0.4444444444444444,
             "#bd3786"
            ],
            [
             0.5555555555555556,
             "#d8576b"
            ],
            [
             0.6666666666666666,
             "#ed7953"
            ],
            [
             0.7777777777777778,
             "#fb9f3a"
            ],
            [
             0.8888888888888888,
             "#fdca26"
            ],
            [
             1,
             "#f0f921"
            ]
           ]
          },
          "colorway": [
           "#636efa",
           "#EF553B",
           "#00cc96",
           "#ab63fa",
           "#FFA15A",
           "#19d3f3",
           "#FF6692",
           "#B6E880",
           "#FF97FF",
           "#FECB52"
          ],
          "font": {
           "color": "#2a3f5f"
          },
          "geo": {
           "bgcolor": "white",
           "lakecolor": "white",
           "landcolor": "#E5ECF6",
           "showlakes": true,
           "showland": true,
           "subunitcolor": "white"
          },
          "hoverlabel": {
           "align": "left"
          },
          "hovermode": "closest",
          "mapbox": {
           "style": "light"
          },
          "paper_bgcolor": "white",
          "plot_bgcolor": "#E5ECF6",
          "polar": {
           "angularaxis": {
            "gridcolor": "white",
            "linecolor": "white",
            "ticks": ""
           },
           "bgcolor": "#E5ECF6",
           "radialaxis": {
            "gridcolor": "white",
            "linecolor": "white",
            "ticks": ""
           }
          },
          "scene": {
           "xaxis": {
            "backgroundcolor": "#E5ECF6",
            "gridcolor": "white",
            "gridwidth": 2,
            "linecolor": "white",
            "showbackground": true,
            "ticks": "",
            "zerolinecolor": "white"
           },
           "yaxis": {
            "backgroundcolor": "#E5ECF6",
            "gridcolor": "white",
            "gridwidth": 2,
            "linecolor": "white",
            "showbackground": true,
            "ticks": "",
            "zerolinecolor": "white"
           },
           "zaxis": {
            "backgroundcolor": "#E5ECF6",
            "gridcolor": "white",
            "gridwidth": 2,
            "linecolor": "white",
            "showbackground": true,
            "ticks": "",
            "zerolinecolor": "white"
           }
          },
          "shapedefaults": {
           "line": {
            "color": "#2a3f5f"
           }
          },
          "ternary": {
           "aaxis": {
            "gridcolor": "white",
            "linecolor": "white",
            "ticks": ""
           },
           "baxis": {
            "gridcolor": "white",
            "linecolor": "white",
            "ticks": ""
           },
           "bgcolor": "#E5ECF6",
           "caxis": {
            "gridcolor": "white",
            "linecolor": "white",
            "ticks": ""
           }
          },
          "title": {
           "x": 0.05
          },
          "xaxis": {
           "automargin": true,
           "gridcolor": "white",
           "linecolor": "white",
           "ticks": "",
           "title": {
            "standoff": 15
           },
           "zerolinecolor": "white",
           "zerolinewidth": 2
          },
          "yaxis": {
           "automargin": true,
           "gridcolor": "white",
           "linecolor": "white",
           "ticks": "",
           "title": {
            "standoff": 15
           },
           "zerolinecolor": "white",
           "zerolinewidth": 2
          }
         }
        },
        "xaxis": {
         "anchor": "y",
         "autorange": true,
         "domain": [
          0,
          1
         ],
         "range": [
          "2020-10-09 01:20:49.7962",
          "2024-10-24 22:39:10.2038"
         ],
         "title": {
          "text": "date"
         },
         "type": "date"
        },
        "yaxis": {
         "anchor": "x",
         "autorange": true,
         "domain": [
          0,
          1
         ],
         "range": [
          -0.675326784058242,
          3.038782680244013
         ],
         "title": {
          "text": "value"
         },
         "type": "linear"
        }
       }
      },
      "image/png": "[encoded data removed]",
      "text/html": [
       "<div>                            <div id=\"34cd4b56-d0a9-4814-a7b9-9cfee07ccd00\" class=\"plotly-graph-div\" style=\"height:525px; width:100%;\"></div>            <script type=\"text/javascript\">                require([\"plotly\"], function(Plotly) {                    window.PLOTLYENV=window.PLOTLYENV || {};                                    if (document.getElementById(\"34cd4b56-d0a9-4814-a7b9-9cfee07ccd00\")) {                    Plotly.newPlot(                        \"34cd4b56-d0a9-4814-a7b9-9cfee07ccd00\",                        [{\"hovertemplate\":\"variable=TQQQ\\u003cbr\\u003edate=%{x}\\u003cbr\\u003evalue=%{y}\\u003cextra\\u003e\\u003c\\u002fextra\\u003e\",\"legendgroup\":\"TQQQ\",\"marker\":{\"color\":\"#636efa\",\"symbol\":\"circle\"},\"mode\":\"markers+lines\",\"name\":\"TQQQ\",\"orientation\":\"v\",\"showlegend\":true,\"x\":[\"2020-12-28T00:00:00\",\"2021-01-04T00:00:00\",\"2021-01-11T00:00:00\",\"2021-01-18T00:00:00\",\"2021-01-25T00:00:00\",\"2021-02-01T00:00:00\",\"2021-02-08T00:00:00\",\"2021-02-15T00:00:00\",\"2021-02-22T00:00:00\",\"2021-03-01T00:00:00\",\"2021-03-08T00:00:00\",\"2021-03-15T00:00:00\",\"2021-03-22T00:00:00\",\"2021-03-29T00:00:00\",\"2021-04-05T00:00:00\",\"2021-04-12T00:00:00\",\"2021-04-19T00:00:00\",\"2021-04-26T00:00:00\",\"2021-05-03T00:00:00\",\"2021-05-10T00:00:00\",\"2021-05-17T00:00:00\",\"2021-05-24T00:00:00\",\"2021-05-31T00:00:00\",\"2021-06-07T00:00:00\",\"2021-06-14T00:00:00\",\"2021-06-21T00:00:00\",\"2021-06-28T00:00:00\",\"2021-07-05T00:00:00\",\"2021-07-12T00:00:00\",\"2021-07-19T00:00:00\",\"2021-07-26T00:00:00\",\"2021-08-02T00:00:00\",\"2021-08-09T00:00:00\",\"2021-08-16T00:00:00\",\"2021-08-23T00:00:00\",\"2021-08-30T00:00:00\",\"2021-09-06T00:00:00\",\"2021-09-13T00:00:00\",\"2021-09-20T00:00:00\",\"2021-09-27T00:00:00\",\"2021-10-04T00:00:00\",\"2021-10-11T00:00:00\",\"2021-10-18T00:00:00\",\"2021-10-25T00:00:00\",\"2021-11-01T00:00:00\",\"2021-11-08T00:00:00\",\"2021-11-15T00:00:00\",\"2021-11-22T00:00:00\",\"2021-11-29T00:00:00\",\"2021-12-06T00:00:00\",\"2021-12-13T00:00:00\",\"2021-12-20T00:00:00\",\"2021-12-27T00:00:00\",\"2022-01-03T00:00:00\",\"2022-01-10T00:00:00\",\"2022-01-17T00:00:00\",\"2022-01-24T00:00:00\",\"2022-01-31T00:00:00\",\"2022-02-07T00:00:00\",\"2022-02-14T00:00:00\",\"2022-02-21T00:00:00\",\"2022-02-28T00:00:00\",\"2022-03-07T00:00:00\",\"2022-03-14T00:00:00\",\"2022-03-21T00:00:00\",\"2022-03-28T00:00:00\",\"2022-04-04T00:00:00\",\"2022-04-11T00:00:00\",\"2022-04-18T00:00:00\",\"2022-04-25T00:00:00\",\"2022-05-02T00:00:00\",\"2022-05-09T00:00:00\",\"2022-05-16T00:00:00\",\"2022-05-23T00:00:00\",\"2022-05-30T00:00:00\",\"2022-06-06T00:00:00\",\"2022-06-13T00:00:00\",\"2022-06-20T00:00:00\",\"2022-06-27T00:00:00\",\"2022-07-04T00:00:00\",\"2022-07-11T00:00:00\",\"2022-07-18T00:00:00\",\"2022-07-25T00:00:00\",\"2022-08-01T00:00:00\",\"2022-08-08T00:00:00\",\"2022-08-15T00:00:00\",\"2022-08-22T00:00:00\",\"2022-08-29T00:00:00\",\"2022-09-05T00:00:00\",\"2022-09-12T00:00:00\",\"2022-09-19T00:00:00\",\"2022-09-26T00:00:00\",\"2022-10-03T00:00:00\",\"2022-10-10T00:00:00\",\"2022-10-17T00:00:00\",\"2022-10-24T00:00:00\",\"2022-10-31T00:00:00\",\"2022-11-07T00:00:00\",\"2022-11-14T00:00:00\",\"2022-11-21T00:00:00\",\"2022-11-28T00:00:00\",\"2022-12-05T00:00:00\",\"2022-12-12T00:00:00\",\"2022-12-19T00:00:00\",\"2022-12-26T00:00:00\",\"2023-01-02T00:00:00\",\"2023-01-09T00:00:00\",\"2023-01-16T00:00:00\",\"2023-01-23T00:00:00\",\"2023-01-30T00:00:00\",\"2023-02-06T00:00:00\",\"2023-02-13T00:00:00\",\"2023-02-20T00:00:00\",\"2023-02-27T00:00:00\",\"2023-03-06T00:00:00\",\"2023-03-13T00:00:00\",\"2023-03-20T00:00:00\",\"2023-03-27T00:00:00\",\"2023-04-03T00:00:00\",\"2023-04-10T00:00:00\",\"2023-04-17T00:00:00\",\"2023-04-24T00:00:00\",\"2023-05-01T00:00:00\",\"2023-05-08T00:00:00\",\"2023-05-15T00:00:00\",\"2023-05-22T00:00:00\",\"2023-05-29T00:00:00\",\"2023-06-05T00:00:00\",\"2023-06-12T00:00:00\",\"2023-06-19T00:00:00\",\"2023-06-26T00:00:00\",\"2023-07-03T00:00:00\",\"2023-07-10T00:00:00\",\"2023-07-17T00:00:00\",\"2023-07-24T00:00:00\",\"2023-07-31T00:00:00\",\"2023-08-07T00:00:00\",\"2023-08-14T00:00:00\",\"2023-08-21T00:00:00\",\"2023-08-28T00:00:00\",\"2023-09-04T00:00:00\",\"2023-09-11T00:00:00\",\"2023-09-18T00:00:00\",\"2023-09-25T00:00:00\",\"2023-10-02T00:00:00\",\"2023-10-09T00:00:00\",\"2023-10-16T00:00:00\",\"2023-10-23T00:00:00\",\"2023-10-30T00:00:00\",\"2023-11-06T00:00:00\",\"2023-11-13T00:00:00\",\"2023-11-20T00:00:00\",\"2023-11-27T00:00:00\",\"2023-12-04T00:00:00\",\"2023-12-11T00:00:00\",\"2023-12-18T00:00:00\",\"2023-12-25T00:00:00\",\"2024-01-01T00:00:00\",\"2024-01-08T00:00:00\",\"2024-01-15T00:00:00\",\"2024-01-22T00:00:00\",\"2024-01-29T00:00:00\",\"2024-02-05T00:00:00\",\"2024-02-12T00:00:00\",\"2024-02-19T00:00:00\",\"2024-02-26T00:00:00\",\"2024-03-04T00:00:00\",\"2024-03-11T00:00:00\",\"2024-03-18T00:00:00\",\"2024-03-25T00:00:00\",\"2024-04-01T00:00:00\",\"2024-04-08T00:00:00\",\"2024-04-15T00:00:00\",\"2024-04-22T00:00:00\",\"2024-04-29T00:00:00\",\"2024-05-06T00:00:00\",\"2024-05-13T00:00:00\",\"2024-05-20T00:00:00\",\"2024-05-27T00:00:00\",\"2024-06-03T00:00:00\",\"2024-06-10T00:00:00\",\"2024-06-17T00:00:00\",\"2024-06-24T00:00:00\",\"2024-07-01T00:00:00\",\"2024-07-08T00:00:00\",\"2024-07-15T00:00:00\",\"2024-07-22T00:00:00\",\"2024-07-29T00:00:00\",\"2024-08-05T00:00:00\",\"2024-08-06T00:00:00\"],\"xaxis\":\"x\",\"y\":[0.0,0.027461476157503828,0.03142712000951242,0.013246282096313067,0.15692226866386916,0.05852212531125478,0.20186788260957977,0.23926504074568788,0.14535734198108463,0.0739429771532154,-0.03402619342471447,0.03237629048924562,0.026521131640453555,0.02595478153014319,0.13894210544299546,0.22131665022154456,0.25753488506248357,0.24990888455727422,0.24487736470870347,0.1872274552814559,0.10936624058862188,0.15211304859000074,0.20589280767919893,0.20184853059574792,0.26188912874086745,0.27091866056575553,0.34449725219314475,0.41757968505084164,0.44386455114523693,0.3751336239020112,0.49179077026663387,0.480909937007994,0.4985255940188885,0.49144063897720236,0.4994588552366912,0.5649189829504073,0.6029327024829951,0.581421586019925,0.49463221586765715,0.5152348490285376,0.4203791395798908,0.4264542966182634,0.49311566122148576,0.5582181229955196,0.6478047868634791,0.7421564984187012,0.7211008014222753,0.7952724469342205,0.7222622576985055,0.6283392679453058,0.7404317395125241,0.6063778983194612,0.7585637445146178,0.7629925284596939,0.5873386203031834,0.5774361243470105,0.3636822939151828,0.4231066366006758,0.4585141823461182,0.3540618681287214,0.28109399480147335,0.3100499112459142,0.26228931094590935,0.13242462909682673,0.3967154416802361,0.47352205370662115,0.4991721406029077,0.35271789119162766,0.28528862193846927,0.16348961830748832,0.05175226913220976,-0.05004079643217596,-0.0939597814509372,-0.20574904055963006,-0.001409087703218459,0.008200512962119655,-0.2699077193749634,-0.28844915960783757,-0.09827280592678278,-0.27252326333723575,-0.11062659779982387,-0.09555307442070904,-0.026013051463444126,0.08404444996157723,0.17007250974922028,0.22765686760384296,0.12778961703690705,-0.006173177000953989,-0.09441849621475207,0.037868461105899254,-0.17203249147313204,-0.2881561600039916,-0.3571542268754909,-0.3662912978503513,-0.4026642986275568,-0.3059072679790693,-0.27924700783445666,-0.4218343739463293,-0.20101938151375598,-0.2303382636199094,-0.21732716820444153,-0.16778588556668672,-0.25388725731553463,-0.340448686256262,-0.4263126267925226,-0.4102759314129383,-0.3911101953940781,-0.2815969459144583,-0.25717023683352935,-0.15984663224705642,-0.05785101263616221,-0.08642248068131875,-0.12950446222538936,-0.1563443249524371,-0.09940479146888037,-0.23787284213531645,-0.0444189523133558,0.019436939887017113,0.08446197062732752,0.04688968363089718,0.07354137312369713,0.053797281423676235,0.10340563465753583,0.10198420576463307,0.12867459686137417,0.22676818044148928,0.37291720264837347,0.3853103982204672,0.39591984387208046,0.4804420312389127,0.4424672841744496,0.5054188462763164,0.47046733135543384,0.5841494402230224,0.5547908297239552,0.6094674773239399,0.5300498258039686,0.4605555113301222,0.41007900330167313,0.46649348367357046,0.5440287955762385,0.5325920662868537,0.4829415169989719,0.378452577105559,0.3886478980246514,0.41500064514154433,0.4480516985231312,0.3383213558640633,0.2872373790436471,0.4706489743619451,0.5351821279743805,0.6072318553254092,0.6271622554469138,0.6021679696920134,0.6431840108896772,0.7510864892218202,0.7743234597649432,0.7488495077294888,0.6888697878511819,0.7641015559991583,0.8749676077409217,0.8785770782966015,0.9069891984011876,0.9597956423648576,0.899506698524729,0.9588915816445122,1.0114441608578737,0.9531147854215855,0.9610259320620546,0.9877460129835803,0.9949027896586794,0.9672865245579115,0.967120467064385,0.8039975506130344,0.9171376983322233,0.9410320687697897,0.9845709068004758,1.0363065941093748,1.0813716549148134,1.0490303089024289,1.093907083046431,1.2093899312866634,1.2031971594499349,1.2078030110984144,1.3109582635083195,1.3068023369952169,1.2108160895709688,1.110612359361685,0.854991480078238,0.9522953328836682],\"yaxis\":\"y\",\"type\":\"scatter\"},{\"hovertemplate\":\"variable=NVDA\\u003cbr\\u003edate=%{x}\\u003cbr\\u003evalue=%{y}\\u003cextra\\u003e\\u003c\\u002fextra\\u003e\",\"legendgroup\":\"NVDA\",\"marker\":{\"color\":\"#EF553B\",\"symbol\":\"circle\"},\"mode\":\"markers+lines\",\"name\":\"NVDA\",\"orientation\":\"v\",\"showlegend\":true,\"x\":[\"2020-12-28T00:00:00\",\"2021-01-04T00:00:00\",\"2021-01-11T00:00:00\",\"2021-01-18T00:00:00\",\"2021-01-25T00:00:00\",\"2021-02-01T00:00:00\",\"2021-02-08T00:00:00\",\"2021-02-15T00:00:00\",\"2021-02-22T00:00:00\",\"2021-03-01T00:00:00\",\"2021-03-08T00:00:00\",\"2021-03-15T00:00:00\",\"2021-03-22T00:00:00\",\"2021-03-29T00:00:00\",\"2021-04-05T00:00:00\",\"2021-04-12T00:00:00\",\"2021-04-19T00:00:00\",\"2021-04-26T00:00:00\",\"2021-05-03T00:00:00\",\"2021-05-10T00:00:00\",\"2021-05-17T00:00:00\",\"2021-05-24T00:00:00\",\"2021-05-31T00:00:00\",\"2021-06-07T00:00:00\",\"2021-06-14T00:00:00\",\"2021-06-21T00:00:00\",\"2021-06-28T00:00:00\",\"2021-07-05T00:00:00\",\"2021-07-12T00:00:00\",\"2021-07-19T00:00:00\",\"2021-07-26T00:00:00\",\"2021-08-02T00:00:00\",\"2021-08-09T00:00:00\",\"2021-08-16T00:00:00\",\"2021-08-23T00:00:00\",\"2021-08-30T00:00:00\",\"2021-09-06T00:00:00\",\"2021-09-13T00:00:00\",\"2021-09-20T00:00:00\",\"2021-09-27T00:00:00\",\"2021-10-04T00:00:00\",\"2021-10-11T00:00:00\",\"2021-10-18T00:00:00\",\"2021-10-25T00:00:00\",\"2021-11-01T00:00:00\",\"2021-11-08T00:00:00\",\"2021-11-15T00:00:00\",\"2021-11-22T00:00:00\",\"2021-11-29T00:00:00\",\"2021-12-06T00:00:00\",\"2021-12-13T00:00:00\",\"2021-12-20T00:00:00\",\"2021-12-27T00:00:00\",\"2022-01-03T00:00:00\",\"2022-01-10T00:00:00\",\"2022-01-17T00:00:00\",\"2022-01-24T00:00:00\",\"2022-01-31T00:00:00\",\"2022-02-07T00:00:00\",\"2022-02-14T00:00:00\",\"2022-02-21T00:00:00\",\"2022-02-28T00:00:00\",\"2022-03-07T00:00:00\",\"2022-03-14T00:00:00\",\"2022-03-21T00:00:00\",\"2022-03-28T00:00:00\",\"2022-04-04T00:00:00\",\"2022-04-11T00:00:00\",\"2022-04-18T00:00:00\",\"2022-04-25T00:00:00\",\"2022-05-02T00:00:00\",\"2022-05-09T00:00:00\",\"2022-05-16T00:00:00\",\"2022-05-23T00:00:00\",\"2022-05-30T00:00:00\",\"2022-06-06T00:00:00\",\"2022-06-13T00:00:00\",\"2022-06-20T00:00:00\",\"2022-06-27T00:00:00\",\"2022-07-04T00:00:00\",\"2022-07-11T00:00:00\",\"2022-07-18T00:00:00\",\"2022-07-25T00:00:00\",\"2022-08-01T00:00:00\",\"2022-08-08T00:00:00\",\"2022-08-15T00:00:00\",\"2022-08-22T00:00:00\",\"2022-08-29T00:00:00\",\"2022-09-05T00:00:00\",\"2022-09-12T00:00:00\",\"2022-09-19T00:00:00\",\"2022-09-26T00:00:00\",\"2022-10-03T00:00:00\",\"2022-10-10T00:00:00\",\"2022-10-17T00:00:00\",\"2022-10-24T00:00:00\",\"2022-10-31T00:00:00\",\"2022-11-07T00:00:00\",\"2022-11-14T00:00:00\",\"2022-11-21T00:00:00\",\"2022-11-28T00:00:00\",\"2022-12-05T00:00:00\",\"2022-12-12T00:00:00\",\"2022-12-19T00:00:00\",\"2022-12-26T00:00:00\",\"2023-01-02T00:00:00\",\"2023-01-09T00:00:00\",\"2023-01-16T00:00:00\",\"2023-01-23T00:00:00\",\"2023-01-30T00:00:00\",\"2023-02-06T00:00:00\",\"2023-02-13T00:00:00\",\"2023-02-20T00:00:00\",\"2023-02-27T00:00:00\",\"2023-03-06T00:00:00\",\"2023-03-13T00:00:00\",\"2023-03-20T00:00:00\",\"2023-03-27T00:00:00\",\"2023-04-03T00:00:00\",\"2023-04-10T00:00:00\",\"2023-04-17T00:00:00\",\"2023-04-24T00:00:00\",\"2023-05-01T00:00:00\",\"2023-05-08T00:00:00\",\"2023-05-15T00:00:00\",\"2023-05-22T00:00:00\",\"2023-05-29T00:00:00\",\"2023-06-05T00:00:00\",\"2023-06-12T00:00:00\",\"2023-06-19T00:00:00\",\"2023-06-26T00:00:00\",\"2023-07-03T00:00:00\",\"2023-07-10T00:00:00\",\"2023-07-17T00:00:00\",\"2023-07-24T00:00:00\",\"2023-07-31T00:00:00\",\"2023-08-07T00:00:00\",\"2023-08-14T00:00:00\",\"2023-08-21T00:00:00\",\"2023-08-28T00:00:00\",\"2023-09-04T00:00:00\",\"2023-09-11T00:00:00\",\"2023-09-18T00:00:00\",\"2023-09-25T00:00:00\",\"2023-10-02T00:00:00\",\"2023-10-09T00:00:00\",\"2023-10-16T00:00:00\",\"2023-10-23T00:00:00\",\"2023-10-30T00:00:00\",\"2023-11-06T00:00:00\",\"2023-11-13T00:00:00\",\"2023-11-20T00:00:00\",\"2023-11-27T00:00:00\",\"2023-12-04T00:00:00\",\"2023-12-11T00:00:00\",\"2023-12-18T00:00:00\",\"2023-12-25T00:00:00\",\"2024-01-01T00:00:00\",\"2024-01-08T00:00:00\",\"2024-01-15T00:00:00\",\"2024-01-22T00:00:00\",\"2024-01-29T00:00:00\",\"2024-02-05T00:00:00\",\"2024-02-12T00:00:00\",\"2024-02-19T00:00:00\",\"2024-02-26T00:00:00\",\"2024-03-04T00:00:00\",\"2024-03-11T00:00:00\",\"2024-03-18T00:00:00\",\"2024-03-25T00:00:00\",\"2024-04-01T00:00:00\",\"2024-04-08T00:00:00\",\"2024-04-15T00:00:00\",\"2024-04-22T00:00:00\",\"2024-04-29T00:00:00\",\"2024-05-06T00:00:00\",\"2024-05-13T00:00:00\",\"2024-05-20T00:00:00\",\"2024-05-27T00:00:00\",\"2024-06-03T00:00:00\",\"2024-06-10T00:00:00\",\"2024-06-17T00:00:00\",\"2024-06-24T00:00:00\",\"2024-07-01T00:00:00\",\"2024-07-08T00:00:00\",\"2024-07-15T00:00:00\",\"2024-07-22T00:00:00\",\"2024-07-29T00:00:00\",\"2024-08-05T00:00:00\",\"2024-08-06T00:00:00\"],\"xaxis\":\"x\",\"y\":[0.0,0.00319616874439288,0.027196005144044078,-0.0027993489917025327,0.05601175934255209,0.0031520407251793836,0.054786673496739824,0.15218417725957545,0.13296647729722422,0.07206867728524413,-0.030634039164115334,0.0026792223247305014,0.0064103741959256055,-0.0007531413136755427,0.08093409441321475,0.11138297018131194,0.19863081351490852,0.17600669881642805,0.17205540359359828,0.14972479632910318,0.10710361959599046,0.1816603802962813,0.2511756385215149,0.33115415242147894,0.3502051137566191,0.37976220005311934,0.42999209272159167,0.5010747613911077,0.47708443062580075,0.36222528936052933,0.4401337743187701,0.4602777296999898,0.498145666434884,0.48293491960795254,0.5244546828561155,0.613100870105339,0.6132322875126731,0.6067066375038351,0.5389055395591622,0.5655772116705429,0.5100268005582642,0.5134895909338186,0.5705491167099541,0.6268275199709248,0.7433121168829677,0.9187575522041134,0.9321244922580485,1.0291720911319937,0.9948313917688958,0.9180223365364044,0.9303717809444991,0.8330462432183557,0.919294165427312,0.924520082063958,0.816051153613872,0.8039748903783712,0.6543176066418157,0.6924725231553805,0.7438054786720794,0.7258340471111252,0.6882724123123647,0.7298179186618856,0.6808432139264746,0.6392952462847783,0.851376301582627,0.8984959511376269,0.8614589191908436,0.6925723646139705,0.6469254794548323,0.5526801480053355,0.5182566864049069,0.49091188518229445,0.461800229033861,0.3912650439598302,0.5575425016518869,0.5659197619555392,0.4019091057574484,0.43159662959930634,0.48240087080162475,0.30119707954964736,0.3965057084014739,0.4464863873750805,0.4904686626751499,0.5588040624243559,0.5214045229071369,0.589910942145224,0.5251550238161761,0.44110703453135325,0.298223111574901,0.3446873523995102,0.2502479126415068,0.21020795682480076,0.19867965233494245,0.1735723050803999,0.1304552438329888,0.2164077316744274,0.3179427065810062,0.35060345656300973,0.4904685654007249,0.42443082511367236,0.4824620351391711,0.5232084361877487,0.5446725397488035,0.5173789942490187,0.4269855535392806,0.41219183447841634,0.44134815859591603,0.5470141968841542,0.615953127981115,0.7203597750660624,0.7632669911154015,0.7984491673886662,0.7734700558581867,0.9006129166340889,0.9099496581074468,0.8622748055136131,0.9881098468566842,1.035816274066891,1.0608563637819983,1.0359190412850543,1.0263004519920476,1.0431647450549923,1.0737796212019575,1.0982767190038616,1.0977858719637026,1.1817272111569077,1.495438820602805,1.4539065931542008,1.461385591926819,1.5582733537067646,1.5457843414328047,1.5471031930328916,1.550396069058321,1.635540355861447,1.601882199007337,1.6471081646700294,1.6119667543188796,1.509441871391381,1.6084390411321237,1.6531191999306662,1.690574584540748,1.6475453084417175,1.5738693571790476,1.5468037291818046,1.605446204700319,1.6238881828327374,1.6288166132339068,1.5437357340834459,1.5402915979001695,1.6424649827398519,1.709484964138517,1.7300147775925565,1.6993528488698093,1.6633068321280764,1.6939946259329126,1.7341917233058874,1.7254467231460409,1.731083077193396,1.736525396241807,1.8477307687456928,1.9391735345252425,1.9588740900954444,2.073079084351158,2.137205139284813,2.1282106504190526,2.2359705084162584,2.2915539522657316,2.31888075217218,2.36468713191333,2.40399546249499,2.365226466873683,2.3475185566081813,2.35200562130046,2.2286133639140173,2.350130896899204,2.3706229129267244,2.382794268156082,2.4189577917596643,2.5948938269159143,2.6255258685726677,2.6849251030346117,2.7897685229782936,2.716454685647144,2.718320990101221,2.7508794788298365,2.774959796864705,2.696758209277431,2.641419645778014,2.451165406897509,2.57904395780644],\"yaxis\":\"y\",\"type\":\"scatter\"},{\"hovertemplate\":\"variable=MSFT\\u003cbr\\u003edate=%{x}\\u003cbr\\u003evalue=%{y}\\u003cextra\\u003e\\u003c\\u002fextra\\u003e\",\"legendgroup\":\"MSFT\",\"marker\":{\"color\":\"#00cc96\",\"symbol\":\"circle\"},\"mode\":\"markers+lines\",\"name\":\"MSFT\",\"orientation\":\"v\",\"showlegend\":true,\"x\":[\"2020-12-28T00:00:00\",\"2021-01-04T00:00:00\",\"2021-01-11T00:00:00\",\"2021-01-18T00:00:00\",\"2021-01-25T00:00:00\",\"2021-02-01T00:00:00\",\"2021-02-08T00:00:00\",\"2021-02-15T00:00:00\",\"2021-02-22T00:00:00\",\"2021-03-01T00:00:00\",\"2021-03-08T00:00:00\",\"2021-03-15T00:00:00\",\"2021-03-22T00:00:00\",\"2021-03-29T00:00:00\",\"2021-04-05T00:00:00\",\"2021-04-12T00:00:00\",\"2021-04-19T00:00:00\",\"2021-04-26T00:00:00\",\"2021-05-03T00:00:00\",\"2021-05-10T00:00:00\",\"2021-05-17T00:00:00\",\"2021-05-24T00:00:00\",\"2021-05-31T00:00:00\",\"2021-06-07T00:00:00\",\"2021-06-14T00:00:00\",\"2021-06-21T00:00:00\",\"2021-06-28T00:00:00\",\"2021-07-05T00:00:00\",\"2021-07-12T00:00:00\",\"2021-07-19T00:00:00\",\"2021-07-26T00:00:00\",\"2021-08-02T00:00:00\",\"2021-08-09T00:00:00\",\"2021-08-16T00:00:00\",\"2021-08-23T00:00:00\",\"2021-08-30T00:00:00\",\"2021-09-06T00:00:00\",\"2021-09-13T00:00:00\",\"2021-09-20T00:00:00\",\"2021-09-27T00:00:00\",\"2021-10-04T00:00:00\",\"2021-10-11T00:00:00\",\"2021-10-18T00:00:00\",\"2021-10-25T00:00:00\",\"2021-11-01T00:00:00\",\"2021-11-08T00:00:00\",\"2021-11-15T00:00:00\",\"2021-11-22T00:00:00\",\"2021-11-29T00:00:00\",\"2021-12-06T00:00:00\",\"2021-12-13T00:00:00\",\"2021-12-20T00:00:00\",\"2021-12-27T00:00:00\",\"2022-01-03T00:00:00\",\"2022-01-10T00:00:00\",\"2022-01-17T00:00:00\",\"2022-01-24T00:00:00\",\"2022-01-31T00:00:00\",\"2022-02-07T00:00:00\",\"2022-02-14T00:00:00\",\"2022-02-21T00:00:00\",\"2022-02-28T00:00:00\",\"2022-03-07T00:00:00\",\"2022-03-14T00:00:00\",\"2022-03-21T00:00:00\",\"2022-03-28T00:00:00\",\"2022-04-04T00:00:00\",\"2022-04-11T00:00:00\",\"2022-04-18T00:00:00\",\"2022-04-25T00:00:00\",\"2022-05-02T00:00:00\",\"2022-05-09T00:00:00\",\"2022-05-16T00:00:00\",\"2022-05-23T00:00:00\",\"2022-05-30T00:00:00\",\"2022-06-06T00:00:00\",\"2022-06-13T00:00:00\",\"2022-06-20T00:00:00\",\"2022-06-27T00:00:00\",\"2022-07-04T00:00:00\",\"2022-07-11T00:00:00\",\"2022-07-18T00:00:00\",\"2022-07-25T00:00:00\",\"2022-08-01T00:00:00\",\"2022-08-08T00:00:00\",\"2022-08-15T00:00:00\",\"2022-08-22T00:00:00\",\"2022-08-29T00:00:00\",\"2022-09-05T00:00:00\",\"2022-09-12T00:00:00\",\"2022-09-19T00:00:00\",\"2022-09-26T00:00:00\",\"2022-10-03T00:00:00\",\"2022-10-10T00:00:00\",\"2022-10-17T00:00:00\",\"2022-10-24T00:00:00\",\"2022-10-31T00:00:00\",\"2022-11-07T00:00:00\",\"2022-11-14T00:00:00\",\"2022-11-21T00:00:00\",\"2022-11-28T00:00:00\",\"2022-12-05T00:00:00\",\"2022-12-12T00:00:00\",\"2022-12-19T00:00:00\",\"2022-12-26T00:00:00\",\"2023-01-02T00:00:00\",\"2023-01-09T00:00:00\",\"2023-01-16T00:00:00\",\"2023-01-23T00:00:00\",\"2023-01-30T00:00:00\",\"2023-02-06T00:00:00\",\"2023-02-13T00:00:00\",\"2023-02-20T00:00:00\",\"2023-02-27T00:00:00\",\"2023-03-06T00:00:00\",\"2023-03-13T00:00:00\",\"2023-03-20T00:00:00\",\"2023-03-27T00:00:00\",\"2023-04-03T00:00:00\",\"2023-04-10T00:00:00\",\"2023-04-17T00:00:00\",\"2023-04-24T00:00:00\",\"2023-05-01T00:00:00\",\"2023-05-08T00:00:00\",\"2023-05-15T00:00:00\",\"2023-05-22T00:00:00\",\"2023-05-29T00:00:00\",\"2023-06-05T00:00:00\",\"2023-06-12T00:00:00\",\"2023-06-19T00:00:00\",\"2023-06-26T00:00:00\",\"2023-07-03T00:00:00\",\"2023-07-10T00:00:00\",\"2023-07-17T00:00:00\",\"2023-07-24T00:00:00\",\"2023-07-31T00:00:00\",\"2023-08-07T00:00:00\",\"2023-08-14T00:00:00\",\"2023-08-21T00:00:00\",\"2023-08-28T00:00:00\",\"2023-09-04T00:00:00\",\"2023-09-11T00:00:00\",\"2023-09-18T00:00:00\",\"2023-09-25T00:00:00\",\"2023-10-02T00:00:00\",\"2023-10-09T00:00:00\",\"2023-10-16T00:00:00\",\"2023-10-23T00:00:00\",\"2023-10-30T00:00:00\",\"2023-11-06T00:00:00\",\"2023-11-13T00:00:00\",\"2023-11-20T00:00:00\",\"2023-11-27T00:00:00\",\"2023-12-04T00:00:00\",\"2023-12-11T00:00:00\",\"2023-12-18T00:00:00\",\"2023-12-25T00:00:00\",\"2024-01-01T00:00:00\",\"2024-01-08T00:00:00\",\"2024-01-15T00:00:00\",\"2024-01-22T00:00:00\",\"2024-01-29T00:00:00\",\"2024-02-05T00:00:00\",\"2024-02-12T00:00:00\",\"2024-02-19T00:00:00\",\"2024-02-26T00:00:00\",\"2024-03-04T00:00:00\",\"2024-03-11T00:00:00\",\"2024-03-18T00:00:00\",\"2024-03-25T00:00:00\",\"2024-04-01T00:00:00\",\"2024-04-08T00:00:00\",\"2024-04-15T00:00:00\",\"2024-04-22T00:00:00\",\"2024-04-29T00:00:00\",\"2024-05-06T00:00:00\",\"2024-05-13T00:00:00\",\"2024-05-20T00:00:00\",\"2024-05-27T00:00:00\",\"2024-06-03T00:00:00\",\"2024-06-10T00:00:00\",\"2024-06-17T00:00:00\",\"2024-06-24T00:00:00\",\"2024-07-01T00:00:00\",\"2024-07-08T00:00:00\",\"2024-07-15T00:00:00\",\"2024-07-22T00:00:00\",\"2024-07-29T00:00:00\",\"2024-08-05T00:00:00\",\"2024-08-06T00:00:00\"],\"xaxis\":\"x\",\"y\":[0.0,-0.008554235665184984,-0.02679895584163372,-0.0484037583057253,0.02350265159924536,0.04942794213693125,0.08384467157586539,0.09157654461721476,0.060519120431345885,0.05411694587072058,0.034913898407799904,0.05043022149395182,0.03046936727454541,0.05791537391096224,0.08399423719533161,0.1332198611755412,0.15473450756984286,0.16038422972253852,0.1288165095894629,0.11883229948592833,0.10161225663699491,0.10664162276567712,0.12052435626829261,0.11554883574424013,0.14723136356369648,0.1546761618311404,0.17919311563615914,0.22367260858968152,0.2277369357765816,0.226912996160194,0.26301527124225654,0.2538802724587358,0.2657185697832575,0.2775908819192584,0.3119030940507216,0.3048791702821725,0.3045139160534731,0.29301920870021825,0.2889190531944079,0.2882779708455522,0.2587648340871549,0.2779715830380203,0.3143296105140494,0.333402568604932,0.4045171310619957,0.42244326186835757,0.42315485617799165,0.44413010768309835,0.4160412190146112,0.3832294015121689,0.43487311146226504,0.37431773595934936,0.42246647599953857,0.42213861171060973,0.34502510224743066,0.32751247475969925,0.28847542792419545,0.34579917638500035,0.336800960915004,0.2963005073426972,0.2664472570392302,0.2991139151395592,0.2794747631323422,0.25108949131985736,0.31725920863764157,0.3354597896447613,0.35438664542555776,0.29537155945345783,0.25123020949071717,0.23108035812864147,0.2472535908556247,0.21970689058603132,0.18230777115026864,0.16511287151631293,0.23180821348572211,0.2300836282187485,0.13102460745095645,0.15203555716194472,0.22376095212015445,0.17883351400498282,0.21588063337843844,0.19367098146034567,0.1984833009983631,0.26292777350494845,0.2853522940740505,0.30981986142383966,0.2791668943182233,0.22163009184609161,0.18533145097742487,0.22272405876748302,0.1350199513641629,0.11266667821012899,0.10574830922242495,0.09572324412901911,0.10760912370931563,0.1412788164241533,0.10025485750820595,0.04990411619122803,0.13999826234690194,0.1376840642202416,0.15694434378922606,0.18104216820265584,0.16294765743725026,0.15248091114574647,0.12732366354812086,0.1456730767815121,0.07725936624365104,0.12813154300545493,0.14128448189168707,0.15542794235205826,0.2083092487405741,0.2479301783175648,0.19875958273907868,0.19082187035466558,0.20654707773934877,0.1713327929941395,0.2908963250054639,0.30360478364526666,0.3250664200576441,0.3344549532998322,0.33694449806652793,0.30990350011548873,0.39810232037074844,0.40839649781331044,0.4050753139127521,0.43580970347086323,0.48800683016335067,0.48797697076742264,0.46816903978401503,0.5008247444063909,0.4843501448422407,0.5007411348958624,0.4872089072215413,0.5203230326553521,0.5208148558193668,0.49499443506416685,0.4696174376470017,0.4483609873849763,0.4375951831752808,0.46190874642632973,0.47216483037993695,0.4972103934023534,0.4692184508250641,0.43502079410593664,0.43404161737205493,0.4608216896288959,0.48022119014612064,0.46336577018532843,0.4877612671946583,0.5478674677429514,0.5896555240551986,0.5978028272708158,0.6127804619357329,0.5923972337902286,0.5907174854647473,0.5933499246521722,0.6083722216059985,0.6053321825434984,0.5931351094753398,0.6590977866330682,0.6752538230411292,0.690353089854807,0.6998098114254575,0.7258161637573423,0.6846329617772118,0.7050178477502658,0.7098300069575949,0.6864167121176667,0.7123974679643497,0.7389273176550557,0.7358937882199883,0.738771488858212,0.7421348320635632,0.679968823737687,0.6928912732509184,0.7015526175214305,0.7241820327749035,0.7294450208327411,0.7518624159906128,0.7190434649321047,0.7411116993668583,0.7832355129214914,0.7995259657440486,0.7969915411958112,0.8368657978374451,0.8084658399622352,0.7830743121484208,0.7599637352336465,0.6616969609066818,0.690129192430303],\"yaxis\":\"y\",\"type\":\"scatter\"},{\"hovertemplate\":\"variable=^VIX\\u003cbr\\u003edate=%{x}\\u003cbr\\u003evalue=%{y}\\u003cextra\\u003e\\u003c\\u002fextra\\u003e\",\"legendgroup\":\"^VIX\",\"marker\":{\"color\":\"#ab63fa\",\"symbol\":\"circle\"},\"mode\":\"markers+lines\",\"name\":\"^VIX\",\"orientation\":\"v\",\"showlegend\":true,\"x\":[\"2020-12-28T00:00:00\",\"2021-01-04T00:00:00\",\"2021-01-11T00:00:00\",\"2021-01-18T00:00:00\",\"2021-01-25T00:00:00\",\"2021-02-01T00:00:00\",\"2021-02-08T00:00:00\",\"2021-02-15T00:00:00\",\"2021-02-22T00:00:00\",\"2021-03-01T00:00:00\",\"2021-03-08T00:00:00\",\"2021-03-15T00:00:00\",\"2021-03-22T00:00:00\",\"2021-03-29T00:00:00\",\"2021-04-05T00:00:00\",\"2021-04-12T00:00:00\",\"2021-04-19T00:00:00\",\"2021-04-26T00:00:00\",\"2021-05-03T00:00:00\",\"2021-05-10T00:00:00\",\"2021-05-17T00:00:00\",\"2021-05-24T00:00:00\",\"2021-05-31T00:00:00\",\"2021-06-07T00:00:00\",\"2021-06-14T00:00:00\",\"2021-06-21T00:00:00\",\"2021-06-28T00:00:00\",\"2021-07-05T00:00:00\",\"2021-07-12T00:00:00\",\"2021-07-19T00:00:00\",\"2021-07-26T00:00:00\",\"2021-08-02T00:00:00\",\"2021-08-09T00:00:00\",\"2021-08-16T00:00:00\",\"2021-08-23T00:00:00\",\"2021-08-30T00:00:00\",\"2021-09-06T00:00:00\",\"2021-09-13T00:00:00\",\"2021-09-20T00:00:00\",\"2021-09-27T00:00:00\",\"2021-10-04T00:00:00\",\"2021-10-11T00:00:00\",\"2021-10-18T00:00:00\",\"2021-10-25T00:00:00\",\"2021-11-01T00:00:00\",\"2021-11-08T00:00:00\",\"2021-11-15T00:00:00\",\"2021-11-22T00:00:00\",\"2021-11-29T00:00:00\",\"2021-12-06T00:00:00\",\"2021-12-13T00:00:00\",\"2021-12-20T00:00:00\",\"2021-12-27T00:00:00\",\"2022-01-03T00:00:00\",\"2022-01-10T00:00:00\",\"2022-01-17T00:00:00\",\"2022-01-24T00:00:00\",\"2022-01-31T00:00:00\",\"2022-02-07T00:00:00\",\"2022-02-14T00:00:00\",\"2022-02-21T00:00:00\",\"2022-02-28T00:00:00\",\"2022-03-07T00:00:00\",\"2022-03-14T00:00:00\",\"2022-03-21T00:00:00\",\"2022-03-28T00:00:00\",\"2022-04-04T00:00:00\",\"2022-04-11T00:00:00\",\"2022-04-18T00:00:00\",\"2022-04-25T00:00:00\",\"2022-05-02T00:00:00\",\"2022-05-09T00:00:00\",\"2022-05-16T00:00:00\",\"2022-05-23T00:00:00\",\"2022-05-30T00:00:00\",\"2022-06-06T00:00:00\",\"2022-06-13T00:00:00\",\"2022-06-20T00:00:00\",\"2022-06-27T00:00:00\",\"2022-07-04T00:00:00\",\"2022-07-11T00:00:00\",\"2022-07-18T00:00:00\",\"2022-07-25T00:00:00\",\"2022-08-01T00:00:00\",\"2022-08-08T00:00:00\",\"2022-08-15T00:00:00\",\"2022-08-22T00:00:00\",\"2022-08-29T00:00:00\",\"2022-09-05T00:00:00\",\"2022-09-12T00:00:00\",\"2022-09-19T00:00:00\",\"2022-09-26T00:00:00\",\"2022-10-03T00:00:00\",\"2022-10-10T00:00:00\",\"2022-10-17T00:00:00\",\"2022-10-24T00:00:00\",\"2022-10-31T00:00:00\",\"2022-11-07T00:00:00\",\"2022-11-14T00:00:00\",\"2022-11-21T00:00:00\",\"2022-11-28T00:00:00\",\"2022-12-05T00:00:00\",\"2022-12-12T00:00:00\",\"2022-12-19T00:00:00\",\"2022-12-26T00:00:00\",\"2023-01-02T00:00:00\",\"2023-01-09T00:00:00\",\"2023-01-16T00:00:00\",\"2023-01-23T00:00:00\",\"2023-01-30T00:00:00\",\"2023-02-06T00:00:00\",\"2023-02-13T00:00:00\",\"2023-02-20T00:00:00\",\"2023-02-27T00:00:00\",\"2023-03-06T00:00:00\",\"2023-03-13T00:00:00\",\"2023-03-20T00:00:00\",\"2023-03-27T00:00:00\",\"2023-04-03T00:00:00\",\"2023-04-10T00:00:00\",\"2023-04-17T00:00:00\",\"2023-04-24T00:00:00\",\"2023-05-01T00:00:00\",\"2023-05-08T00:00:00\",\"2023-05-15T00:00:00\",\"2023-05-22T00:00:00\",\"2023-05-29T00:00:00\",\"2023-06-05T00:00:00\",\"2023-06-12T00:00:00\",\"2023-06-19T00:00:00\",\"2023-06-26T00:00:00\",\"2023-07-03T00:00:00\",\"2023-07-10T00:00:00\",\"2023-07-17T00:00:00\",\"2023-07-24T00:00:00\",\"2023-07-31T00:00:00\",\"2023-08-07T00:00:00\",\"2023-08-14T00:00:00\",\"2023-08-21T00:00:00\",\"2023-08-28T00:00:00\",\"2023-09-04T00:00:00\",\"2023-09-11T00:00:00\",\"2023-09-18T00:00:00\",\"2023-09-25T00:00:00\",\"2023-10-02T00:00:00\",\"2023-10-09T00:00:00\",\"2023-10-16T00:00:00\",\"2023-10-23T00:00:00\",\"2023-10-30T00:00:00\",\"2023-11-06T00:00:00\",\"2023-11-13T00:00:00\",\"2023-11-20T00:00:00\",\"2023-11-27T00:00:00\",\"2023-12-04T00:00:00\",\"2023-12-11T00:00:00\",\"2023-12-18T00:00:00\",\"2023-12-25T00:00:00\",\"2024-01-01T00:00:00\",\"2024-01-08T00:00:00\",\"2024-01-15T00:00:00\",\"2024-01-22T00:00:00\",\"2024-01-29T00:00:00\",\"2024-02-05T00:00:00\",\"2024-02-12T00:00:00\",\"2024-02-19T00:00:00\",\"2024-02-26T00:00:00\",\"2024-03-04T00:00:00\",\"2024-03-11T00:00:00\",\"2024-03-18T00:00:00\",\"2024-03-25T00:00:00\",\"2024-04-01T00:00:00\",\"2024-04-08T00:00:00\",\"2024-04-15T00:00:00\",\"2024-04-22T00:00:00\",\"2024-04-29T00:00:00\",\"2024-05-06T00:00:00\",\"2024-05-13T00:00:00\",\"2024-05-20T00:00:00\",\"2024-05-27T00:00:00\",\"2024-06-03T00:00:00\",\"2024-06-10T00:00:00\",\"2024-06-17T00:00:00\",\"2024-06-24T00:00:00\",\"2024-07-01T00:00:00\",\"2024-07-08T00:00:00\",\"2024-07-15T00:00:00\",\"2024-07-22T00:00:00\",\"2024-07-29T00:00:00\",\"2024-08-05T00:00:00\",\"2024-08-06T00:00:00\"],\"xaxis\":\"x\",\"y\":[0.0,0.04206242783821401,0.05378111445654121,0.04176915453753849,0.010505533207269324,0.4201873582090968,0.11621275911921436,0.08149369790072791,0.23908953585462034,0.2693430806692052,0.364977992353668,0.15599572758687985,0.15920084179636518,0.09028252872480258,0.09028252872480258,0.09028252872480258,0.09028252872480258,0.09028252872480258,0.09028252872480258,0.09028252872480258,0.09028252872480258,0.09518450830027736,0.09518450830027736,0.09518450830027736,0.09518450830027736,0.15567230201335858,0.15567230201335858,0.15567230201335858,0.15567230201335858,0.15567230201335858,0.15567230201335858,0.15567230201335858,0.15567230201335858,0.15567230201335858,0.15567230201335858,0.15567230201335858,0.15567230201335858,0.15567230201335858,0.2711276955417614,0.2711276955417614,0.21545757671826749,0.21545757671826749,0.21545757671826749,0.21545757671826749,0.21545757671826749,0.21545757671826749,0.21545757671826749,0.21545757671826749,0.32069774648062765,0.4660948378605646,0.4660948378605646,0.3591613985385622,0.3591613985385622,0.3591613985385622,0.3591613985385622,0.177237907016355,0.5086826830604887,0.5143564363613178,0.3637922485663042,0.5746681261723211,0.6648292216089976,0.6849549890619279,0.7909969923613355,0.6558241875372107,0.46600784313951393,0.3466760979989285,0.28389382934636787,0.3966649210373506,0.4585965059540146,0.6837188695229718,0.793905203002171,0.750426974458443,0.6911793439803986,0.6568574286591775,0.6047525200072255,0.5283055405163966,0.7648053356098721,0.7412158660953765,0.665146653312292,0.6322845182275227,0.5975749554284716,0.5373932692817497,0.5172563380881804,0.43834141485288747,0.408444043998094,0.36244588344022166,0.4429666208907367,0.6415387223293422,0.5894165520364881,0.5155752626268133,0.6898755435279846,0.8361377016698455,0.8758352517003396,0.8737140488268784,0.8536715392217882,0.803470088454729,0.6814472559044458,0.6353677398082236,0.5699216821462585,0.5724227020093189,0.49092585599477356,0.4098936738687974,0.6118641436008646,0.5393231400993945,0.4969016146873655,0.5624299982265684,0.5043962111441674,0.5043962111441674,0.43359157134980686,0.43359157134980686,0.43359157134980686,0.5053382724198474,0.5118017715257888,0.5205173926591424,0.5205173926591424,0.614196314322798,0.7688741246642918,0.5628964103533804,0.5628964103533804,0.5628964103533804,0.5628964103533804,0.5628964103533804,0.5628964103533804,0.5628964103533804,0.5628964103533804,0.5628964103533804,0.5628964103533804,0.5628964103533804,0.5628964103533804,0.5628964103533804,0.5628964103533804,0.5628964103533804,0.5628964103533804,0.5628964103533804,0.5628964103533804,0.5628964103533804,0.5628964103533804,0.5628964103533804,0.5628964103533804,0.5628964103533804,0.5628964103533804,0.5628964103533804,0.5628964103533804,0.5628964103533804,0.5628964103533804,0.5628964103533804,0.5628964103533804,0.5529191168855091,0.5208531175549597,0.5208531175549597,0.5208531175549597,0.5208531175549597,0.5208531175549597,0.5208531175549597,0.5208531175549597,0.5208531175549597,0.5208531175549597,0.5208531175549597,0.5208531175549597,0.5208531175549597,0.5208531175549597,0.5208531175549597,0.5208531175549597,0.5208531175549597,0.5208531175549597,0.5208531175549597,0.5208531175549597,0.5208531175549597,0.5208531175549597,0.5208531175549597,0.5208531175549597,0.5208531175549597,0.5208531175549597,0.5208531175549597,0.5208531175549597,0.5208531175549597,0.5208531175549597,0.5208531175549597,0.5208531175549597,0.5208531175549597,0.5208531175549597,0.5208531175549597,0.5208531175549597,0.5208531175549597,0.5208531175549597,0.5208531175549597,0.5208531175549597,0.5208531175549597,0.6278100659053468,0.6278100659053468],\"yaxis\":\"y\",\"type\":\"scatter\"}],                        {\"template\":{\"data\":{\"histogram2dcontour\":[{\"type\":\"histogram2dcontour\",\"colorbar\":{\"outlinewidth\":0,\"ticks\":\"\"},\"colorscale\":[[0.0,\"#0d0887\"],[0.1111111111111111,\"#46039f\"],[0.2222222222222222,\"#7201a8\"],[0.3333333333333333,\"#9c179e\"],[0.4444444444444444,\"#bd3786\"],[0.5555555555555556,\"#d8576b\"],[0.6666666666666666,\"#ed7953\"],[0.7777777777777778,\"#fb9f3a\"],[0.8888888888888888,\"#fdca26\"],[1.0,\"#f0f921\"]]}],\"choropleth\":[{\"type\":\"choropleth\",\"colorbar\":{\"outlinewidth\":0,\"ticks\":\"\"}}],\"histogram2d\":[{\"type\":\"histogram2d\",\"colorbar\":{\"outlinewidth\":0,\"ticks\":\"\"},\"colorscale\":[[0.0,\"#0d0887\"],[0.1111111111111111,\"#46039f\"],[0.2222222222222222,\"#7201a8\"],[0.3333333333333333,\"#9c179e\"],[0.4444444444444444,\"#bd3786\"],[0.5555555555555556,\"#d8576b\"],[0.6666666666666666,\"#ed7953\"],[0.7777777777777778,\"#fb9f3a\"],[0.8888888888888888,\"#fdca26\"],[1.0,\"#f0f921\"]]}],\"heatmap\":[{\"type\":\"heatmap\",\"colorbar\":{\"outlinewidth\":0,\"ticks\":\"\"},\"colorscale\":[[0.0,\"#0d0887\"],[0.1111111111111111,\"#46039f\"],[0.2222222222222222,\"#7201a8\"],[0.3333333333333333,\"#9c179e\"],[0.4444444444444444,\"#bd3786\"],[0.5555555555555556,\"#d8576b\"],[0.6666666666666666,\"#ed7953\"],[0.7777777777777778,\"#fb9f3a\"],[0.8888888888888888,\"#fdca26\"],[1.0,\"#f0f921\"]]}],\"heatmapgl\":[{\"type\":\"heatmapgl\",\"colorbar\":{\"outlinewidth\":0,\"ticks\":\"\"},\"colorscale\":[[0.0,\"#0d0887\"],[0.1111111111111111,\"#46039f\"],[0.2222222222222222,\"#7201a8\"],[0.3333333333333333,\"#9c179e\"],[0.4444444444444444,\"#bd3786\"],[0.5555555555555556,\"#d8576b\"],[0.6666666666666666,\"#ed7953\"],[0.7777777777777778,\"#fb9f3a\"],[0.8888888888888888,\"#fdca26\"],[1.0,\"#f0f921\"]]}],\"contourcarpet\":[{\"type\":\"contourcarpet\",\"colorbar\":{\"outlinewidth\":0,\"ticks\":\"\"}}],\"contour\":[{\"type\":\"contour\",\"colorbar\":{\"outlinewidth\":0,\"ticks\":\"\"},\"colorscale\":[[0.0,\"#0d0887\"],[0.1111111111111111,\"#46039f\"],[0.2222222222222222,\"#7201a8\"],[0.3333333333333333,\"#9c179e\"],[0.4444444444444444,\"#bd3786\"],[0.5555555555555556,\"#d8576b\"],[0.6666666666666666,\"#ed7953\"],[0.7777777777777778,\"#fb9f3a\"],[0.8888888888888888,\"#fdca26\"],[1.0,\"#f0f921\"]]}],\"surface\":[{\"type\":\"surface\",\"colorbar\":{\"outlinewidth\":0,\"ticks\":\"\"},\"colorscale\":[[0.0,\"#0d0887\"],[0.1111111111111111,\"#46039f\"],[0.2222222222222222,\"#7201a8\"],[0.3333333333333333,\"#9c179e\"],[0.4444444444444444,\"#bd3786\"],[0.5555555555555556,\"#d8576b\"],[0.6666666666666666,\"#ed7953\"],[0.7777777777777778,\"#fb9f3a\"],[0.8888888888888888,\"#fdca26\"],[1.0,\"#f0f921\"]]}],\"mesh3d\":[{\"type\":\"mesh3d\",\"colorbar\":{\"outlinewidth\":0,\"ticks\":\"\"}}],\"scatter\":[{\"fillpattern\":{\"fillmode\":\"overlay\",\"size\":10,\"solidity\":0.2},\"type\":\"scatter\"}],\"parcoords\":[{\"type\":\"parcoords\",\"line\":{\"colorbar\":{\"outlinewidth\":0,\"ticks\":\"\"}}}],\"scatterpolargl\":[{\"type\":\"scatterpolargl\",\"marker\":{\"colorbar\":{\"outlinewidth\":0,\"ticks\":\"\"}}}],\"bar\":[{\"error_x\":{\"color\":\"#2a3f5f\"},\"error_y\":{\"color\":\"#2a3f5f\"},\"marker\":{\"line\":{\"color\":\"#E5ECF6\",\"width\":0.5},\"pattern\":{\"fillmode\":\"overlay\",\"size\":10,\"solidity\":0.2}},\"type\":\"bar\"}],\"scattergeo\":[{\"type\":\"scattergeo\",\"marker\":{\"colorbar\":{\"outlinewidth\":0,\"ticks\":\"\"}}}],\"scatterpolar\":[{\"type\":\"scatterpolar\",\"marker\":{\"colorbar\":{\"outlinewidth\":0,\"ticks\":\"\"}}}],\"histogram\":[{\"marker\":{\"pattern\":{\"fillmode\":\"overlay\",\"size\":10,\"solidity\":0.2}},\"type\":\"histogram\"}],\"scattergl\":[{\"type\":\"scattergl\",\"marker\":{\"colorbar\":{\"outlinewidth\":0,\"ticks\":\"\"}}}],\"scatter3d\":[{\"type\":\"scatter3d\",\"line\":{\"colorbar\":{\"outlinewidth\":0,\"ticks\":\"\"}},\"marker\":{\"colorbar\":{\"outlinewidth\":0,\"ticks\":\"\"}}}],\"scattermapbox\":[{\"type\":\"scattermapbox\",\"marker\":{\"colorbar\":{\"outlinewidth\":0,\"ticks\":\"\"}}}],\"scatterternary\":[{\"type\":\"scatterternary\",\"marker\":{\"colorbar\":{\"outlinewidth\":0,\"ticks\":\"\"}}}],\"scattercarpet\":[{\"type\":\"scattercarpet\",\"marker\":{\"colorbar\":{\"outlinewidth\":0,\"ticks\":\"\"}}}],\"carpet\":[{\"aaxis\":{\"endlinecolor\":\"#2a3f5f\",\"gridcolor\":\"white\",\"linecolor\":\"white\",\"minorgridcolor\":\"white\",\"startlinecolor\":\"#2a3f5f\"},\"baxis\":{\"endlinecolor\":\"#2a3f5f\",\"gridcolor\":\"white\",\"linecolor\":\"white\",\"minorgridcolor\":\"white\",\"startlinecolor\":\"#2a3f5f\"},\"type\":\"carpet\"}],\"table\":[{\"cells\":{\"fill\":{\"color\":\"#EBF0F8\"},\"line\":{\"color\":\"white\"}},\"header\":{\"fill\":{\"color\":\"#C8D4E3\"},\"line\":{\"color\":\"white\"}},\"type\":\"table\"}],\"barpolar\":[{\"marker\":{\"line\":{\"color\":\"#E5ECF6\",\"width\":0.5},\"pattern\":{\"fillmode\":\"overlay\",\"size\":10,\"solidity\":0.2}},\"type\":\"barpolar\"}],\"pie\":[{\"automargin\":true,\"type\":\"pie\"}]},\"layout\":{\"autotypenumbers\":\"strict\",\"colorway\":[\"#636efa\",\"#EF553B\",\"#00cc96\",\"#ab63fa\",\"#FFA15A\",\"#19d3f3\",\"#FF6692\",\"#B6E880\",\"#FF97FF\",\"#FECB52\"],\"font\":{\"color\":\"#2a3f5f\"},\"hovermode\":\"closest\",\"hoverlabel\":{\"align\":\"left\"},\"paper_bgcolor\":\"white\",\"plot_bgcolor\":\"#E5ECF6\",\"polar\":{\"bgcolor\":\"#E5ECF6\",\"angularaxis\":{\"gridcolor\":\"white\",\"linecolor\":\"white\",\"ticks\":\"\"},\"radialaxis\":{\"gridcolor\":\"white\",\"linecolor\":\"white\",\"ticks\":\"\"}},\"ternary\":{\"bgcolor\":\"#E5ECF6\",\"aaxis\":{\"gridcolor\":\"white\",\"linecolor\":\"white\",\"ticks\":\"\"},\"baxis\":{\"gridcolor\":\"white\",\"linecolor\":\"white\",\"ticks\":\"\"},\"caxis\":{\"gridcolor\":\"white\",\"linecolor\":\"white\",\"ticks\":\"\"}},\"coloraxis\":{\"colorbar\":{\"outlinewidth\":0,\"ticks\":\"\"}},\"colorscale\":{\"sequential\":[[0.0,\"#0d0887\"],[0.1111111111111111,\"#46039f\"],[0.2222222222222222,\"#7201a8\"],[0.3333333333333333,\"#9c179e\"],[0.4444444444444444,\"#bd3786\"],[0.5555555555555556,\"#d8576b\"],[0.6666666666666666,\"#ed7953\"],[0.7777777777777778,\"#fb9f3a\"],[0.8888888888888888,\"#fdca26\"],[1.0,\"#f0f921\"]],\"sequentialminus\":[[0.0,\"#0d0887\"],[0.1111111111111111,\"#46039f\"],[0.2222222222222222,\"#7201a8\"],[0.3333333333333333,\"#9c179e\"],[0.4444444444444444,\"#bd3786\"],[0.5555555555555556,\"#d8576b\"],[0.6666666666666666,\"#ed7953\"],[0.7777777777777778,\"#fb9f3a\"],[0.8888888888888888,\"#fdca26\"],[1.0,\"#f0f921\"]],\"diverging\":[[0,\"#8e0152\"],[0.1,\"#c51b7d\"],[0.2,\"#de77ae\"],[0.3,\"#f1b6da\"],[0.4,\"#fde0ef\"],[0.5,\"#f7f7f7\"],[0.6,\"#e6f5d0\"],[0.7,\"#b8e186\"],[0.8,\"#7fbc41\"],[0.9,\"#4d9221\"],[1,\"#276419\"]]},\"xaxis\":{\"gridcolor\":\"white\",\"linecolor\":\"white\",\"ticks\":\"\",\"title\":{\"standoff\":15},\"zerolinecolor\":\"white\",\"automargin\":true,\"zerolinewidth\":2},\"yaxis\":{\"gridcolor\":\"white\",\"linecolor\":\"white\",\"ticks\":\"\",\"title\":{\"standoff\":15},\"zerolinecolor\":\"white\",\"automargin\":true,\"zerolinewidth\":2},\"scene\":{\"xaxis\":{\"backgroundcolor\":\"#E5ECF6\",\"gridcolor\":\"white\",\"linecolor\":\"white\",\"showbackground\":true,\"ticks\":\"\",\"zerolinecolor\":\"white\",\"gridwidth\":2},\"yaxis\":{\"backgroundcolor\":\"#E5ECF6\",\"gridcolor\":\"white\",\"linecolor\":\"white\",\"showbackground\":true,\"ticks\":\"\",\"zerolinecolor\":\"white\",\"gridwidth\":2},\"zaxis\":{\"backgroundcolor\":\"#E5ECF6\",\"gridcolor\":\"white\",\"linecolor\":\"white\",\"showbackground\":true,\"ticks\":\"\",\"zerolinecolor\":\"white\",\"gridwidth\":2}},\"shapedefaults\":{\"line\":{\"color\":\"#2a3f5f\"}},\"annotationdefaults\":{\"arrowcolor\":\"#2a3f5f\",\"arrowhead\":0,\"arrowwidth\":1},\"geo\":{\"bgcolor\":\"white\",\"landcolor\":\"#E5ECF6\",\"subunitcolor\":\"white\",\"showland\":true,\"showlakes\":true,\"lakecolor\":\"white\"},\"title\":{\"x\":0.05},\"mapbox\":{\"style\":\"light\"}}},\"xaxis\":{\"anchor\":\"y\",\"domain\":[0.0,1.0],\"title\":{\"text\":\"date\"}},\"yaxis\":{\"anchor\":\"x\",\"domain\":[0.0,1.0],\"title\":{\"text\":\"value\"}},\"legend\":{\"title\":{\"text\":\"variable\"},\"tracegroupgap\":0},\"margin\":{\"t\":60}},                        {\"responsive\": true}                    ).then(function(){\n",
       "                            \n",
       "var gd = document.getElementById('34cd4b56-d0a9-4814-a7b9-9cfee07ccd00');\n",
       "var x = new MutationObserver(function (mutations, observer) {{\n",
       "        var display = window.getComputedStyle(gd).display;\n",
       "        if (!display || display === 'none') {{\n",
       "            console.log([gd, 'removed!']);\n",
       "            Plotly.purge(gd);\n",
       "            observer.disconnect();\n",
       "        }}\n",
       "}});\n",
       "\n",
       "// Listen for the removal of the full notebook cells\n",
       "var notebookContainer = gd.closest('#notebook-container');\n",
       "if (notebookContainer) {{\n",
       "    x.observe(notebookContainer, {childList: true});\n",
       "}}\n",
       "\n",
       "// Listen for the clearing of the current output cell\n",
       "var outputEl = gd.closest('.output');\n",
       "if (outputEl) {{\n",
       "    x.observe(outputEl, {childList: true});\n",
       "}}\n",
       "\n",
       "                        })                };                });            </script>        </div>"
      ]
     },
     "metadata": {},
     "output_type": "display_data"
    }
   ],
   "source": [
    "import plotly.express as px\n",
    "import plotly as py\n",
    "import plotly.graph_objs as go\n",
    "import plotly.offline as offline_py\n",
    "\n",
    "offline_py.init_notebook_mode(connected=True)\n",
    "df_ls = pd.DataFrame()\n",
    "df_ls[\"TQQQ\"] = prices[\"TQQQ\"]\n",
    "df_ls[\"NVDA\"] = prices[\"NVDA\"]\n",
    "df_ls[\"MSFT\"] = prices[\"MSFT\"]\n",
    "df_ls[\"^VIX\"] = prices[\"^VIX\"][prices[\"^VIX\"]>20]\n",
    "\n",
    "df_fig = df_ls[df_ls.index >= \"2020-12-26\"].pct_change().fillna(0).cumsum()\n",
    "fig = px.scatter(df_fig)\n",
    "\n",
    "fig.update_traces(mode='markers+lines')\n",
    "\n",
    "fig.show()"
   ]
  },
  {
   "cell_type": "code",
   "execution_count": 12,
   "id": "9075f6bd-7e3c-4e2e-ba37-7e81517ffa6b",
   "metadata": {},
   "outputs": [
    {
     "data": {
      "application/vnd.plotly.v1+json": {
       "config": {
        "plotlyServerURL": "https://plot.ly"
       },
       "data": [
        {
         "hovertemplate": "variable=asset1<br>date=%{x}<br>value=%{y}<extra></extra>",
         "legendgroup": "asset1",
         "marker": {
          "color": "#636efa",
          "symbol": "circle"
         },
         "mode": "markers+lines",
         "name": "asset1",
         "orientation": "v",
         "showlegend": true,
         "type": "scatter",
         "visible": "legendonly",
         "x": [
          "2019-08-26T00:00:00",
          "2019-09-02T00:00:00",
          "2019-09-09T00:00:00",
          "2019-09-16T00:00:00",
          "2019-09-23T00:00:00",
          "2019-09-30T00:00:00",
          "2019-10-07T00:00:00",
          "2019-10-14T00:00:00",
          "2019-10-21T00:00:00",
          "2019-10-28T00:00:00",
          "2019-11-04T00:00:00",
          "2019-11-11T00:00:00",
          "2019-11-18T00:00:00",
          "2019-11-25T00:00:00",
          "2019-12-02T00:00:00",
          "2019-12-09T00:00:00",
          "2019-12-16T00:00:00",
          "2019-12-23T00:00:00",
          "2019-12-30T00:00:00",
          "2020-01-06T00:00:00",
          "2020-01-13T00:00:00",
          "2020-01-20T00:00:00",
          "2020-01-27T00:00:00",
          "2020-02-03T00:00:00",
          "2020-02-10T00:00:00",
          "2020-02-17T00:00:00",
          "2020-02-24T00:00:00",
          "2020-03-02T00:00:00",
          "2020-03-09T00:00:00",
          "2020-03-16T00:00:00",
          "2020-03-23T00:00:00",
          "2020-03-30T00:00:00",
          "2020-04-06T00:00:00",
          "2020-04-13T00:00:00",
          "2020-04-20T00:00:00",
          "2020-04-27T00:00:00",
          "2020-05-04T00:00:00",
          "2020-05-11T00:00:00",
          "2020-05-18T00:00:00",
          "2020-05-25T00:00:00",
          "2020-06-01T00:00:00",
          "2020-06-08T00:00:00",
          "2020-06-15T00:00:00",
          "2020-06-22T00:00:00",
          "2020-06-29T00:00:00",
          "2020-07-06T00:00:00",
          "2020-07-13T00:00:00",
          "2020-07-20T00:00:00",
          "2020-07-27T00:00:00",
          "2020-08-03T00:00:00",
          "2020-08-10T00:00:00",
          "2020-08-17T00:00:00",
          "2020-08-24T00:00:00",
          "2020-08-31T00:00:00",
          "2020-09-07T00:00:00",
          "2020-09-14T00:00:00",
          "2020-09-21T00:00:00",
          "2020-09-28T00:00:00",
          "2020-10-05T00:00:00",
          "2020-10-12T00:00:00",
          "2020-10-19T00:00:00",
          "2020-10-26T00:00:00",
          "2020-11-02T00:00:00",
          "2020-11-09T00:00:00",
          "2020-11-16T00:00:00",
          "2020-11-23T00:00:00",
          "2020-11-30T00:00:00",
          "2020-12-07T00:00:00",
          "2020-12-14T00:00:00",
          "2020-12-21T00:00:00",
          "2020-12-28T00:00:00",
          "2021-01-04T00:00:00",
          "2021-01-11T00:00:00",
          "2021-01-18T00:00:00",
          "2021-01-25T00:00:00",
          "2021-02-01T00:00:00",
          "2021-02-08T00:00:00",
          "2021-02-15T00:00:00",
          "2021-02-22T00:00:00",
          "2021-03-01T00:00:00",
          "2021-03-08T00:00:00",
          "2021-03-15T00:00:00",
          "2021-03-22T00:00:00",
          "2021-03-29T00:00:00",
          "2021-04-05T00:00:00",
          "2021-04-12T00:00:00",
          "2021-04-19T00:00:00",
          "2021-04-26T00:00:00",
          "2021-05-03T00:00:00",
          "2021-05-10T00:00:00",
          "2021-05-17T00:00:00",
          "2021-05-24T00:00:00",
          "2021-05-31T00:00:00",
          "2021-06-07T00:00:00",
          "2021-06-14T00:00:00",
          "2021-06-21T00:00:00",
          "2021-06-28T00:00:00",
          "2021-07-05T00:00:00",
          "2021-07-12T00:00:00",
          "2021-07-19T00:00:00",
          "2021-07-26T00:00:00",
          "2021-08-02T00:00:00",
          "2021-08-09T00:00:00",
          "2021-08-16T00:00:00",
          "2021-08-23T00:00:00",
          "2021-08-30T00:00:00",
          "2021-09-06T00:00:00",
          "2021-09-13T00:00:00",
          "2021-09-20T00:00:00",
          "2021-09-27T00:00:00",
          "2021-10-04T00:00:00",
          "2021-10-11T00:00:00",
          "2021-10-18T00:00:00",
          "2021-10-25T00:00:00",
          "2021-11-01T00:00:00",
          "2021-11-08T00:00:00",
          "2021-11-15T00:00:00",
          "2021-11-22T00:00:00",
          "2021-11-29T00:00:00",
          "2021-12-06T00:00:00",
          "2021-12-13T00:00:00",
          "2021-12-20T00:00:00",
          "2021-12-27T00:00:00",
          "2022-01-03T00:00:00",
          "2022-01-10T00:00:00",
          "2022-01-17T00:00:00",
          "2022-01-24T00:00:00",
          "2022-01-31T00:00:00",
          "2022-02-07T00:00:00",
          "2022-02-14T00:00:00",
          "2022-02-21T00:00:00",
          "2022-02-28T00:00:00",
          "2022-03-07T00:00:00",
          "2022-03-14T00:00:00",
          "2022-03-21T00:00:00",
          "2022-03-28T00:00:00",
          "2022-04-04T00:00:00",
          "2022-04-11T00:00:00",
          "2022-04-18T00:00:00",
          "2022-04-25T00:00:00",
          "2022-05-02T00:00:00",
          "2022-05-09T00:00:00",
          "2022-05-16T00:00:00",
          "2022-05-23T00:00:00",
          "2022-05-30T00:00:00",
          "2022-06-06T00:00:00",
          "2022-06-13T00:00:00",
          "2022-06-20T00:00:00",
          "2022-06-27T00:00:00",
          "2022-07-04T00:00:00",
          "2022-07-11T00:00:00",
          "2022-07-18T00:00:00",
          "2022-07-25T00:00:00",
          "2022-08-01T00:00:00",
          "2022-08-08T00:00:00",
          "2022-08-15T00:00:00",
          "2022-08-22T00:00:00",
          "2022-08-29T00:00:00",
          "2022-09-05T00:00:00",
          "2022-09-12T00:00:00",
          "2022-09-19T00:00:00",
          "2022-09-26T00:00:00",
          "2022-10-03T00:00:00",
          "2022-10-10T00:00:00",
          "2022-10-17T00:00:00",
          "2022-10-24T00:00:00",
          "2022-10-31T00:00:00",
          "2022-11-07T00:00:00",
          "2022-11-14T00:00:00",
          "2022-11-21T00:00:00",
          "2022-11-28T00:00:00",
          "2022-12-05T00:00:00",
          "2022-12-12T00:00:00",
          "2022-12-19T00:00:00",
          "2022-12-26T00:00:00",
          "2023-01-02T00:00:00",
          "2023-01-09T00:00:00",
          "2023-01-16T00:00:00",
          "2023-01-23T00:00:00",
          "2023-01-30T00:00:00",
          "2023-02-06T00:00:00",
          "2023-02-13T00:00:00",
          "2023-02-20T00:00:00",
          "2023-02-27T00:00:00",
          "2023-03-06T00:00:00",
          "2023-03-13T00:00:00",
          "2023-03-20T00:00:00",
          "2023-03-27T00:00:00",
          "2023-04-03T00:00:00",
          "2023-04-10T00:00:00",
          "2023-04-17T00:00:00",
          "2023-04-24T00:00:00",
          "2023-05-01T00:00:00",
          "2023-05-08T00:00:00",
          "2023-05-15T00:00:00",
          "2023-05-22T00:00:00",
          "2023-05-29T00:00:00",
          "2023-06-05T00:00:00",
          "2023-06-12T00:00:00",
          "2023-06-19T00:00:00",
          "2023-06-26T00:00:00",
          "2023-07-03T00:00:00",
          "2023-07-10T00:00:00",
          "2023-07-17T00:00:00",
          "2023-07-24T00:00:00",
          "2023-07-31T00:00:00",
          "2023-08-07T00:00:00",
          "2023-08-14T00:00:00",
          "2023-08-21T00:00:00",
          "2023-08-28T00:00:00",
          "2023-09-04T00:00:00",
          "2023-09-11T00:00:00",
          "2023-09-18T00:00:00",
          "2023-09-25T00:00:00",
          "2023-10-02T00:00:00",
          "2023-10-09T00:00:00",
          "2023-10-16T00:00:00",
          "2023-10-23T00:00:00",
          "2023-10-30T00:00:00",
          "2023-11-06T00:00:00",
          "2023-11-13T00:00:00",
          "2023-11-20T00:00:00",
          "2023-11-27T00:00:00",
          "2023-12-04T00:00:00",
          "2023-12-11T00:00:00",
          "2023-12-18T00:00:00",
          "2023-12-25T00:00:00",
          "2024-01-01T00:00:00",
          "2024-01-08T00:00:00",
          "2024-01-15T00:00:00",
          "2024-01-22T00:00:00",
          "2024-01-29T00:00:00",
          "2024-02-05T00:00:00",
          "2024-02-12T00:00:00",
          "2024-02-19T00:00:00",
          "2024-02-26T00:00:00",
          "2024-03-04T00:00:00",
          "2024-03-11T00:00:00",
          "2024-03-18T00:00:00",
          "2024-03-25T00:00:00",
          "2024-04-01T00:00:00",
          "2024-04-08T00:00:00",
          "2024-04-15T00:00:00",
          "2024-04-22T00:00:00",
          "2024-04-29T00:00:00",
          "2024-05-06T00:00:00",
          "2024-05-13T00:00:00",
          "2024-05-20T00:00:00",
          "2024-05-27T00:00:00",
          "2024-06-03T00:00:00",
          "2024-06-10T00:00:00",
          "2024-06-17T00:00:00",
          "2024-06-24T00:00:00",
          "2024-07-01T00:00:00",
          "2024-07-08T00:00:00",
          "2024-07-15T00:00:00",
          "2024-07-22T00:00:00",
          "2024-07-29T00:00:00",
          "2024-08-05T00:00:00",
          "2024-08-06T00:00:00"
         ],
         "xaxis": "x",
         "y": [
          4.122499942779541,
          4.114500045776367,
          4.497499942779541,
          4.4730000495910645,
          4.317500114440918,
          4.320000171661377,
          4.614500045776367,
          4.640999794006348,
          4.823999881744385,
          5.15749979019165,
          5.146249771118164,
          5.193749904632568,
          5.097249984741211,
          5.401000022888184,
          5.411499977111816,
          5.28125,
          5.647500038146973,
          6.013000011444092,
          5.899750232696533,
          5.808000087738037,
          6.191500186920166,
          6.195250034332275,
          5.955999851226807,
          5.892499923706055,
          6.3125,
          7.140999794006348,
          6.754749774932861,
          6.922500133514404,
          5.997499942779541,
          5.3102498054504395,
          5.142749786376953,
          6.383999824523926,
          6.38100004196167,
          6.513750076293945,
          7.181000232696533,
          7.374750137329102,
          7.021999835968018,
          7.807499885559082,
          8.760499954223633,
          9.156749725341797,
          8.833250045776367,
          8.877249717712402,
          8.815250396728516,
          9.300000190734863,
          9.169750213623047,
          9.74174976348877,
          10.595000267028809,
          10.274250030517578,
          10.232250213623047,
          10.732500076293945,
          11.334250450134277,
          11.851249694824219,
          12.883749961853027,
          13.18274974822998,
          11.73449993133545,
          13.081000328063965,
          11.925000190734863,
          13.040249824523926,
          13.236000061035156,
          13.989500045776367,
          13.902999877929688,
          13.427000045776367,
          12.657750129699707,
          14.552499771118164,
          13.172499656677246,
          13.171250343322754,
          13.265000343322754,
          13.601249694824219,
          13.088000297546387,
          13.074749946594238,
          13.0625,
          13.104249954223633,
          13.418749809265137,
          13.016249656677246,
          13.781749725341797,
          13.053250312805176,
          13.727250099182129,
          15.064249992370605,
          14.774749755859375,
          13.875,
          12.449999809265137,
          12.864749908447266,
          12.912750244140625,
          12.820249557495117,
          13.867500305175781,
          14.289750099182129,
          15.536499977111816,
          15.1850004196167,
          15.125,
          14.787249565124512,
          14.156999588012695,
          15.212499618530273,
          16.270000457763672,
          17.571250915527344,
          17.9060001373291,
          18.43524932861328,
          19.361249923706055,
          20.737499237060547,
          20.239999771118164,
          17.915250778198242,
          19.31100082397461,
          19.700000762939453,
          20.445999145507812,
          20.135000228881836,
          20.97100067138672,
          22.829999923706055,
          22.83300018310547,
          22.68400001525879,
          21.145999908447266,
          21.709999084472656,
          20.503999710083008,
          20.575000762939453,
          21.749000549316406,
          22.972999572753906,
          25.64900016784668,
          30.14900016784668,
          30.552000045776367,
          33.516998291015625,
          32.36600112915039,
          29.8799991607666,
          30.249000549316406,
          27.30500030517578,
          29.65999984741211,
          29.815000534057617,
          26.58099937438965,
          26.260000228881836,
          22.329999923706055,
          23.18199920654297,
          24.371999740600586,
          23.93400001525879,
          23.03499984741211,
          23.992000579833984,
          22.816999435424805,
          21.868999481201172,
          26.506999969482422,
          27.756000518798828,
          26.72800064086914,
          22.214000701904297,
          21.200000762939453,
          19.20199966430664,
          18.541000366210938,
          18.034000396728516,
          17.509000778198242,
          16.27400016784668,
          18.979999542236328,
          19.138999938964844,
          16,
          16.475000381469727,
          17.312000274658203,
          14.175000190734863,
          15.526000022888184,
          16.302000045776367,
          17.018999099731445,
          18.18199920654297,
          17.50200080871582,
          18.701000213623047,
          17.489999771118164,
          16.020000457763672,
          13.730999946594238,
          14.369000434875488,
          13.01200008392334,
          12.491000175476074,
          12.347000122070312,
          12.036999702453613,
          11.517999649047852,
          12.508000373840332,
          13.777999877929688,
          14.227999687194824,
          16.218000411987305,
          15.147000312805176,
          16.025999069213867,
          16.679000854492188,
          17.03700065612793,
          16.57200050354004,
          15.074000358581543,
          14.85099983215332,
          15.284000396728516,
          16.89900016784668,
          18.06399917602539,
          19.950000762939453,
          20.805999755859375,
          21.538000106811523,
          21,
          23.670000076293945,
          23.891000747680664,
          22.75200080871582,
          25.614999771118164,
          26.836999893188477,
          27.509000778198242,
          26.822999954223633,
          26.565000534057617,
          27.01300048828125,
          27.84000015258789,
          28.52199935913086,
          28.507999420166016,
          30.900999069213867,
          40.595001220703125,
          38.909000396728516,
          39.20000076293945,
          42.99800109863281,
          42.46099853515625,
          42.516998291015625,
          42.65700149536133,
          46.28900146484375,
          44.73099899291992,
          46.75400161743164,
          45.111000061035156,
          40.486000061035156,
          44.49399948120117,
          46.481998443603516,
          48.222999572753906,
          46.14799880981445,
          42.74800109863281,
          41.590999603271484,
          44.029998779296875,
          44.84199905395508,
          45.0629997253418,
          41.229000091552734,
          41.08700180053711,
          45.28499984741211,
          48.31999969482422,
          49.3120002746582,
          47.79999923706055,
          46.07699966430664,
          47.49100112915039,
          49.400001525878906,
          48.96799850463867,
          49.24399948120117,
          49.512001037597656,
          55.018001556396484,
          60.04899978637695,
          61.231998443603516,
          68.2249984741211,
          72.5999984741211,
          71.9469985961914,
          79.69999694824219,
          84.12999725341797,
          86.42900085449219,
          90.38800048828125,
          93.94100189208984,
          90.29900360107422,
          88.69999694824219,
          89.0979995727539,
          78.10399627685547,
          87.59500122070312,
          89.38999938964844,
          90.47799682617188,
          93.75,
          110.24400329589844,
          113.62100219726562,
          120.37000274658203,
          132.99000549316406,
          123.23999786376953,
          123.47000122070312,
          127.48999786376953,
          130.55999755859375,
          120.3499984741211,
          113.69000244140625,
          92.05999755859375,
          103.8324966430664
         ],
         "yaxis": "y"
        },
        {
         "hovertemplate": "variable=asset2<br>date=%{x}<br>value=%{y}<extra></extra>",
         "legendgroup": "asset2",
         "marker": {
          "color": "#EF553B",
          "symbol": "circle"
         },
         "mode": "markers+lines",
         "name": "asset2",
         "orientation": "v",
         "showlegend": true,
         "type": "scatter",
         "visible": "legendonly",
         "x": [
          "2019-08-26T00:00:00",
          "2019-09-02T00:00:00",
          "2019-09-09T00:00:00",
          "2019-09-16T00:00:00",
          "2019-09-23T00:00:00",
          "2019-09-30T00:00:00",
          "2019-10-07T00:00:00",
          "2019-10-14T00:00:00",
          "2019-10-21T00:00:00",
          "2019-10-28T00:00:00",
          "2019-11-04T00:00:00",
          "2019-11-11T00:00:00",
          "2019-11-18T00:00:00",
          "2019-11-25T00:00:00",
          "2019-12-02T00:00:00",
          "2019-12-09T00:00:00",
          "2019-12-16T00:00:00",
          "2019-12-23T00:00:00",
          "2019-12-30T00:00:00",
          "2020-01-06T00:00:00",
          "2020-01-13T00:00:00",
          "2020-01-20T00:00:00",
          "2020-01-27T00:00:00",
          "2020-02-03T00:00:00",
          "2020-02-10T00:00:00",
          "2020-02-17T00:00:00",
          "2020-02-24T00:00:00",
          "2020-03-02T00:00:00",
          "2020-03-09T00:00:00",
          "2020-03-16T00:00:00",
          "2020-03-23T00:00:00",
          "2020-03-30T00:00:00",
          "2020-04-06T00:00:00",
          "2020-04-13T00:00:00",
          "2020-04-20T00:00:00",
          "2020-04-27T00:00:00",
          "2020-05-04T00:00:00",
          "2020-05-11T00:00:00",
          "2020-05-18T00:00:00",
          "2020-05-25T00:00:00",
          "2020-06-01T00:00:00",
          "2020-06-08T00:00:00",
          "2020-06-15T00:00:00",
          "2020-06-22T00:00:00",
          "2020-06-29T00:00:00",
          "2020-07-06T00:00:00",
          "2020-07-13T00:00:00",
          "2020-07-20T00:00:00",
          "2020-07-27T00:00:00",
          "2020-08-03T00:00:00",
          "2020-08-10T00:00:00",
          "2020-08-17T00:00:00",
          "2020-08-24T00:00:00",
          "2020-08-31T00:00:00",
          "2020-09-07T00:00:00",
          "2020-09-14T00:00:00",
          "2020-09-21T00:00:00",
          "2020-09-28T00:00:00",
          "2020-10-05T00:00:00",
          "2020-10-12T00:00:00",
          "2020-10-19T00:00:00",
          "2020-10-26T00:00:00",
          "2020-11-02T00:00:00",
          "2020-11-09T00:00:00",
          "2020-11-16T00:00:00",
          "2020-11-23T00:00:00",
          "2020-11-30T00:00:00",
          "2020-12-07T00:00:00",
          "2020-12-14T00:00:00",
          "2020-12-21T00:00:00",
          "2020-12-28T00:00:00",
          "2021-01-04T00:00:00",
          "2021-01-11T00:00:00",
          "2021-01-18T00:00:00",
          "2021-01-25T00:00:00",
          "2021-02-01T00:00:00",
          "2021-02-08T00:00:00",
          "2021-02-15T00:00:00",
          "2021-02-22T00:00:00",
          "2021-03-01T00:00:00",
          "2021-03-08T00:00:00",
          "2021-03-15T00:00:00",
          "2021-03-22T00:00:00",
          "2021-03-29T00:00:00",
          "2021-04-05T00:00:00",
          "2021-04-12T00:00:00",
          "2021-04-19T00:00:00",
          "2021-04-26T00:00:00",
          "2021-05-03T00:00:00",
          "2021-05-10T00:00:00",
          "2021-05-17T00:00:00",
          "2021-05-24T00:00:00",
          "2021-05-31T00:00:00",
          "2021-06-07T00:00:00",
          "2021-06-14T00:00:00",
          "2021-06-21T00:00:00",
          "2021-06-28T00:00:00",
          "2021-07-05T00:00:00",
          "2021-07-12T00:00:00",
          "2021-07-19T00:00:00",
          "2021-07-26T00:00:00",
          "2021-08-02T00:00:00",
          "2021-08-09T00:00:00",
          "2021-08-16T00:00:00",
          "2021-08-23T00:00:00",
          "2021-08-30T00:00:00",
          "2021-09-06T00:00:00",
          "2021-09-13T00:00:00",
          "2021-09-20T00:00:00",
          "2021-09-27T00:00:00",
          "2021-10-04T00:00:00",
          "2021-10-11T00:00:00",
          "2021-10-18T00:00:00",
          "2021-10-25T00:00:00",
          "2021-11-01T00:00:00",
          "2021-11-08T00:00:00",
          "2021-11-15T00:00:00",
          "2021-11-22T00:00:00",
          "2021-11-29T00:00:00",
          "2021-12-06T00:00:00",
          "2021-12-13T00:00:00",
          "2021-12-20T00:00:00",
          "2021-12-27T00:00:00",
          "2022-01-03T00:00:00",
          "2022-01-10T00:00:00",
          "2022-01-17T00:00:00",
          "2022-01-24T00:00:00",
          "2022-01-31T00:00:00",
          "2022-02-07T00:00:00",
          "2022-02-14T00:00:00",
          "2022-02-21T00:00:00",
          "2022-02-28T00:00:00",
          "2022-03-07T00:00:00",
          "2022-03-14T00:00:00",
          "2022-03-21T00:00:00",
          "2022-03-28T00:00:00",
          "2022-04-04T00:00:00",
          "2022-04-11T00:00:00",
          "2022-04-18T00:00:00",
          "2022-04-25T00:00:00",
          "2022-05-02T00:00:00",
          "2022-05-09T00:00:00",
          "2022-05-16T00:00:00",
          "2022-05-23T00:00:00",
          "2022-05-30T00:00:00",
          "2022-06-06T00:00:00",
          "2022-06-13T00:00:00",
          "2022-06-20T00:00:00",
          "2022-06-27T00:00:00",
          "2022-07-04T00:00:00",
          "2022-07-11T00:00:00",
          "2022-07-18T00:00:00",
          "2022-07-25T00:00:00",
          "2022-08-01T00:00:00",
          "2022-08-08T00:00:00",
          "2022-08-15T00:00:00",
          "2022-08-22T00:00:00",
          "2022-08-29T00:00:00",
          "2022-09-05T00:00:00",
          "2022-09-12T00:00:00",
          "2022-09-19T00:00:00",
          "2022-09-26T00:00:00",
          "2022-10-03T00:00:00",
          "2022-10-10T00:00:00",
          "2022-10-17T00:00:00",
          "2022-10-24T00:00:00",
          "2022-10-31T00:00:00",
          "2022-11-07T00:00:00",
          "2022-11-14T00:00:00",
          "2022-11-21T00:00:00",
          "2022-11-28T00:00:00",
          "2022-12-05T00:00:00",
          "2022-12-12T00:00:00",
          "2022-12-19T00:00:00",
          "2022-12-26T00:00:00",
          "2023-01-02T00:00:00",
          "2023-01-09T00:00:00",
          "2023-01-16T00:00:00",
          "2023-01-23T00:00:00",
          "2023-01-30T00:00:00",
          "2023-02-06T00:00:00",
          "2023-02-13T00:00:00",
          "2023-02-20T00:00:00",
          "2023-02-27T00:00:00",
          "2023-03-06T00:00:00",
          "2023-03-13T00:00:00",
          "2023-03-20T00:00:00",
          "2023-03-27T00:00:00",
          "2023-04-03T00:00:00",
          "2023-04-10T00:00:00",
          "2023-04-17T00:00:00",
          "2023-04-24T00:00:00",
          "2023-05-01T00:00:00",
          "2023-05-08T00:00:00",
          "2023-05-15T00:00:00",
          "2023-05-22T00:00:00",
          "2023-05-29T00:00:00",
          "2023-06-05T00:00:00",
          "2023-06-12T00:00:00",
          "2023-06-19T00:00:00",
          "2023-06-26T00:00:00",
          "2023-07-03T00:00:00",
          "2023-07-10T00:00:00",
          "2023-07-17T00:00:00",
          "2023-07-24T00:00:00",
          "2023-07-31T00:00:00",
          "2023-08-07T00:00:00",
          "2023-08-14T00:00:00",
          "2023-08-21T00:00:00",
          "2023-08-28T00:00:00",
          "2023-09-04T00:00:00",
          "2023-09-11T00:00:00",
          "2023-09-18T00:00:00",
          "2023-09-25T00:00:00",
          "2023-10-02T00:00:00",
          "2023-10-09T00:00:00",
          "2023-10-16T00:00:00",
          "2023-10-23T00:00:00",
          "2023-10-30T00:00:00",
          "2023-11-06T00:00:00",
          "2023-11-13T00:00:00",
          "2023-11-20T00:00:00",
          "2023-11-27T00:00:00",
          "2023-12-04T00:00:00",
          "2023-12-11T00:00:00",
          "2023-12-18T00:00:00",
          "2023-12-25T00:00:00",
          "2024-01-01T00:00:00",
          "2024-01-08T00:00:00",
          "2024-01-15T00:00:00",
          "2024-01-22T00:00:00",
          "2024-01-29T00:00:00",
          "2024-02-05T00:00:00",
          "2024-02-12T00:00:00",
          "2024-02-19T00:00:00",
          "2024-02-26T00:00:00",
          "2024-03-04T00:00:00",
          "2024-03-11T00:00:00",
          "2024-03-18T00:00:00",
          "2024-03-25T00:00:00",
          "2024-04-01T00:00:00",
          "2024-04-08T00:00:00",
          "2024-04-15T00:00:00",
          "2024-04-22T00:00:00",
          "2024-04-29T00:00:00",
          "2024-05-06T00:00:00",
          "2024-05-13T00:00:00",
          "2024-05-20T00:00:00",
          "2024-05-27T00:00:00",
          "2024-06-03T00:00:00",
          "2024-06-10T00:00:00",
          "2024-06-17T00:00:00",
          "2024-06-24T00:00:00",
          "2024-07-01T00:00:00",
          "2024-07-08T00:00:00",
          "2024-07-15T00:00:00",
          "2024-07-22T00:00:00",
          "2024-07-29T00:00:00",
          "2024-08-05T00:00:00",
          "2024-08-06T00:00:00"
         ],
         "xaxis": "x",
         "y": [
          31.469999313354492,
          30.829999923706055,
          30.93000030517578,
          30.3700008392334,
          30.1200008392334,
          28.889999389648438,
          28.899999618530273,
          29.709999084472656,
          31.5,
          33.15999984741211,
          35.189998626708984,
          35.959999084472656,
          38.650001525878906,
          39.5,
          39.31999969482422,
          39.459999084472656,
          41.72999954223633,
          44.58000183105469,
          46.13999938964844,
          48.02000045776367,
          48.65999984741211,
          50.959999084472656,
          48.45000076293945,
          46.400001525878906,
          49.470001220703125,
          54.939998626708984,
          48.18000030517578,
          47.41999816894531,
          43.029998779296875,
          39.08000183105469,
          40.619998931884766,
          47.2400016784668,
          44.29999923706055,
          48.470001220703125,
          55.97999954223633,
          57.439998626708984,
          49.81999969482422,
          52.900001525878906,
          54.97999954223633,
          56.0099983215332,
          53.310001373291016,
          53.29999923706055,
          52.58000183105469,
          54.66999816894531,
          50.150001525878906,
          52.900001525878906,
          56.68000030517578,
          55.22999954223633,
          69.27999877929688,
          78.19000244140625,
          85.05000305175781,
          82.08999633789062,
          84.55000305175781,
          85.05000305175781,
          78.05000305175781,
          76.80000305175781,
          74.2300033569336,
          79.12000274658203,
          82.55000305175781,
          83.6500015258789,
          83.62000274658203,
          82.55000305175781,
          75.8499984741211,
          84.23999786376953,
          81.20999908447266,
          85.5199966430664,
          87.33000183105469,
          94.94999694824219,
          92.20999908447266,
          94.25,
          92.93000030517578,
          92.11000061035156,
          94.02999877929688,
          89.55999755859375,
          94.13999938964844,
          86.83000183105469,
          88.30999755859375,
          93.9000015258789,
          88.1500015258789,
          85.37000274658203,
          78.02999877929688,
          81.91000366210938,
          79.98999786376953,
          77.02999877929688,
          81.73999786376953,
          82.05999755859375,
          82.12999725341797,
          83.3499984741211,
          81.97000122070312,
          78.19999694824219,
          74.22000122070312,
          77.26000213623047,
          81.01000213623047,
          81.4000015258789,
          81.51000213623047,
          83.48999786376953,
          86.37999725341797,
          94.87999725341797,
          91.22000122070312,
          84.98999786376953,
          92.01000213623047,
          105.93000030517578,
          111.30999755859375,
          110.19999694824219,
          105.30000305175781,
          112.61000061035156,
          109.95999908447266,
          105.26000213623047,
          101.58000183105469,
          105.06999969482422,
          101.73999786376953,
          104.62000274658203,
          111.9000015258789,
          120.5199966430664,
          119.44999694824219,
          137.6999969482422,
          148,
          157.13999938964844,
          157.5,
          141.13999938964844,
          138.25,
          135.97000122070312,
          147.50999450683594,
          145.13999938964844,
          129.0800018310547,
          134.5,
          115.4000015258789,
          107.93000030517578,
          123.55999755859375,
          115.51000213623047,
          115.2699966430664,
          120.30999755859375,
          108.52999877929688,
          102.98999786376953,
          113.7300033569336,
          117.69999694824219,
          109.97000122070312,
          98.5999984741211,
          92.02999877929688,
          89.86000061035156,
          85.66000366210938,
          92.87000274658203,
          93.86000061035156,
          91.66000366210938,
          102.43000030517578,
          108.2699966430664,
          91.26000213623047,
          84.16999816894531,
          87.36000061035156,
          71.9800033569336,
          77.8499984741211,
          82.20999908447266,
          86.56999969482422,
          95.58999633789062,
          100.05999755859375,
          100.51000213623047,
          94.4000015258789,
          90.05000305175781,
          80.41000366210938,
          84.88999938964844,
          75.38999938964844,
          67.87000274658203,
          64.45999908447266,
          57.310001373291016,
          57.349998474121094,
          58.56999969482422,
          60.75,
          62.93000030517578,
          75.22000122070312,
          72.20999908447266,
          73.80999755859375,
          74.54000091552734,
          68.54000091552734,
          65.12000274658203,
          63.869998931884766,
          66,
          66.22000122070312,
          70.87000274658203,
          72.22000122070312,
          74.2300033569336,
          84.62999725341797,
          81.56999969482422,
          77.1500015258789,
          79.63999938964844,
          82.02999877929688,
          81.38999938964844,
          96.30000305175781,
          98.0199966430664,
          96.69999694824219,
          91.31999969482422,
          90.2300033569336,
          88.11000061035156,
          91.02999877929688,
          89.98999786376953,
          95.19999694824219,
          104.68000030517578,
          130.4199981689453,
          116.58999633789062,
          128.52000427246094,
          119.08999633789062,
          110.94999694824219,
          115.16000366210938,
          113,
          115.94999694824219,
          110.62000274658203,
          114.16000366210938,
          116.36000061035156,
          106.75,
          106.19999694824219,
          103.47000122070312,
          109,
          107.31999969482422,
          100.81999969482422,
          95.94999694824219,
          102.20999908447266,
          106.01000213623047,
          105.41999816894531,
          100.80999755859375,
          96.13999938964844,
          112.5999984741211,
          118.33999633789062,
          120.69999694824219,
          122.06999969482422,
          119.75,
          130.55999755859375,
          139.14999389648438,
          140.07000732421875,
          144.27999877929688,
          140.36000061035156,
          150.36000061035156,
          174.38999938964844,
          178.77000427246094,
          179.08999633789062,
          172.67999267578125,
          171.13999938964844,
          178.77999877929688,
          205.16000366210938,
          203.00999450683594,
          193.2899932861328,
          172.89999389648438,
          180.10000610351562,
          168.1999969482422,
          164.42999267578125,
          148.14999389648438,
          159.0800018310547,
          153.10000610351562,
          151.27999877929688,
          165.5500030517578,
          169.4199981689453,
          170.82000732421875,
          162.47999572753906,
          158,
          159.75,
          161.25,
          174.89999389648438,
          184.4499969482422,
          154.22999572753906,
          141.19000244140625,
          122.16000366210938,
          135.1020050048828
         ],
         "yaxis": "y"
        },
        {
         "hovertemplate": "variable=z<br>date=%{x}<br>value=%{y}<extra></extra>",
         "legendgroup": "z",
         "marker": {
          "color": "#00cc96",
          "symbol": "circle"
         },
         "mode": "markers+lines",
         "name": "z",
         "orientation": "v",
         "showlegend": true,
         "type": "scatter",
         "x": [
          "2019-08-26T00:00:00",
          "2019-09-02T00:00:00",
          "2019-09-09T00:00:00",
          "2019-09-16T00:00:00",
          "2019-09-23T00:00:00",
          "2019-09-30T00:00:00",
          "2019-10-07T00:00:00",
          "2019-10-14T00:00:00",
          "2019-10-21T00:00:00",
          "2019-10-28T00:00:00",
          "2019-11-04T00:00:00",
          "2019-11-11T00:00:00",
          "2019-11-18T00:00:00",
          "2019-11-25T00:00:00",
          "2019-12-02T00:00:00",
          "2019-12-09T00:00:00",
          "2019-12-16T00:00:00",
          "2019-12-23T00:00:00",
          "2019-12-30T00:00:00",
          "2020-01-06T00:00:00",
          "2020-01-13T00:00:00",
          "2020-01-20T00:00:00",
          "2020-01-27T00:00:00",
          "2020-02-03T00:00:00",
          "2020-02-10T00:00:00",
          "2020-02-17T00:00:00",
          "2020-02-24T00:00:00",
          "2020-03-02T00:00:00",
          "2020-03-09T00:00:00",
          "2020-03-16T00:00:00",
          "2020-03-23T00:00:00",
          "2020-03-30T00:00:00",
          "2020-04-06T00:00:00",
          "2020-04-13T00:00:00",
          "2020-04-20T00:00:00",
          "2020-04-27T00:00:00",
          "2020-05-04T00:00:00",
          "2020-05-11T00:00:00",
          "2020-05-18T00:00:00",
          "2020-05-25T00:00:00",
          "2020-06-01T00:00:00",
          "2020-06-08T00:00:00",
          "2020-06-15T00:00:00",
          "2020-06-22T00:00:00",
          "2020-06-29T00:00:00",
          "2020-07-06T00:00:00",
          "2020-07-13T00:00:00",
          "2020-07-20T00:00:00",
          "2020-07-27T00:00:00",
          "2020-08-03T00:00:00",
          "2020-08-10T00:00:00",
          "2020-08-17T00:00:00",
          "2020-08-24T00:00:00",
          "2020-08-31T00:00:00",
          "2020-09-07T00:00:00",
          "2020-09-14T00:00:00",
          "2020-09-21T00:00:00",
          "2020-09-28T00:00:00",
          "2020-10-05T00:00:00",
          "2020-10-12T00:00:00",
          "2020-10-19T00:00:00",
          "2020-10-26T00:00:00",
          "2020-11-02T00:00:00",
          "2020-11-09T00:00:00",
          "2020-11-16T00:00:00",
          "2020-11-23T00:00:00",
          "2020-11-30T00:00:00",
          "2020-12-07T00:00:00",
          "2020-12-14T00:00:00",
          "2020-12-21T00:00:00",
          "2020-12-28T00:00:00",
          "2021-01-04T00:00:00",
          "2021-01-11T00:00:00",
          "2021-01-18T00:00:00",
          "2021-01-25T00:00:00",
          "2021-02-01T00:00:00",
          "2021-02-08T00:00:00",
          "2021-02-15T00:00:00",
          "2021-02-22T00:00:00",
          "2021-03-01T00:00:00",
          "2021-03-08T00:00:00",
          "2021-03-15T00:00:00",
          "2021-03-22T00:00:00",
          "2021-03-29T00:00:00",
          "2021-04-05T00:00:00",
          "2021-04-12T00:00:00",
          "2021-04-19T00:00:00",
          "2021-04-26T00:00:00",
          "2021-05-03T00:00:00",
          "2021-05-10T00:00:00",
          "2021-05-17T00:00:00",
          "2021-05-24T00:00:00",
          "2021-05-31T00:00:00",
          "2021-06-07T00:00:00",
          "2021-06-14T00:00:00",
          "2021-06-21T00:00:00",
          "2021-06-28T00:00:00",
          "2021-07-05T00:00:00",
          "2021-07-12T00:00:00",
          "2021-07-19T00:00:00",
          "2021-07-26T00:00:00",
          "2021-08-02T00:00:00",
          "2021-08-09T00:00:00",
          "2021-08-16T00:00:00",
          "2021-08-23T00:00:00",
          "2021-08-30T00:00:00",
          "2021-09-06T00:00:00",
          "2021-09-13T00:00:00",
          "2021-09-20T00:00:00",
          "2021-09-27T00:00:00",
          "2021-10-04T00:00:00",
          "2021-10-11T00:00:00",
          "2021-10-18T00:00:00",
          "2021-10-25T00:00:00",
          "2021-11-01T00:00:00",
          "2021-11-08T00:00:00",
          "2021-11-15T00:00:00",
          "2021-11-22T00:00:00",
          "2021-11-29T00:00:00",
          "2021-12-06T00:00:00",
          "2021-12-13T00:00:00",
          "2021-12-20T00:00:00",
          "2021-12-27T00:00:00",
          "2022-01-03T00:00:00",
          "2022-01-10T00:00:00",
          "2022-01-17T00:00:00",
          "2022-01-24T00:00:00",
          "2022-01-31T00:00:00",
          "2022-02-07T00:00:00",
          "2022-02-14T00:00:00",
          "2022-02-21T00:00:00",
          "2022-02-28T00:00:00",
          "2022-03-07T00:00:00",
          "2022-03-14T00:00:00",
          "2022-03-21T00:00:00",
          "2022-03-28T00:00:00",
          "2022-04-04T00:00:00",
          "2022-04-11T00:00:00",
          "2022-04-18T00:00:00",
          "2022-04-25T00:00:00",
          "2022-05-02T00:00:00",
          "2022-05-09T00:00:00",
          "2022-05-16T00:00:00",
          "2022-05-23T00:00:00",
          "2022-05-30T00:00:00",
          "2022-06-06T00:00:00",
          "2022-06-13T00:00:00",
          "2022-06-20T00:00:00",
          "2022-06-27T00:00:00",
          "2022-07-04T00:00:00",
          "2022-07-11T00:00:00",
          "2022-07-18T00:00:00",
          "2022-07-25T00:00:00",
          "2022-08-01T00:00:00",
          "2022-08-08T00:00:00",
          "2022-08-15T00:00:00",
          "2022-08-22T00:00:00",
          "2022-08-29T00:00:00",
          "2022-09-05T00:00:00",
          "2022-09-12T00:00:00",
          "2022-09-19T00:00:00",
          "2022-09-26T00:00:00",
          "2022-10-03T00:00:00",
          "2022-10-10T00:00:00",
          "2022-10-17T00:00:00",
          "2022-10-24T00:00:00",
          "2022-10-31T00:00:00",
          "2022-11-07T00:00:00",
          "2022-11-14T00:00:00",
          "2022-11-21T00:00:00",
          "2022-11-28T00:00:00",
          "2022-12-05T00:00:00",
          "2022-12-12T00:00:00",
          "2022-12-19T00:00:00",
          "2022-12-26T00:00:00",
          "2023-01-02T00:00:00",
          "2023-01-09T00:00:00",
          "2023-01-16T00:00:00",
          "2023-01-23T00:00:00",
          "2023-01-30T00:00:00",
          "2023-02-06T00:00:00",
          "2023-02-13T00:00:00",
          "2023-02-20T00:00:00",
          "2023-02-27T00:00:00",
          "2023-03-06T00:00:00",
          "2023-03-13T00:00:00",
          "2023-03-20T00:00:00",
          "2023-03-27T00:00:00",
          "2023-04-03T00:00:00",
          "2023-04-10T00:00:00",
          "2023-04-17T00:00:00",
          "2023-04-24T00:00:00",
          "2023-05-01T00:00:00",
          "2023-05-08T00:00:00",
          "2023-05-15T00:00:00",
          "2023-05-22T00:00:00",
          "2023-05-29T00:00:00",
          "2023-06-05T00:00:00",
          "2023-06-12T00:00:00",
          "2023-06-19T00:00:00",
          "2023-06-26T00:00:00",
          "2023-07-03T00:00:00",
          "2023-07-10T00:00:00",
          "2023-07-17T00:00:00",
          "2023-07-24T00:00:00",
          "2023-07-31T00:00:00",
          "2023-08-07T00:00:00",
          "2023-08-14T00:00:00",
          "2023-08-21T00:00:00",
          "2023-08-28T00:00:00",
          "2023-09-04T00:00:00",
          "2023-09-11T00:00:00",
          "2023-09-18T00:00:00",
          "2023-09-25T00:00:00",
          "2023-10-02T00:00:00",
          "2023-10-09T00:00:00",
          "2023-10-16T00:00:00",
          "2023-10-23T00:00:00",
          "2023-10-30T00:00:00",
          "2023-11-06T00:00:00",
          "2023-11-13T00:00:00",
          "2023-11-20T00:00:00",
          "2023-11-27T00:00:00",
          "2023-12-04T00:00:00",
          "2023-12-11T00:00:00",
          "2023-12-18T00:00:00",
          "2023-12-25T00:00:00",
          "2024-01-01T00:00:00",
          "2024-01-08T00:00:00",
          "2024-01-15T00:00:00",
          "2024-01-22T00:00:00",
          "2024-01-29T00:00:00",
          "2024-02-05T00:00:00",
          "2024-02-12T00:00:00",
          "2024-02-19T00:00:00",
          "2024-02-26T00:00:00",
          "2024-03-04T00:00:00",
          "2024-03-11T00:00:00",
          "2024-03-18T00:00:00",
          "2024-03-25T00:00:00",
          "2024-04-01T00:00:00",
          "2024-04-08T00:00:00",
          "2024-04-15T00:00:00",
          "2024-04-22T00:00:00",
          "2024-04-29T00:00:00",
          "2024-05-06T00:00:00",
          "2024-05-13T00:00:00",
          "2024-05-20T00:00:00",
          "2024-05-27T00:00:00",
          "2024-06-03T00:00:00",
          "2024-06-10T00:00:00",
          "2024-06-17T00:00:00",
          "2024-06-24T00:00:00",
          "2024-07-01T00:00:00",
          "2024-07-08T00:00:00",
          "2024-07-15T00:00:00",
          "2024-07-22T00:00:00",
          "2024-07-29T00:00:00",
          "2024-08-05T00:00:00",
          "2024-08-06T00:00:00"
         ],
         "xaxis": "x",
         "y": [
          -0.8593133653777548,
          -0.8429520908934629,
          -0.7634614635181467,
          -0.7509936711833449,
          -0.7772008012504503,
          -0.736033658336932,
          -0.668599984894504,
          -0.6916215074188862,
          -0.7120219162758641,
          -0.6961194391467297,
          -0.7579220437508707,
          -0.7699641550035105,
          -0.8534304106811955,
          -0.8211593846168571,
          -0.8152199618633635,
          -0.8404220119941158,
          -0.8304702971535504,
          -0.8334845365615015,
          -0.8801415706451639,
          -0.9261458171389064,
          -0.8843068623759053,
          -0.9220138375452037,
          -0.9129681398541134,
          -0.8859464407207954,
          -0.8818954868455702,
          -0.866095061958647,
          -0.7981193991609948,
          -0.7596454581310715,
          -0.8035647685942725,
          -0.82683062825961,
          -0.8885216479708226,
          -0.831764559713978,
          -0.7725626352950766,
          -0.8367692960258406,
          -0.8774034135690826,
          -0.8766548984388381,
          -0.7931363243322912,
          -0.7489565093298817,
          -0.6708050161295429,
          -0.6432395029978325,
          -0.6285288541254666,
          -0.6228314060728856,
          -0.6155049521972452,
          -0.5991593821623178,
          -0.5144571382563241,
          -0.5057600544367051,
          -0.48731922408286216,
          -0.49330524986333657,
          -0.7482623910942016,
          -0.8176500951594151,
          -0.8442287655226535,
          -0.7703786954358289,
          -0.717094198295226,
          -0.6996697097697788,
          -0.730624858664295,
          -0.5977364859227179,
          -0.662094810304235,
          -0.6343807964648507,
          -0.6641576501720687,
          -0.6182689367140474,
          -0.6247501801972825,
          -0.6487684309881099,
          -0.6206618951944798,
          -0.5816075916087811,
          -0.6517614991352804,
          -0.7062297961644401,
          -0.7203209052902708,
          -0.7778449465998114,
          -0.7865550925561048,
          -0.8079237551902679,
          -0.7956945076466619,
          -0.7843568133724252,
          -0.7814321564801232,
          -0.7639500302583877,
          -0.7568944765379457,
          -0.7307234171796101,
          -0.6967172079810716,
          -0.6635626225367214,
          -0.6158033882166544,
          -0.6496006118682558,
          -0.6693799466604604,
          -0.6859710340950397,
          -0.6569053231863586,
          -0.6236336969403234,
          -0.6022042992603988,
          -0.572380003020377,
          -0.4724005309621998,
          -0.5188661400872923,
          -0.5033345652517875,
          -0.4728950137690557,
          -0.4619307960315736,
          -0.4209837079716696,
          -0.3947823784384774,
          -0.2948571563824612,
          -0.2694792590806111,
          -0.26196794785158584,
          -0.2398024508581299,
          -0.2768821049755647,
          -0.25482932810080827,
          -0.32858254918464386,
          -0.3346557354042362,
          -0.49366935800376743,
          -0.5088785029303408,
          -0.515343102325607,
          -0.405987041754441,
          -0.3821736968624362,
          -0.3494954116143937,
          -0.29724206844382495,
          -0.3460191192223709,
          -0.356306857008922,
          -0.39016698269317546,
          -0.42255304247175424,
          -0.4378713067181085,
          -0.46278254232000365,
          -0.30242087844242743,
          -0.2743450859284749,
          -0.3575819892871204,
          -0.31194517530200994,
          -0.3637943005668409,
          -0.32251515536894604,
          -0.27532754627022804,
          -0.39493566149267834,
          -0.3932411786061249,
          -0.3643002211010533,
          -0.3609467231573737,
          -0.4320142654612396,
          -0.4435925109178761,
          -0.3020116921519813,
          -0.41866752592484,
          -0.3524578799249458,
          -0.40146171024747834,
          -0.4042352329050504,
          -0.33227837500688334,
          -0.31828287378050574,
          -0.18041309957127327,
          -0.1621199704465063,
          -0.11404362542019361,
          -0.23212898213616098,
          -0.19843698017443365,
          -0.3093240295371317,
          -0.2909614352010614,
          -0.4390393906383402,
          -0.4898653952886737,
          -0.549701918344843,
          -0.4981562857295209,
          -0.5548659968180754,
          -0.564495559481513,
          -0.4287339324032712,
          -0.4125471021425404,
          -0.4207866401931348,
          -0.4041245825134296,
          -0.411692109718934,
          -0.4230304432743386,
          -0.46549282500158223,
          -0.5672104804949569,
          -0.4930759924260132,
          -0.4983016335726846,
          -0.547349304999947,
          -0.5948311316505696,
          -0.604782792091769,
          -0.5826361272998904,
          -0.5064985771560907,
          -0.456600368970538,
          -0.3336329278275253,
          -0.39479859191604777,
          -0.3101987838004806,
          -0.2221240819967874,
          -0.2268189965089123,
          -0.2965563806950865,
          -0.3354283881944424,
          -0.2864632285855028,
          -0.24233900776237297,
          -0.07731515757822355,
          -0.037980979405744346,
          -0.16085115587273333,
          -0.23398453057416674,
          -0.1954657008224069,
          -0.14462207358327378,
          -0.06697639564861554,
          0.056966527097658,
          -0.09543006521152407,
          0.025598748613517838,
          0.079831731253847,
          0.24621459480579896,
          0.20653788695397482,
          0.12869108563708243,
          0.03855879755159985,
          0.09043413759969414,
          0.16151365181367924,
          0.22302119419297142,
          0.22760326099791003,
          0.308537883131427,
          0.30355322657727185,
          0.37746860336772214,
          0.2611221121647489,
          0.23279519366109783,
          0.3396717718992979,
          0.4890672159525681,
          0.298083551297872,
          0.6708423371874535,
          0.8148358291078552,
          0.7250141642651002,
          0.7801941605234612,
          0.9246557675982495,
          0.9589166430223183,
          0.99338135217767,
          0.8479644970121988,
          0.7919293160304242,
          1.0560105753675058,
          1.2573253658856345,
          1.211972121973176,
          1.1294364998625235,
          1.089525735910084,
          1.1524605703802548,
          1.134598112833161,
          1.0828387924036584,
          1.1125282699923218,
          0.9895854493723932,
          1.111894909860912,
          0.9443476296052525,
          0.9851806205582911,
          0.9867443343161549,
          0.8738631412426118,
          0.8286217631046319,
          0.688759345228134,
          0.6306552101826944,
          0.5946322722500074,
          0.539506848597829,
          0.6156066868950772,
          0.7031260254530682,
          0.5596522761589688,
          0.5475530560773694,
          0.8031948344779154,
          1.065765486624801,
          1.0655502116482973,
          1.2344961108819665,
          0.9968543759444185,
          1.1010621047724434,
          1.3796897765986982,
          1.883163939663068,
          1.6041918839960219,
          1.7768958672015427,
          1.873414121673077,
          1.7758783688469482,
          1.9317792621909111,
          2.1528109457717854,
          2.247366355837177,
          2.035932203608487,
          2.5974273942168167,
          2.6934455707334597,
          3.1968037371863156,
          3.867772119729349,
          3.4005016101874097,
          3.362257501162633,
          3.1176620700552986,
          2.9773433834068053,
          3.459515808205962,
          3.62512356298757,
          3.2817536890177768,
          3.3811699434479427
         ],
         "yaxis": "y"
        }
       ],
       "layout": {
        "autosize": true,
        "legend": {
         "title": {
          "text": "variable"
         },
         "tracegroupgap": 0
        },
        "margin": {
         "t": 60
        },
        "template": {
         "data": {
          "bar": [
           {
            "error_x": {
             "color": "#2a3f5f"
            },
            "error_y": {
             "color": "#2a3f5f"
            },
            "marker": {
             "line": {
              "color": "#E5ECF6",
              "width": 0.5
             },
             "pattern": {
              "fillmode": "overlay",
              "size": 10,
              "solidity": 0.2
             }
            },
            "type": "bar"
           }
          ],
          "barpolar": [
           {
            "marker": {
             "line": {
              "color": "#E5ECF6",
              "width": 0.5
             },
             "pattern": {
              "fillmode": "overlay",
              "size": 10,
              "solidity": 0.2
             }
            },
            "type": "barpolar"
           }
          ],
          "carpet": [
           {
            "aaxis": {
             "endlinecolor": "#2a3f5f",
             "gridcolor": "white",
             "linecolor": "white",
             "minorgridcolor": "white",
             "startlinecolor": "#2a3f5f"
            },
            "baxis": {
             "endlinecolor": "#2a3f5f",
             "gridcolor": "white",
             "linecolor": "white",
             "minorgridcolor": "white",
             "startlinecolor": "#2a3f5f"
            },
            "type": "carpet"
           }
          ],
          "choropleth": [
           {
            "colorbar": {
             "outlinewidth": 0,
             "ticks": ""
            },
            "type": "choropleth"
           }
          ],
          "contour": [
           {
            "colorbar": {
             "outlinewidth": 0,
             "ticks": ""
            },
            "colorscale": [
             [
              0,
              "#0d0887"
             ],
             [
              0.1111111111111111,
              "#46039f"
             ],
             [
              0.2222222222222222,
              "#7201a8"
             ],
             [
              0.3333333333333333,
              "#9c179e"
             ],
             [
              0.4444444444444444,
              "#bd3786"
             ],
             [
              0.5555555555555556,
              "#d8576b"
             ],
             [
              0.6666666666666666,
              "#ed7953"
             ],
             [
              0.7777777777777778,
              "#fb9f3a"
             ],
             [
              0.8888888888888888,
              "#fdca26"
             ],
             [
              1,
              "#f0f921"
             ]
            ],
            "type": "contour"
           }
          ],
          "contourcarpet": [
           {
            "colorbar": {
             "outlinewidth": 0,
             "ticks": ""
            },
            "type": "contourcarpet"
           }
          ],
          "heatmap": [
           {
            "colorbar": {
             "outlinewidth": 0,
             "ticks": ""
            },
            "colorscale": [
             [
              0,
              "#0d0887"
             ],
             [
              0.1111111111111111,
              "#46039f"
             ],
             [
              0.2222222222222222,
              "#7201a8"
             ],
             [
              0.3333333333333333,
              "#9c179e"
             ],
             [
              0.4444444444444444,
              "#bd3786"
             ],
             [
              0.5555555555555556,
              "#d8576b"
             ],
             [
              0.6666666666666666,
              "#ed7953"
             ],
             [
              0.7777777777777778,
              "#fb9f3a"
             ],
             [
              0.8888888888888888,
              "#fdca26"
             ],
             [
              1,
              "#f0f921"
             ]
            ],
            "type": "heatmap"
           }
          ],
          "heatmapgl": [
           {
            "colorbar": {
             "outlinewidth": 0,
             "ticks": ""
            },
            "colorscale": [
             [
              0,
              "#0d0887"
             ],
             [
              0.1111111111111111,
              "#46039f"
             ],
             [
              0.2222222222222222,
              "#7201a8"
             ],
             [
              0.3333333333333333,
              "#9c179e"
             ],
             [
              0.4444444444444444,
              "#bd3786"
             ],
             [
              0.5555555555555556,
              "#d8576b"
             ],
             [
              0.6666666666666666,
              "#ed7953"
             ],
             [
              0.7777777777777778,
              "#fb9f3a"
             ],
             [
              0.8888888888888888,
              "#fdca26"
             ],
             [
              1,
              "#f0f921"
             ]
            ],
            "type": "heatmapgl"
           }
          ],
          "histogram": [
           {
            "marker": {
             "pattern": {
              "fillmode": "overlay",
              "size": 10,
              "solidity": 0.2
             }
            },
            "type": "histogram"
           }
          ],
          "histogram2d": [
           {
            "colorbar": {
             "outlinewidth": 0,
             "ticks": ""
            },
            "colorscale": [
             [
              0,
              "#0d0887"
             ],
             [
              0.1111111111111111,
              "#46039f"
             ],
             [
              0.2222222222222222,
              "#7201a8"
             ],
             [
              0.3333333333333333,
              "#9c179e"
             ],
             [
              0.4444444444444444,
              "#bd3786"
             ],
             [
              0.5555555555555556,
              "#d8576b"
             ],
             [
              0.6666666666666666,
              "#ed7953"
             ],
             [
              0.7777777777777778,
              "#fb9f3a"
             ],
             [
              0.8888888888888888,
              "#fdca26"
             ],
             [
              1,
              "#f0f921"
             ]
            ],
            "type": "histogram2d"
           }
          ],
          "histogram2dcontour": [
           {
            "colorbar": {
             "outlinewidth": 0,
             "ticks": ""
            },
            "colorscale": [
             [
              0,
              "#0d0887"
             ],
             [
              0.1111111111111111,
              "#46039f"
             ],
             [
              0.2222222222222222,
              "#7201a8"
             ],
             [
              0.3333333333333333,
              "#9c179e"
             ],
             [
              0.4444444444444444,
              "#bd3786"
             ],
             [
              0.5555555555555556,
              "#d8576b"
             ],
             [
              0.6666666666666666,
              "#ed7953"
             ],
             [
              0.7777777777777778,
              "#fb9f3a"
             ],
             [
              0.8888888888888888,
              "#fdca26"
             ],
             [
              1,
              "#f0f921"
             ]
            ],
            "type": "histogram2dcontour"
           }
          ],
          "mesh3d": [
           {
            "colorbar": {
             "outlinewidth": 0,
             "ticks": ""
            },
            "type": "mesh3d"
           }
          ],
          "parcoords": [
           {
            "line": {
             "colorbar": {
              "outlinewidth": 0,
              "ticks": ""
             }
            },
            "type": "parcoords"
           }
          ],
          "pie": [
           {
            "automargin": true,
            "type": "pie"
           }
          ],
          "scatter": [
           {
            "fillpattern": {
             "fillmode": "overlay",
             "size": 10,
             "solidity": 0.2
            },
            "type": "scatter"
           }
          ],
          "scatter3d": [
           {
            "line": {
             "colorbar": {
              "outlinewidth": 0,
              "ticks": ""
             }
            },
            "marker": {
             "colorbar": {
              "outlinewidth": 0,
              "ticks": ""
             }
            },
            "type": "scatter3d"
           }
          ],
          "scattercarpet": [
           {
            "marker": {
             "colorbar": {
              "outlinewidth": 0,
              "ticks": ""
             }
            },
            "type": "scattercarpet"
           }
          ],
          "scattergeo": [
           {
            "marker": {
             "colorbar": {
              "outlinewidth": 0,
              "ticks": ""
             }
            },
            "type": "scattergeo"
           }
          ],
          "scattergl": [
           {
            "marker": {
             "colorbar": {
              "outlinewidth": 0,
              "ticks": ""
             }
            },
            "type": "scattergl"
           }
          ],
          "scattermapbox": [
           {
            "marker": {
             "colorbar": {
              "outlinewidth": 0,
              "ticks": ""
             }
            },
            "type": "scattermapbox"
           }
          ],
          "scatterpolar": [
           {
            "marker": {
             "colorbar": {
              "outlinewidth": 0,
              "ticks": ""
             }
            },
            "type": "scatterpolar"
           }
          ],
          "scatterpolargl": [
           {
            "marker": {
             "colorbar": {
              "outlinewidth": 0,
              "ticks": ""
             }
            },
            "type": "scatterpolargl"
           }
          ],
          "scatterternary": [
           {
            "marker": {
             "colorbar": {
              "outlinewidth": 0,
              "ticks": ""
             }
            },
            "type": "scatterternary"
           }
          ],
          "surface": [
           {
            "colorbar": {
             "outlinewidth": 0,
             "ticks": ""
            },
            "colorscale": [
             [
              0,
              "#0d0887"
             ],
             [
              0.1111111111111111,
              "#46039f"
             ],
             [
              0.2222222222222222,
              "#7201a8"
             ],
             [
              0.3333333333333333,
              "#9c179e"
             ],
             [
              0.4444444444444444,
              "#bd3786"
             ],
             [
              0.5555555555555556,
              "#d8576b"
             ],
             [
              0.6666666666666666,
              "#ed7953"
             ],
             [
              0.7777777777777778,
              "#fb9f3a"
             ],
             [
              0.8888888888888888,
              "#fdca26"
             ],
             [
              1,
              "#f0f921"
             ]
            ],
            "type": "surface"
           }
          ],
          "table": [
           {
            "cells": {
             "fill": {
              "color": "#EBF0F8"
             },
             "line": {
              "color": "white"
             }
            },
            "header": {
             "fill": {
              "color": "#C8D4E3"
             },
             "line": {
              "color": "white"
             }
            },
            "type": "table"
           }
          ]
         },
         "layout": {
          "annotationdefaults": {
           "arrowcolor": "#2a3f5f",
           "arrowhead": 0,
           "arrowwidth": 1
          },
          "autotypenumbers": "strict",
          "coloraxis": {
           "colorbar": {
            "outlinewidth": 0,
            "ticks": ""
           }
          },
          "colorscale": {
           "diverging": [
            [
             0,
             "#8e0152"
            ],
            [
             0.1,
             "#c51b7d"
            ],
            [
             0.2,
             "#de77ae"
            ],
            [
             0.3,
             "#f1b6da"
            ],
            [
             0.4,
             "#fde0ef"
            ],
            [
             0.5,
             "#f7f7f7"
            ],
            [
             0.6,
             "#e6f5d0"
            ],
            [
             0.7,
             "#b8e186"
            ],
            [
             0.8,
             "#7fbc41"
            ],
            [
             0.9,
             "#4d9221"
            ],
            [
             1,
             "#276419"
            ]
           ],
           "sequential": [
            [
             0,
             "#0d0887"
            ],
            [
             0.1111111111111111,
             "#46039f"
            ],
            [
             0.2222222222222222,
             "#7201a8"
            ],
            [
             0.3333333333333333,
             "#9c179e"
            ],
            [
             0.4444444444444444,
             "#bd3786"
            ],
            [
             0.5555555555555556,
             "#d8576b"
            ],
            [
             0.6666666666666666,
             "#ed7953"
            ],
            [
             0.7777777777777778,
             "#fb9f3a"
            ],
            [
             0.8888888888888888,
             "#fdca26"
            ],
            [
             1,
             "#f0f921"
            ]
           ],
           "sequentialminus": [
            [
             0,
             "#0d0887"
            ],
            [
             0.1111111111111111,
             "#46039f"
            ],
            [
             0.2222222222222222,
             "#7201a8"
            ],
            [
             0.3333333333333333,
             "#9c179e"
            ],
            [
             0.4444444444444444,
             "#bd3786"
            ],
            [
             0.5555555555555556,
             "#d8576b"
            ],
            [
             0.6666666666666666,
             "#ed7953"
            ],
            [
             0.7777777777777778,
             "#fb9f3a"
            ],
            [
             0.8888888888888888,
             "#fdca26"
            ],
            [
             1,
             "#f0f921"
            ]
           ]
          },
          "colorway": [
           "#636efa",
           "#EF553B",
           "#00cc96",
           "#ab63fa",
           "#FFA15A",
           "#19d3f3",
           "#FF6692",
           "#B6E880",
           "#FF97FF",
           "#FECB52"
          ],
          "font": {
           "color": "#2a3f5f"
          },
          "geo": {
           "bgcolor": "white",
           "lakecolor": "white",
           "landcolor": "#E5ECF6",
           "showlakes": true,
           "showland": true,
           "subunitcolor": "white"
          },
          "hoverlabel": {
           "align": "left"
          },
          "hovermode": "closest",
          "mapbox": {
           "style": "light"
          },
          "paper_bgcolor": "white",
          "plot_bgcolor": "#E5ECF6",
          "polar": {
           "angularaxis": {
            "gridcolor": "white",
            "linecolor": "white",
            "ticks": ""
           },
           "bgcolor": "#E5ECF6",
           "radialaxis": {
            "gridcolor": "white",
            "linecolor": "white",
            "ticks": ""
           }
          },
          "scene": {
           "xaxis": {
            "backgroundcolor": "#E5ECF6",
            "gridcolor": "white",
            "gridwidth": 2,
            "linecolor": "white",
            "showbackground": true,
            "ticks": "",
            "zerolinecolor": "white"
           },
           "yaxis": {
            "backgroundcolor": "#E5ECF6",
            "gridcolor": "white",
            "gridwidth": 2,
            "linecolor": "white",
            "showbackground": true,
            "ticks": "",
            "zerolinecolor": "white"
           },
           "zaxis": {
            "backgroundcolor": "#E5ECF6",
            "gridcolor": "white",
            "gridwidth": 2,
            "linecolor": "white",
            "showbackground": true,
            "ticks": "",
            "zerolinecolor": "white"
           }
          },
          "shapedefaults": {
           "line": {
            "color": "#2a3f5f"
           }
          },
          "ternary": {
           "aaxis": {
            "gridcolor": "white",
            "linecolor": "white",
            "ticks": ""
           },
           "baxis": {
            "gridcolor": "white",
            "linecolor": "white",
            "ticks": ""
           },
           "bgcolor": "#E5ECF6",
           "caxis": {
            "gridcolor": "white",
            "linecolor": "white",
            "ticks": ""
           }
          },
          "title": {
           "x": 0.05
          },
          "xaxis": {
           "automargin": true,
           "gridcolor": "white",
           "linecolor": "white",
           "ticks": "",
           "title": {
            "standoff": 15
           },
           "zerolinecolor": "white",
           "zerolinewidth": 2
          },
          "yaxis": {
           "automargin": true,
           "gridcolor": "white",
           "linecolor": "white",
           "ticks": "",
           "title": {
            "standoff": 15
           },
           "zerolinecolor": "white",
           "zerolinewidth": 2
          }
         }
        },
        "xaxis": {
         "anchor": "y",
         "autorange": true,
         "domain": [
          0,
          1
         ],
         "range": [
          "2019-05-08 07:00:01.3368",
          "2024-11-23 16:59:58.6632"
         ],
         "title": {
          "text": "date"
         },
         "type": "date"
        },
        "yaxis": {
         "anchor": "x",
         "autorange": true,
         "domain": [
          0,
          1
         ],
         "range": [
          -1.297328439547341,
          4.238954742137784
         ],
         "title": {
          "text": "value"
         },
         "type": "linear"
        }
       }
      },
      "image/png": "[encoded data removed]",
      "text/html": [
       "<div>                            <div id=\"e746e657-3c1b-4e10-b373-06450aa7bae2\" class=\"plotly-graph-div\" style=\"height:525px; width:100%;\"></div>            <script type=\"text/javascript\">                require([\"plotly\"], function(Plotly) {                    window.PLOTLYENV=window.PLOTLYENV || {};                                    if (document.getElementById(\"e746e657-3c1b-4e10-b373-06450aa7bae2\")) {                    Plotly.newPlot(                        \"e746e657-3c1b-4e10-b373-06450aa7bae2\",                        [{\"hovertemplate\":\"variable=asset1\\u003cbr\\u003edate=%{x}\\u003cbr\\u003evalue=%{y}\\u003cextra\\u003e\\u003c\\u002fextra\\u003e\",\"legendgroup\":\"asset1\",\"marker\":{\"color\":\"#636efa\",\"symbol\":\"circle\"},\"mode\":\"markers+lines\",\"name\":\"asset1\",\"orientation\":\"v\",\"showlegend\":true,\"x\":[\"2019-08-26T00:00:00\",\"2019-09-02T00:00:00\",\"2019-09-09T00:00:00\",\"2019-09-16T00:00:00\",\"2019-09-23T00:00:00\",\"2019-09-30T00:00:00\",\"2019-10-07T00:00:00\",\"2019-10-14T00:00:00\",\"2019-10-21T00:00:00\",\"2019-10-28T00:00:00\",\"2019-11-04T00:00:00\",\"2019-11-11T00:00:00\",\"2019-11-18T00:00:00\",\"2019-11-25T00:00:00\",\"2019-12-02T00:00:00\",\"2019-12-09T00:00:00\",\"2019-12-16T00:00:00\",\"2019-12-23T00:00:00\",\"2019-12-30T00:00:00\",\"2020-01-06T00:00:00\",\"2020-01-13T00:00:00\",\"2020-01-20T00:00:00\",\"2020-01-27T00:00:00\",\"2020-02-03T00:00:00\",\"2020-02-10T00:00:00\",\"2020-02-17T00:00:00\",\"2020-02-24T00:00:00\",\"2020-03-02T00:00:00\",\"2020-03-09T00:00:00\",\"2020-03-16T00:00:00\",\"2020-03-23T00:00:00\",\"2020-03-30T00:00:00\",\"2020-04-06T00:00:00\",\"2020-04-13T00:00:00\",\"2020-04-20T00:00:00\",\"2020-04-27T00:00:00\",\"2020-05-04T00:00:00\",\"2020-05-11T00:00:00\",\"2020-05-18T00:00:00\",\"2020-05-25T00:00:00\",\"2020-06-01T00:00:00\",\"2020-06-08T00:00:00\",\"2020-06-15T00:00:00\",\"2020-06-22T00:00:00\",\"2020-06-29T00:00:00\",\"2020-07-06T00:00:00\",\"2020-07-13T00:00:00\",\"2020-07-20T00:00:00\",\"2020-07-27T00:00:00\",\"2020-08-03T00:00:00\",\"2020-08-10T00:00:00\",\"2020-08-17T00:00:00\",\"2020-08-24T00:00:00\",\"2020-08-31T00:00:00\",\"2020-09-07T00:00:00\",\"2020-09-14T00:00:00\",\"2020-09-21T00:00:00\",\"2020-09-28T00:00:00\",\"2020-10-05T00:00:00\",\"2020-10-12T00:00:00\",\"2020-10-19T00:00:00\",\"2020-10-26T00:00:00\",\"2020-11-02T00:00:00\",\"2020-11-09T00:00:00\",\"2020-11-16T00:00:00\",\"2020-11-23T00:00:00\",\"2020-11-30T00:00:00\",\"2020-12-07T00:00:00\",\"2020-12-14T00:00:00\",\"2020-12-21T00:00:00\",\"2020-12-28T00:00:00\",\"2021-01-04T00:00:00\",\"2021-01-11T00:00:00\",\"2021-01-18T00:00:00\",\"2021-01-25T00:00:00\",\"2021-02-01T00:00:00\",\"2021-02-08T00:00:00\",\"2021-02-15T00:00:00\",\"2021-02-22T00:00:00\",\"2021-03-01T00:00:00\",\"2021-03-08T00:00:00\",\"2021-03-15T00:00:00\",\"2021-03-22T00:00:00\",\"2021-03-29T00:00:00\",\"2021-04-05T00:00:00\",\"2021-04-12T00:00:00\",\"2021-04-19T00:00:00\",\"2021-04-26T00:00:00\",\"2021-05-03T00:00:00\",\"2021-05-10T00:00:00\",\"2021-05-17T00:00:00\",\"2021-05-24T00:00:00\",\"2021-05-31T00:00:00\",\"2021-06-07T00:00:00\",\"2021-06-14T00:00:00\",\"2021-06-21T00:00:00\",\"2021-06-28T00:00:00\",\"2021-07-05T00:00:00\",\"2021-07-12T00:00:00\",\"2021-07-19T00:00:00\",\"2021-07-26T00:00:00\",\"2021-08-02T00:00:00\",\"2021-08-09T00:00:00\",\"2021-08-16T00:00:00\",\"2021-08-23T00:00:00\",\"2021-08-30T00:00:00\",\"2021-09-06T00:00:00\",\"2021-09-13T00:00:00\",\"2021-09-20T00:00:00\",\"2021-09-27T00:00:00\",\"2021-10-04T00:00:00\",\"2021-10-11T00:00:00\",\"2021-10-18T00:00:00\",\"2021-10-25T00:00:00\",\"2021-11-01T00:00:00\",\"2021-11-08T00:00:00\",\"2021-11-15T00:00:00\",\"2021-11-22T00:00:00\",\"2021-11-29T00:00:00\",\"2021-12-06T00:00:00\",\"2021-12-13T00:00:00\",\"2021-12-20T00:00:00\",\"2021-12-27T00:00:00\",\"2022-01-03T00:00:00\",\"2022-01-10T00:00:00\",\"2022-01-17T00:00:00\",\"2022-01-24T00:00:00\",\"2022-01-31T00:00:00\",\"2022-02-07T00:00:00\",\"2022-02-14T00:00:00\",\"2022-02-21T00:00:00\",\"2022-02-28T00:00:00\",\"2022-03-07T00:00:00\",\"2022-03-14T00:00:00\",\"2022-03-21T00:00:00\",\"2022-03-28T00:00:00\",\"2022-04-04T00:00:00\",\"2022-04-11T00:00:00\",\"2022-04-18T00:00:00\",\"2022-04-25T00:00:00\",\"2022-05-02T00:00:00\",\"2022-05-09T00:00:00\",\"2022-05-16T00:00:00\",\"2022-05-23T00:00:00\",\"2022-05-30T00:00:00\",\"2022-06-06T00:00:00\",\"2022-06-13T00:00:00\",\"2022-06-20T00:00:00\",\"2022-06-27T00:00:00\",\"2022-07-04T00:00:00\",\"2022-07-11T00:00:00\",\"2022-07-18T00:00:00\",\"2022-07-25T00:00:00\",\"2022-08-01T00:00:00\",\"2022-08-08T00:00:00\",\"2022-08-15T00:00:00\",\"2022-08-22T00:00:00\",\"2022-08-29T00:00:00\",\"2022-09-05T00:00:00\",\"2022-09-12T00:00:00\",\"2022-09-19T00:00:00\",\"2022-09-26T00:00:00\",\"2022-10-03T00:00:00\",\"2022-10-10T00:00:00\",\"2022-10-17T00:00:00\",\"2022-10-24T00:00:00\",\"2022-10-31T00:00:00\",\"2022-11-07T00:00:00\",\"2022-11-14T00:00:00\",\"2022-11-21T00:00:00\",\"2022-11-28T00:00:00\",\"2022-12-05T00:00:00\",\"2022-12-12T00:00:00\",\"2022-12-19T00:00:00\",\"2022-12-26T00:00:00\",\"2023-01-02T00:00:00\",\"2023-01-09T00:00:00\",\"2023-01-16T00:00:00\",\"2023-01-23T00:00:00\",\"2023-01-30T00:00:00\",\"2023-02-06T00:00:00\",\"2023-02-13T00:00:00\",\"2023-02-20T00:00:00\",\"2023-02-27T00:00:00\",\"2023-03-06T00:00:00\",\"2023-03-13T00:00:00\",\"2023-03-20T00:00:00\",\"2023-03-27T00:00:00\",\"2023-04-03T00:00:00\",\"2023-04-10T00:00:00\",\"2023-04-17T00:00:00\",\"2023-04-24T00:00:00\",\"2023-05-01T00:00:00\",\"2023-05-08T00:00:00\",\"2023-05-15T00:00:00\",\"2023-05-22T00:00:00\",\"2023-05-29T00:00:00\",\"2023-06-05T00:00:00\",\"2023-06-12T00:00:00\",\"2023-06-19T00:00:00\",\"2023-06-26T00:00:00\",\"2023-07-03T00:00:00\",\"2023-07-10T00:00:00\",\"2023-07-17T00:00:00\",\"2023-07-24T00:00:00\",\"2023-07-31T00:00:00\",\"2023-08-07T00:00:00\",\"2023-08-14T00:00:00\",\"2023-08-21T00:00:00\",\"2023-08-28T00:00:00\",\"2023-09-04T00:00:00\",\"2023-09-11T00:00:00\",\"2023-09-18T00:00:00\",\"2023-09-25T00:00:00\",\"2023-10-02T00:00:00\",\"2023-10-09T00:00:00\",\"2023-10-16T00:00:00\",\"2023-10-23T00:00:00\",\"2023-10-30T00:00:00\",\"2023-11-06T00:00:00\",\"2023-11-13T00:00:00\",\"2023-11-20T00:00:00\",\"2023-11-27T00:00:00\",\"2023-12-04T00:00:00\",\"2023-12-11T00:00:00\",\"2023-12-18T00:00:00\",\"2023-12-25T00:00:00\",\"2024-01-01T00:00:00\",\"2024-01-08T00:00:00\",\"2024-01-15T00:00:00\",\"2024-01-22T00:00:00\",\"2024-01-29T00:00:00\",\"2024-02-05T00:00:00\",\"2024-02-12T00:00:00\",\"2024-02-19T00:00:00\",\"2024-02-26T00:00:00\",\"2024-03-04T00:00:00\",\"2024-03-11T00:00:00\",\"2024-03-18T00:00:00\",\"2024-03-25T00:00:00\",\"2024-04-01T00:00:00\",\"2024-04-08T00:00:00\",\"2024-04-15T00:00:00\",\"2024-04-22T00:00:00\",\"2024-04-29T00:00:00\",\"2024-05-06T00:00:00\",\"2024-05-13T00:00:00\",\"2024-05-20T00:00:00\",\"2024-05-27T00:00:00\",\"2024-06-03T00:00:00\",\"2024-06-10T00:00:00\",\"2024-06-17T00:00:00\",\"2024-06-24T00:00:00\",\"2024-07-01T00:00:00\",\"2024-07-08T00:00:00\",\"2024-07-15T00:00:00\",\"2024-07-22T00:00:00\",\"2024-07-29T00:00:00\",\"2024-08-05T00:00:00\",\"2024-08-06T00:00:00\"],\"xaxis\":\"x\",\"y\":[4.122499942779541,4.114500045776367,4.497499942779541,4.4730000495910645,4.317500114440918,4.320000171661377,4.614500045776367,4.640999794006348,4.823999881744385,5.15749979019165,5.146249771118164,5.193749904632568,5.097249984741211,5.401000022888184,5.411499977111816,5.28125,5.647500038146973,6.013000011444092,5.899750232696533,5.808000087738037,6.191500186920166,6.195250034332275,5.955999851226807,5.892499923706055,6.3125,7.140999794006348,6.754749774932861,6.922500133514404,5.997499942779541,5.3102498054504395,5.142749786376953,6.383999824523926,6.38100004196167,6.513750076293945,7.181000232696533,7.374750137329102,7.021999835968018,7.807499885559082,8.760499954223633,9.156749725341797,8.833250045776367,8.877249717712402,8.815250396728516,9.300000190734863,9.169750213623047,9.74174976348877,10.595000267028809,10.274250030517578,10.232250213623047,10.732500076293945,11.334250450134277,11.851249694824219,12.883749961853027,13.18274974822998,11.73449993133545,13.081000328063965,11.925000190734863,13.040249824523926,13.236000061035156,13.989500045776367,13.902999877929688,13.427000045776367,12.657750129699707,14.552499771118164,13.172499656677246,13.171250343322754,13.265000343322754,13.601249694824219,13.088000297546387,13.074749946594238,13.0625,13.104249954223633,13.418749809265137,13.016249656677246,13.781749725341797,13.053250312805176,13.727250099182129,15.064249992370605,14.774749755859375,13.875,12.449999809265137,12.864749908447266,12.912750244140625,12.820249557495117,13.867500305175781,14.289750099182129,15.536499977111816,15.1850004196167,15.125,14.787249565124512,14.156999588012695,15.212499618530273,16.270000457763672,17.571250915527344,17.9060001373291,18.43524932861328,19.361249923706055,20.737499237060547,20.239999771118164,17.915250778198242,19.31100082397461,19.700000762939453,20.445999145507812,20.135000228881836,20.97100067138672,22.829999923706055,22.83300018310547,22.68400001525879,21.145999908447266,21.709999084472656,20.503999710083008,20.575000762939453,21.749000549316406,22.972999572753906,25.64900016784668,30.14900016784668,30.552000045776367,33.516998291015625,32.36600112915039,29.8799991607666,30.249000549316406,27.30500030517578,29.65999984741211,29.815000534057617,26.58099937438965,26.260000228881836,22.329999923706055,23.18199920654297,24.371999740600586,23.93400001525879,23.03499984741211,23.992000579833984,22.816999435424805,21.868999481201172,26.506999969482422,27.756000518798828,26.72800064086914,22.214000701904297,21.200000762939453,19.20199966430664,18.541000366210938,18.034000396728516,17.509000778198242,16.27400016784668,18.979999542236328,19.138999938964844,16.0,16.475000381469727,17.312000274658203,14.175000190734863,15.526000022888184,16.302000045776367,17.018999099731445,18.18199920654297,17.50200080871582,18.701000213623047,17.489999771118164,16.020000457763672,13.730999946594238,14.369000434875488,13.01200008392334,12.491000175476074,12.347000122070312,12.036999702453613,11.517999649047852,12.508000373840332,13.777999877929688,14.227999687194824,16.218000411987305,15.147000312805176,16.025999069213867,16.679000854492188,17.03700065612793,16.57200050354004,15.074000358581543,14.85099983215332,15.284000396728516,16.89900016784668,18.06399917602539,19.950000762939453,20.805999755859375,21.538000106811523,21.0,23.670000076293945,23.891000747680664,22.75200080871582,25.614999771118164,26.836999893188477,27.509000778198242,26.822999954223633,26.565000534057617,27.01300048828125,27.84000015258789,28.52199935913086,28.507999420166016,30.900999069213867,40.595001220703125,38.909000396728516,39.20000076293945,42.99800109863281,42.46099853515625,42.516998291015625,42.65700149536133,46.28900146484375,44.73099899291992,46.75400161743164,45.111000061035156,40.486000061035156,44.49399948120117,46.481998443603516,48.222999572753906,46.14799880981445,42.74800109863281,41.590999603271484,44.029998779296875,44.84199905395508,45.0629997253418,41.229000091552734,41.08700180053711,45.28499984741211,48.31999969482422,49.3120002746582,47.79999923706055,46.07699966430664,47.49100112915039,49.400001525878906,48.96799850463867,49.24399948120117,49.512001037597656,55.018001556396484,60.04899978637695,61.231998443603516,68.2249984741211,72.5999984741211,71.9469985961914,79.69999694824219,84.12999725341797,86.42900085449219,90.38800048828125,93.94100189208984,90.29900360107422,88.69999694824219,89.0979995727539,78.10399627685547,87.59500122070312,89.38999938964844,90.47799682617188,93.75,110.24400329589844,113.62100219726562,120.37000274658203,132.99000549316406,123.23999786376953,123.47000122070312,127.48999786376953,130.55999755859375,120.3499984741211,113.69000244140625,92.05999755859375,103.8324966430664],\"yaxis\":\"y\",\"type\":\"scatter\"},{\"hovertemplate\":\"variable=asset2\\u003cbr\\u003edate=%{x}\\u003cbr\\u003evalue=%{y}\\u003cextra\\u003e\\u003c\\u002fextra\\u003e\",\"legendgroup\":\"asset2\",\"marker\":{\"color\":\"#EF553B\",\"symbol\":\"circle\"},\"mode\":\"markers+lines\",\"name\":\"asset2\",\"orientation\":\"v\",\"showlegend\":true,\"x\":[\"2019-08-26T00:00:00\",\"2019-09-02T00:00:00\",\"2019-09-09T00:00:00\",\"2019-09-16T00:00:00\",\"2019-09-23T00:00:00\",\"2019-09-30T00:00:00\",\"2019-10-07T00:00:00\",\"2019-10-14T00:00:00\",\"2019-10-21T00:00:00\",\"2019-10-28T00:00:00\",\"2019-11-04T00:00:00\",\"2019-11-11T00:00:00\",\"2019-11-18T00:00:00\",\"2019-11-25T00:00:00\",\"2019-12-02T00:00:00\",\"2019-12-09T00:00:00\",\"2019-12-16T00:00:00\",\"2019-12-23T00:00:00\",\"2019-12-30T00:00:00\",\"2020-01-06T00:00:00\",\"2020-01-13T00:00:00\",\"2020-01-20T00:00:00\",\"2020-01-27T00:00:00\",\"2020-02-03T00:00:00\",\"2020-02-10T00:00:00\",\"2020-02-17T00:00:00\",\"2020-02-24T00:00:00\",\"2020-03-02T00:00:00\",\"2020-03-09T00:00:00\",\"2020-03-16T00:00:00\",\"2020-03-23T00:00:00\",\"2020-03-30T00:00:00\",\"2020-04-06T00:00:00\",\"2020-04-13T00:00:00\",\"2020-04-20T00:00:00\",\"2020-04-27T00:00:00\",\"2020-05-04T00:00:00\",\"2020-05-11T00:00:00\",\"2020-05-18T00:00:00\",\"2020-05-25T00:00:00\",\"2020-06-01T00:00:00\",\"2020-06-08T00:00:00\",\"2020-06-15T00:00:00\",\"2020-06-22T00:00:00\",\"2020-06-29T00:00:00\",\"2020-07-06T00:00:00\",\"2020-07-13T00:00:00\",\"2020-07-20T00:00:00\",\"2020-07-27T00:00:00\",\"2020-08-03T00:00:00\",\"2020-08-10T00:00:00\",\"2020-08-17T00:00:00\",\"2020-08-24T00:00:00\",\"2020-08-31T00:00:00\",\"2020-09-07T00:00:00\",\"2020-09-14T00:00:00\",\"2020-09-21T00:00:00\",\"2020-09-28T00:00:00\",\"2020-10-05T00:00:00\",\"2020-10-12T00:00:00\",\"2020-10-19T00:00:00\",\"2020-10-26T00:00:00\",\"2020-11-02T00:00:00\",\"2020-11-09T00:00:00\",\"2020-11-16T00:00:00\",\"2020-11-23T00:00:00\",\"2020-11-30T00:00:00\",\"2020-12-07T00:00:00\",\"2020-12-14T00:00:00\",\"2020-12-21T00:00:00\",\"2020-12-28T00:00:00\",\"2021-01-04T00:00:00\",\"2021-01-11T00:00:00\",\"2021-01-18T00:00:00\",\"2021-01-25T00:00:00\",\"2021-02-01T00:00:00\",\"2021-02-08T00:00:00\",\"2021-02-15T00:00:00\",\"2021-02-22T00:00:00\",\"2021-03-01T00:00:00\",\"2021-03-08T00:00:00\",\"2021-03-15T00:00:00\",\"2021-03-22T00:00:00\",\"2021-03-29T00:00:00\",\"2021-04-05T00:00:00\",\"2021-04-12T00:00:00\",\"2021-04-19T00:00:00\",\"2021-04-26T00:00:00\",\"2021-05-03T00:00:00\",\"2021-05-10T00:00:00\",\"2021-05-17T00:00:00\",\"2021-05-24T00:00:00\",\"2021-05-31T00:00:00\",\"2021-06-07T00:00:00\",\"2021-06-14T00:00:00\",\"2021-06-21T00:00:00\",\"2021-06-28T00:00:00\",\"2021-07-05T00:00:00\",\"2021-07-12T00:00:00\",\"2021-07-19T00:00:00\",\"2021-07-26T00:00:00\",\"2021-08-02T00:00:00\",\"2021-08-09T00:00:00\",\"2021-08-16T00:00:00\",\"2021-08-23T00:00:00\",\"2021-08-30T00:00:00\",\"2021-09-06T00:00:00\",\"2021-09-13T00:00:00\",\"2021-09-20T00:00:00\",\"2021-09-27T00:00:00\",\"2021-10-04T00:00:00\",\"2021-10-11T00:00:00\",\"2021-10-18T00:00:00\",\"2021-10-25T00:00:00\",\"2021-11-01T00:00:00\",\"2021-11-08T00:00:00\",\"2021-11-15T00:00:00\",\"2021-11-22T00:00:00\",\"2021-11-29T00:00:00\",\"2021-12-06T00:00:00\",\"2021-12-13T00:00:00\",\"2021-12-20T00:00:00\",\"2021-12-27T00:00:00\",\"2022-01-03T00:00:00\",\"2022-01-10T00:00:00\",\"2022-01-17T00:00:00\",\"2022-01-24T00:00:00\",\"2022-01-31T00:00:00\",\"2022-02-07T00:00:00\",\"2022-02-14T00:00:00\",\"2022-02-21T00:00:00\",\"2022-02-28T00:00:00\",\"2022-03-07T00:00:00\",\"2022-03-14T00:00:00\",\"2022-03-21T00:00:00\",\"2022-03-28T00:00:00\",\"2022-04-04T00:00:00\",\"2022-04-11T00:00:00\",\"2022-04-18T00:00:00\",\"2022-04-25T00:00:00\",\"2022-05-02T00:00:00\",\"2022-05-09T00:00:00\",\"2022-05-16T00:00:00\",\"2022-05-23T00:00:00\",\"2022-05-30T00:00:00\",\"2022-06-06T00:00:00\",\"2022-06-13T00:00:00\",\"2022-06-20T00:00:00\",\"2022-06-27T00:00:00\",\"2022-07-04T00:00:00\",\"2022-07-11T00:00:00\",\"2022-07-18T00:00:00\",\"2022-07-25T00:00:00\",\"2022-08-01T00:00:00\",\"2022-08-08T00:00:00\",\"2022-08-15T00:00:00\",\"2022-08-22T00:00:00\",\"2022-08-29T00:00:00\",\"2022-09-05T00:00:00\",\"2022-09-12T00:00:00\",\"2022-09-19T00:00:00\",\"2022-09-26T00:00:00\",\"2022-10-03T00:00:00\",\"2022-10-10T00:00:00\",\"2022-10-17T00:00:00\",\"2022-10-24T00:00:00\",\"2022-10-31T00:00:00\",\"2022-11-07T00:00:00\",\"2022-11-14T00:00:00\",\"2022-11-21T00:00:00\",\"2022-11-28T00:00:00\",\"2022-12-05T00:00:00\",\"2022-12-12T00:00:00\",\"2022-12-19T00:00:00\",\"2022-12-26T00:00:00\",\"2023-01-02T00:00:00\",\"2023-01-09T00:00:00\",\"2023-01-16T00:00:00\",\"2023-01-23T00:00:00\",\"2023-01-30T00:00:00\",\"2023-02-06T00:00:00\",\"2023-02-13T00:00:00\",\"2023-02-20T00:00:00\",\"2023-02-27T00:00:00\",\"2023-03-06T00:00:00\",\"2023-03-13T00:00:00\",\"2023-03-20T00:00:00\",\"2023-03-27T00:00:00\",\"2023-04-03T00:00:00\",\"2023-04-10T00:00:00\",\"2023-04-17T00:00:00\",\"2023-04-24T00:00:00\",\"2023-05-01T00:00:00\",\"2023-05-08T00:00:00\",\"2023-05-15T00:00:00\",\"2023-05-22T00:00:00\",\"2023-05-29T00:00:00\",\"2023-06-05T00:00:00\",\"2023-06-12T00:00:00\",\"2023-06-19T00:00:00\",\"2023-06-26T00:00:00\",\"2023-07-03T00:00:00\",\"2023-07-10T00:00:00\",\"2023-07-17T00:00:00\",\"2023-07-24T00:00:00\",\"2023-07-31T00:00:00\",\"2023-08-07T00:00:00\",\"2023-08-14T00:00:00\",\"2023-08-21T00:00:00\",\"2023-08-28T00:00:00\",\"2023-09-04T00:00:00\",\"2023-09-11T00:00:00\",\"2023-09-18T00:00:00\",\"2023-09-25T00:00:00\",\"2023-10-02T00:00:00\",\"2023-10-09T00:00:00\",\"2023-10-16T00:00:00\",\"2023-10-23T00:00:00\",\"2023-10-30T00:00:00\",\"2023-11-06T00:00:00\",\"2023-11-13T00:00:00\",\"2023-11-20T00:00:00\",\"2023-11-27T00:00:00\",\"2023-12-04T00:00:00\",\"2023-12-11T00:00:00\",\"2023-12-18T00:00:00\",\"2023-12-25T00:00:00\",\"2024-01-01T00:00:00\",\"2024-01-08T00:00:00\",\"2024-01-15T00:00:00\",\"2024-01-22T00:00:00\",\"2024-01-29T00:00:00\",\"2024-02-05T00:00:00\",\"2024-02-12T00:00:00\",\"2024-02-19T00:00:00\",\"2024-02-26T00:00:00\",\"2024-03-04T00:00:00\",\"2024-03-11T00:00:00\",\"2024-03-18T00:00:00\",\"2024-03-25T00:00:00\",\"2024-04-01T00:00:00\",\"2024-04-08T00:00:00\",\"2024-04-15T00:00:00\",\"2024-04-22T00:00:00\",\"2024-04-29T00:00:00\",\"2024-05-06T00:00:00\",\"2024-05-13T00:00:00\",\"2024-05-20T00:00:00\",\"2024-05-27T00:00:00\",\"2024-06-03T00:00:00\",\"2024-06-10T00:00:00\",\"2024-06-17T00:00:00\",\"2024-06-24T00:00:00\",\"2024-07-01T00:00:00\",\"2024-07-08T00:00:00\",\"2024-07-15T00:00:00\",\"2024-07-22T00:00:00\",\"2024-07-29T00:00:00\",\"2024-08-05T00:00:00\",\"2024-08-06T00:00:00\"],\"xaxis\":\"x\",\"y\":[31.469999313354492,30.829999923706055,30.93000030517578,30.3700008392334,30.1200008392334,28.889999389648438,28.899999618530273,29.709999084472656,31.5,33.15999984741211,35.189998626708984,35.959999084472656,38.650001525878906,39.5,39.31999969482422,39.459999084472656,41.72999954223633,44.58000183105469,46.13999938964844,48.02000045776367,48.65999984741211,50.959999084472656,48.45000076293945,46.400001525878906,49.470001220703125,54.939998626708984,48.18000030517578,47.41999816894531,43.029998779296875,39.08000183105469,40.619998931884766,47.2400016784668,44.29999923706055,48.470001220703125,55.97999954223633,57.439998626708984,49.81999969482422,52.900001525878906,54.97999954223633,56.0099983215332,53.310001373291016,53.29999923706055,52.58000183105469,54.66999816894531,50.150001525878906,52.900001525878906,56.68000030517578,55.22999954223633,69.27999877929688,78.19000244140625,85.05000305175781,82.08999633789062,84.55000305175781,85.05000305175781,78.05000305175781,76.80000305175781,74.2300033569336,79.12000274658203,82.55000305175781,83.6500015258789,83.62000274658203,82.55000305175781,75.8499984741211,84.23999786376953,81.20999908447266,85.5199966430664,87.33000183105469,94.94999694824219,92.20999908447266,94.25,92.93000030517578,92.11000061035156,94.02999877929688,89.55999755859375,94.13999938964844,86.83000183105469,88.30999755859375,93.9000015258789,88.1500015258789,85.37000274658203,78.02999877929688,81.91000366210938,79.98999786376953,77.02999877929688,81.73999786376953,82.05999755859375,82.12999725341797,83.3499984741211,81.97000122070312,78.19999694824219,74.22000122070312,77.26000213623047,81.01000213623047,81.4000015258789,81.51000213623047,83.48999786376953,86.37999725341797,94.87999725341797,91.22000122070312,84.98999786376953,92.01000213623047,105.93000030517578,111.30999755859375,110.19999694824219,105.30000305175781,112.61000061035156,109.95999908447266,105.26000213623047,101.58000183105469,105.06999969482422,101.73999786376953,104.62000274658203,111.9000015258789,120.5199966430664,119.44999694824219,137.6999969482422,148.0,157.13999938964844,157.5,141.13999938964844,138.25,135.97000122070312,147.50999450683594,145.13999938964844,129.0800018310547,134.5,115.4000015258789,107.93000030517578,123.55999755859375,115.51000213623047,115.2699966430664,120.30999755859375,108.52999877929688,102.98999786376953,113.7300033569336,117.69999694824219,109.97000122070312,98.5999984741211,92.02999877929688,89.86000061035156,85.66000366210938,92.87000274658203,93.86000061035156,91.66000366210938,102.43000030517578,108.2699966430664,91.26000213623047,84.16999816894531,87.36000061035156,71.9800033569336,77.8499984741211,82.20999908447266,86.56999969482422,95.58999633789062,100.05999755859375,100.51000213623047,94.4000015258789,90.05000305175781,80.41000366210938,84.88999938964844,75.38999938964844,67.87000274658203,64.45999908447266,57.310001373291016,57.349998474121094,58.56999969482422,60.75,62.93000030517578,75.22000122070312,72.20999908447266,73.80999755859375,74.54000091552734,68.54000091552734,65.12000274658203,63.869998931884766,66.0,66.22000122070312,70.87000274658203,72.22000122070312,74.2300033569336,84.62999725341797,81.56999969482422,77.1500015258789,79.63999938964844,82.02999877929688,81.38999938964844,96.30000305175781,98.0199966430664,96.69999694824219,91.31999969482422,90.2300033569336,88.11000061035156,91.02999877929688,89.98999786376953,95.19999694824219,104.68000030517578,130.4199981689453,116.58999633789062,128.52000427246094,119.08999633789062,110.94999694824219,115.16000366210938,113.0,115.94999694824219,110.62000274658203,114.16000366210938,116.36000061035156,106.75,106.19999694824219,103.47000122070312,109.0,107.31999969482422,100.81999969482422,95.94999694824219,102.20999908447266,106.01000213623047,105.41999816894531,100.80999755859375,96.13999938964844,112.5999984741211,118.33999633789062,120.69999694824219,122.06999969482422,119.75,130.55999755859375,139.14999389648438,140.07000732421875,144.27999877929688,140.36000061035156,150.36000061035156,174.38999938964844,178.77000427246094,179.08999633789062,172.67999267578125,171.13999938964844,178.77999877929688,205.16000366210938,203.00999450683594,193.2899932861328,172.89999389648438,180.10000610351562,168.1999969482422,164.42999267578125,148.14999389648438,159.0800018310547,153.10000610351562,151.27999877929688,165.5500030517578,169.4199981689453,170.82000732421875,162.47999572753906,158.0,159.75,161.25,174.89999389648438,184.4499969482422,154.22999572753906,141.19000244140625,122.16000366210938,135.1020050048828],\"yaxis\":\"y\",\"type\":\"scatter\"},{\"hovertemplate\":\"variable=z\\u003cbr\\u003edate=%{x}\\u003cbr\\u003evalue=%{y}\\u003cextra\\u003e\\u003c\\u002fextra\\u003e\",\"legendgroup\":\"z\",\"marker\":{\"color\":\"#00cc96\",\"symbol\":\"circle\"},\"mode\":\"markers+lines\",\"name\":\"z\",\"orientation\":\"v\",\"showlegend\":true,\"x\":[\"2019-08-26T00:00:00\",\"2019-09-02T00:00:00\",\"2019-09-09T00:00:00\",\"2019-09-16T00:00:00\",\"2019-09-23T00:00:00\",\"2019-09-30T00:00:00\",\"2019-10-07T00:00:00\",\"2019-10-14T00:00:00\",\"2019-10-21T00:00:00\",\"2019-10-28T00:00:00\",\"2019-11-04T00:00:00\",\"2019-11-11T00:00:00\",\"2019-11-18T00:00:00\",\"2019-11-25T00:00:00\",\"2019-12-02T00:00:00\",\"2019-12-09T00:00:00\",\"2019-12-16T00:00:00\",\"2019-12-23T00:00:00\",\"2019-12-30T00:00:00\",\"2020-01-06T00:00:00\",\"2020-01-13T00:00:00\",\"2020-01-20T00:00:00\",\"2020-01-27T00:00:00\",\"2020-02-03T00:00:00\",\"2020-02-10T00:00:00\",\"2020-02-17T00:00:00\",\"2020-02-24T00:00:00\",\"2020-03-02T00:00:00\",\"2020-03-09T00:00:00\",\"2020-03-16T00:00:00\",\"2020-03-23T00:00:00\",\"2020-03-30T00:00:00\",\"2020-04-06T00:00:00\",\"2020-04-13T00:00:00\",\"2020-04-20T00:00:00\",\"2020-04-27T00:00:00\",\"2020-05-04T00:00:00\",\"2020-05-11T00:00:00\",\"2020-05-18T00:00:00\",\"2020-05-25T00:00:00\",\"2020-06-01T00:00:00\",\"2020-06-08T00:00:00\",\"2020-06-15T00:00:00\",\"2020-06-22T00:00:00\",\"2020-06-29T00:00:00\",\"2020-07-06T00:00:00\",\"2020-07-13T00:00:00\",\"2020-07-20T00:00:00\",\"2020-07-27T00:00:00\",\"2020-08-03T00:00:00\",\"2020-08-10T00:00:00\",\"2020-08-17T00:00:00\",\"2020-08-24T00:00:00\",\"2020-08-31T00:00:00\",\"2020-09-07T00:00:00\",\"2020-09-14T00:00:00\",\"2020-09-21T00:00:00\",\"2020-09-28T00:00:00\",\"2020-10-05T00:00:00\",\"2020-10-12T00:00:00\",\"2020-10-19T00:00:00\",\"2020-10-26T00:00:00\",\"2020-11-02T00:00:00\",\"2020-11-09T00:00:00\",\"2020-11-16T00:00:00\",\"2020-11-23T00:00:00\",\"2020-11-30T00:00:00\",\"2020-12-07T00:00:00\",\"2020-12-14T00:00:00\",\"2020-12-21T00:00:00\",\"2020-12-28T00:00:00\",\"2021-01-04T00:00:00\",\"2021-01-11T00:00:00\",\"2021-01-18T00:00:00\",\"2021-01-25T00:00:00\",\"2021-02-01T00:00:00\",\"2021-02-08T00:00:00\",\"2021-02-15T00:00:00\",\"2021-02-22T00:00:00\",\"2021-03-01T00:00:00\",\"2021-03-08T00:00:00\",\"2021-03-15T00:00:00\",\"2021-03-22T00:00:00\",\"2021-03-29T00:00:00\",\"2021-04-05T00:00:00\",\"2021-04-12T00:00:00\",\"2021-04-19T00:00:00\",\"2021-04-26T00:00:00\",\"2021-05-03T00:00:00\",\"2021-05-10T00:00:00\",\"2021-05-17T00:00:00\",\"2021-05-24T00:00:00\",\"2021-05-31T00:00:00\",\"2021-06-07T00:00:00\",\"2021-06-14T00:00:00\",\"2021-06-21T00:00:00\",\"2021-06-28T00:00:00\",\"2021-07-05T00:00:00\",\"2021-07-12T00:00:00\",\"2021-07-19T00:00:00\",\"2021-07-26T00:00:00\",\"2021-08-02T00:00:00\",\"2021-08-09T00:00:00\",\"2021-08-16T00:00:00\",\"2021-08-23T00:00:00\",\"2021-08-30T00:00:00\",\"2021-09-06T00:00:00\",\"2021-09-13T00:00:00\",\"2021-09-20T00:00:00\",\"2021-09-27T00:00:00\",\"2021-10-04T00:00:00\",\"2021-10-11T00:00:00\",\"2021-10-18T00:00:00\",\"2021-10-25T00:00:00\",\"2021-11-01T00:00:00\",\"2021-11-08T00:00:00\",\"2021-11-15T00:00:00\",\"2021-11-22T00:00:00\",\"2021-11-29T00:00:00\",\"2021-12-06T00:00:00\",\"2021-12-13T00:00:00\",\"2021-12-20T00:00:00\",\"2021-12-27T00:00:00\",\"2022-01-03T00:00:00\",\"2022-01-10T00:00:00\",\"2022-01-17T00:00:00\",\"2022-01-24T00:00:00\",\"2022-01-31T00:00:00\",\"2022-02-07T00:00:00\",\"2022-02-14T00:00:00\",\"2022-02-21T00:00:00\",\"2022-02-28T00:00:00\",\"2022-03-07T00:00:00\",\"2022-03-14T00:00:00\",\"2022-03-21T00:00:00\",\"2022-03-28T00:00:00\",\"2022-04-04T00:00:00\",\"2022-04-11T00:00:00\",\"2022-04-18T00:00:00\",\"2022-04-25T00:00:00\",\"2022-05-02T00:00:00\",\"2022-05-09T00:00:00\",\"2022-05-16T00:00:00\",\"2022-05-23T00:00:00\",\"2022-05-30T00:00:00\",\"2022-06-06T00:00:00\",\"2022-06-13T00:00:00\",\"2022-06-20T00:00:00\",\"2022-06-27T00:00:00\",\"2022-07-04T00:00:00\",\"2022-07-11T00:00:00\",\"2022-07-18T00:00:00\",\"2022-07-25T00:00:00\",\"2022-08-01T00:00:00\",\"2022-08-08T00:00:00\",\"2022-08-15T00:00:00\",\"2022-08-22T00:00:00\",\"2022-08-29T00:00:00\",\"2022-09-05T00:00:00\",\"2022-09-12T00:00:00\",\"2022-09-19T00:00:00\",\"2022-09-26T00:00:00\",\"2022-10-03T00:00:00\",\"2022-10-10T00:00:00\",\"2022-10-17T00:00:00\",\"2022-10-24T00:00:00\",\"2022-10-31T00:00:00\",\"2022-11-07T00:00:00\",\"2022-11-14T00:00:00\",\"2022-11-21T00:00:00\",\"2022-11-28T00:00:00\",\"2022-12-05T00:00:00\",\"2022-12-12T00:00:00\",\"2022-12-19T00:00:00\",\"2022-12-26T00:00:00\",\"2023-01-02T00:00:00\",\"2023-01-09T00:00:00\",\"2023-01-16T00:00:00\",\"2023-01-23T00:00:00\",\"2023-01-30T00:00:00\",\"2023-02-06T00:00:00\",\"2023-02-13T00:00:00\",\"2023-02-20T00:00:00\",\"2023-02-27T00:00:00\",\"2023-03-06T00:00:00\",\"2023-03-13T00:00:00\",\"2023-03-20T00:00:00\",\"2023-03-27T00:00:00\",\"2023-04-03T00:00:00\",\"2023-04-10T00:00:00\",\"2023-04-17T00:00:00\",\"2023-04-24T00:00:00\",\"2023-05-01T00:00:00\",\"2023-05-08T00:00:00\",\"2023-05-15T00:00:00\",\"2023-05-22T00:00:00\",\"2023-05-29T00:00:00\",\"2023-06-05T00:00:00\",\"2023-06-12T00:00:00\",\"2023-06-19T00:00:00\",\"2023-06-26T00:00:00\",\"2023-07-03T00:00:00\",\"2023-07-10T00:00:00\",\"2023-07-17T00:00:00\",\"2023-07-24T00:00:00\",\"2023-07-31T00:00:00\",\"2023-08-07T00:00:00\",\"2023-08-14T00:00:00\",\"2023-08-21T00:00:00\",\"2023-08-28T00:00:00\",\"2023-09-04T00:00:00\",\"2023-09-11T00:00:00\",\"2023-09-18T00:00:00\",\"2023-09-25T00:00:00\",\"2023-10-02T00:00:00\",\"2023-10-09T00:00:00\",\"2023-10-16T00:00:00\",\"2023-10-23T00:00:00\",\"2023-10-30T00:00:00\",\"2023-11-06T00:00:00\",\"2023-11-13T00:00:00\",\"2023-11-20T00:00:00\",\"2023-11-27T00:00:00\",\"2023-12-04T00:00:00\",\"2023-12-11T00:00:00\",\"2023-12-18T00:00:00\",\"2023-12-25T00:00:00\",\"2024-01-01T00:00:00\",\"2024-01-08T00:00:00\",\"2024-01-15T00:00:00\",\"2024-01-22T00:00:00\",\"2024-01-29T00:00:00\",\"2024-02-05T00:00:00\",\"2024-02-12T00:00:00\",\"2024-02-19T00:00:00\",\"2024-02-26T00:00:00\",\"2024-03-04T00:00:00\",\"2024-03-11T00:00:00\",\"2024-03-18T00:00:00\",\"2024-03-25T00:00:00\",\"2024-04-01T00:00:00\",\"2024-04-08T00:00:00\",\"2024-04-15T00:00:00\",\"2024-04-22T00:00:00\",\"2024-04-29T00:00:00\",\"2024-05-06T00:00:00\",\"2024-05-13T00:00:00\",\"2024-05-20T00:00:00\",\"2024-05-27T00:00:00\",\"2024-06-03T00:00:00\",\"2024-06-10T00:00:00\",\"2024-06-17T00:00:00\",\"2024-06-24T00:00:00\",\"2024-07-01T00:00:00\",\"2024-07-08T00:00:00\",\"2024-07-15T00:00:00\",\"2024-07-22T00:00:00\",\"2024-07-29T00:00:00\",\"2024-08-05T00:00:00\",\"2024-08-06T00:00:00\"],\"xaxis\":\"x\",\"y\":[-0.8593133653777548,-0.8429520908934629,-0.7634614635181467,-0.7509936711833449,-0.7772008012504503,-0.736033658336932,-0.668599984894504,-0.6916215074188862,-0.7120219162758641,-0.6961194391467297,-0.7579220437508707,-0.7699641550035105,-0.8534304106811955,-0.8211593846168571,-0.8152199618633635,-0.8404220119941158,-0.8304702971535504,-0.8334845365615015,-0.8801415706451639,-0.9261458171389064,-0.8843068623759053,-0.9220138375452037,-0.9129681398541134,-0.8859464407207954,-0.8818954868455702,-0.866095061958647,-0.7981193991609948,-0.7596454581310715,-0.8035647685942725,-0.82683062825961,-0.8885216479708226,-0.831764559713978,-0.7725626352950766,-0.8367692960258406,-0.8774034135690826,-0.8766548984388381,-0.7931363243322912,-0.7489565093298817,-0.6708050161295429,-0.6432395029978325,-0.6285288541254666,-0.6228314060728856,-0.6155049521972452,-0.5991593821623178,-0.5144571382563241,-0.5057600544367051,-0.48731922408286216,-0.49330524986333657,-0.7482623910942016,-0.8176500951594151,-0.8442287655226535,-0.7703786954358289,-0.717094198295226,-0.6996697097697788,-0.730624858664295,-0.5977364859227179,-0.662094810304235,-0.6343807964648507,-0.6641576501720687,-0.6182689367140474,-0.6247501801972825,-0.6487684309881099,-0.6206618951944798,-0.5816075916087811,-0.6517614991352804,-0.7062297961644401,-0.7203209052902708,-0.7778449465998114,-0.7865550925561048,-0.8079237551902679,-0.7956945076466619,-0.7843568133724252,-0.7814321564801232,-0.7639500302583877,-0.7568944765379457,-0.7307234171796101,-0.6967172079810716,-0.6635626225367214,-0.6158033882166544,-0.6496006118682558,-0.6693799466604604,-0.6859710340950397,-0.6569053231863586,-0.6236336969403234,-0.6022042992603988,-0.572380003020377,-0.4724005309621998,-0.5188661400872923,-0.5033345652517875,-0.4728950137690557,-0.4619307960315736,-0.4209837079716696,-0.3947823784384774,-0.2948571563824612,-0.2694792590806111,-0.26196794785158584,-0.2398024508581299,-0.2768821049755647,-0.25482932810080827,-0.32858254918464386,-0.3346557354042362,-0.49366935800376743,-0.5088785029303408,-0.515343102325607,-0.405987041754441,-0.3821736968624362,-0.3494954116143937,-0.29724206844382495,-0.3460191192223709,-0.356306857008922,-0.39016698269317546,-0.42255304247175424,-0.4378713067181085,-0.46278254232000365,-0.30242087844242743,-0.2743450859284749,-0.3575819892871204,-0.31194517530200994,-0.3637943005668409,-0.32251515536894604,-0.27532754627022804,-0.39493566149267834,-0.3932411786061249,-0.3643002211010533,-0.3609467231573737,-0.4320142654612396,-0.4435925109178761,-0.3020116921519813,-0.41866752592484,-0.3524578799249458,-0.40146171024747834,-0.4042352329050504,-0.33227837500688334,-0.31828287378050574,-0.18041309957127327,-0.1621199704465063,-0.11404362542019361,-0.23212898213616098,-0.19843698017443365,-0.3093240295371317,-0.2909614352010614,-0.4390393906383402,-0.4898653952886737,-0.549701918344843,-0.4981562857295209,-0.5548659968180754,-0.564495559481513,-0.4287339324032712,-0.4125471021425404,-0.4207866401931348,-0.4041245825134296,-0.411692109718934,-0.4230304432743386,-0.46549282500158223,-0.5672104804949569,-0.4930759924260132,-0.4983016335726846,-0.547349304999947,-0.5948311316505696,-0.604782792091769,-0.5826361272998904,-0.5064985771560907,-0.456600368970538,-0.3336329278275253,-0.39479859191604777,-0.3101987838004806,-0.2221240819967874,-0.2268189965089123,-0.2965563806950865,-0.3354283881944424,-0.2864632285855028,-0.24233900776237297,-0.07731515757822355,-0.037980979405744346,-0.16085115587273333,-0.23398453057416674,-0.1954657008224069,-0.14462207358327378,-0.06697639564861554,0.056966527097658,-0.09543006521152407,0.025598748613517838,0.079831731253847,0.24621459480579896,0.20653788695397482,0.12869108563708243,0.03855879755159985,0.09043413759969414,0.16151365181367924,0.22302119419297142,0.22760326099791003,0.308537883131427,0.30355322657727185,0.37746860336772214,0.2611221121647489,0.23279519366109783,0.3396717718992979,0.4890672159525681,0.298083551297872,0.6708423371874535,0.8148358291078552,0.7250141642651002,0.7801941605234612,0.9246557675982495,0.9589166430223183,0.99338135217767,0.8479644970121988,0.7919293160304242,1.0560105753675058,1.2573253658856345,1.211972121973176,1.1294364998625235,1.089525735910084,1.1524605703802548,1.134598112833161,1.0828387924036584,1.1125282699923218,0.9895854493723932,1.111894909860912,0.9443476296052525,0.9851806205582911,0.9867443343161549,0.8738631412426118,0.8286217631046319,0.688759345228134,0.6306552101826944,0.5946322722500074,0.539506848597829,0.6156066868950772,0.7031260254530682,0.5596522761589688,0.5475530560773694,0.8031948344779154,1.065765486624801,1.0655502116482973,1.2344961108819665,0.9968543759444185,1.1010621047724434,1.3796897765986982,1.883163939663068,1.6041918839960219,1.7768958672015427,1.873414121673077,1.7758783688469482,1.9317792621909111,2.1528109457717854,2.247366355837177,2.035932203608487,2.5974273942168167,2.6934455707334597,3.1968037371863156,3.867772119729349,3.4005016101874097,3.362257501162633,3.1176620700552986,2.9773433834068053,3.459515808205962,3.62512356298757,3.2817536890177768,3.3811699434479427],\"yaxis\":\"y\",\"type\":\"scatter\"}],                        {\"template\":{\"data\":{\"histogram2dcontour\":[{\"type\":\"histogram2dcontour\",\"colorbar\":{\"outlinewidth\":0,\"ticks\":\"\"},\"colorscale\":[[0.0,\"#0d0887\"],[0.1111111111111111,\"#46039f\"],[0.2222222222222222,\"#7201a8\"],[0.3333333333333333,\"#9c179e\"],[0.4444444444444444,\"#bd3786\"],[0.5555555555555556,\"#d8576b\"],[0.6666666666666666,\"#ed7953\"],[0.7777777777777778,\"#fb9f3a\"],[0.8888888888888888,\"#fdca26\"],[1.0,\"#f0f921\"]]}],\"choropleth\":[{\"type\":\"choropleth\",\"colorbar\":{\"outlinewidth\":0,\"ticks\":\"\"}}],\"histogram2d\":[{\"type\":\"histogram2d\",\"colorbar\":{\"outlinewidth\":0,\"ticks\":\"\"},\"colorscale\":[[0.0,\"#0d0887\"],[0.1111111111111111,\"#46039f\"],[0.2222222222222222,\"#7201a8\"],[0.3333333333333333,\"#9c179e\"],[0.4444444444444444,\"#bd3786\"],[0.5555555555555556,\"#d8576b\"],[0.6666666666666666,\"#ed7953\"],[0.7777777777777778,\"#fb9f3a\"],[0.8888888888888888,\"#fdca26\"],[1.0,\"#f0f921\"]]}],\"heatmap\":[{\"type\":\"heatmap\",\"colorbar\":{\"outlinewidth\":0,\"ticks\":\"\"},\"colorscale\":[[0.0,\"#0d0887\"],[0.1111111111111111,\"#46039f\"],[0.2222222222222222,\"#7201a8\"],[0.3333333333333333,\"#9c179e\"],[0.4444444444444444,\"#bd3786\"],[0.5555555555555556,\"#d8576b\"],[0.6666666666666666,\"#ed7953\"],[0.7777777777777778,\"#fb9f3a\"],[0.8888888888888888,\"#fdca26\"],[1.0,\"#f0f921\"]]}],\"heatmapgl\":[{\"type\":\"heatmapgl\",\"colorbar\":{\"outlinewidth\":0,\"ticks\":\"\"},\"colorscale\":[[0.0,\"#0d0887\"],[0.1111111111111111,\"#46039f\"],[0.2222222222222222,\"#7201a8\"],[0.3333333333333333,\"#9c179e\"],[0.4444444444444444,\"#bd3786\"],[0.5555555555555556,\"#d8576b\"],[0.6666666666666666,\"#ed7953\"],[0.7777777777777778,\"#fb9f3a\"],[0.8888888888888888,\"#fdca26\"],[1.0,\"#f0f921\"]]}],\"contourcarpet\":[{\"type\":\"contourcarpet\",\"colorbar\":{\"outlinewidth\":0,\"ticks\":\"\"}}],\"contour\":[{\"type\":\"contour\",\"colorbar\":{\"outlinewidth\":0,\"ticks\":\"\"},\"colorscale\":[[0.0,\"#0d0887\"],[0.1111111111111111,\"#46039f\"],[0.2222222222222222,\"#7201a8\"],[0.3333333333333333,\"#9c179e\"],[0.4444444444444444,\"#bd3786\"],[0.5555555555555556,\"#d8576b\"],[0.6666666666666666,\"#ed7953\"],[0.7777777777777778,\"#fb9f3a\"],[0.8888888888888888,\"#fdca26\"],[1.0,\"#f0f921\"]]}],\"surface\":[{\"type\":\"surface\",\"colorbar\":{\"outlinewidth\":0,\"ticks\":\"\"},\"colorscale\":[[0.0,\"#0d0887\"],[0.1111111111111111,\"#46039f\"],[0.2222222222222222,\"#7201a8\"],[0.3333333333333333,\"#9c179e\"],[0.4444444444444444,\"#bd3786\"],[0.5555555555555556,\"#d8576b\"],[0.6666666666666666,\"#ed7953\"],[0.7777777777777778,\"#fb9f3a\"],[0.8888888888888888,\"#fdca26\"],[1.0,\"#f0f921\"]]}],\"mesh3d\":[{\"type\":\"mesh3d\",\"colorbar\":{\"outlinewidth\":0,\"ticks\":\"\"}}],\"scatter\":[{\"fillpattern\":{\"fillmode\":\"overlay\",\"size\":10,\"solidity\":0.2},\"type\":\"scatter\"}],\"parcoords\":[{\"type\":\"parcoords\",\"line\":{\"colorbar\":{\"outlinewidth\":0,\"ticks\":\"\"}}}],\"scatterpolargl\":[{\"type\":\"scatterpolargl\",\"marker\":{\"colorbar\":{\"outlinewidth\":0,\"ticks\":\"\"}}}],\"bar\":[{\"error_x\":{\"color\":\"#2a3f5f\"},\"error_y\":{\"color\":\"#2a3f5f\"},\"marker\":{\"line\":{\"color\":\"#E5ECF6\",\"width\":0.5},\"pattern\":{\"fillmode\":\"overlay\",\"size\":10,\"solidity\":0.2}},\"type\":\"bar\"}],\"scattergeo\":[{\"type\":\"scattergeo\",\"marker\":{\"colorbar\":{\"outlinewidth\":0,\"ticks\":\"\"}}}],\"scatterpolar\":[{\"type\":\"scatterpolar\",\"marker\":{\"colorbar\":{\"outlinewidth\":0,\"ticks\":\"\"}}}],\"histogram\":[{\"marker\":{\"pattern\":{\"fillmode\":\"overlay\",\"size\":10,\"solidity\":0.2}},\"type\":\"histogram\"}],\"scattergl\":[{\"type\":\"scattergl\",\"marker\":{\"colorbar\":{\"outlinewidth\":0,\"ticks\":\"\"}}}],\"scatter3d\":[{\"type\":\"scatter3d\",\"line\":{\"colorbar\":{\"outlinewidth\":0,\"ticks\":\"\"}},\"marker\":{\"colorbar\":{\"outlinewidth\":0,\"ticks\":\"\"}}}],\"scattermapbox\":[{\"type\":\"scattermapbox\",\"marker\":{\"colorbar\":{\"outlinewidth\":0,\"ticks\":\"\"}}}],\"scatterternary\":[{\"type\":\"scatterternary\",\"marker\":{\"colorbar\":{\"outlinewidth\":0,\"ticks\":\"\"}}}],\"scattercarpet\":[{\"type\":\"scattercarpet\",\"marker\":{\"colorbar\":{\"outlinewidth\":0,\"ticks\":\"\"}}}],\"carpet\":[{\"aaxis\":{\"endlinecolor\":\"#2a3f5f\",\"gridcolor\":\"white\",\"linecolor\":\"white\",\"minorgridcolor\":\"white\",\"startlinecolor\":\"#2a3f5f\"},\"baxis\":{\"endlinecolor\":\"#2a3f5f\",\"gridcolor\":\"white\",\"linecolor\":\"white\",\"minorgridcolor\":\"white\",\"startlinecolor\":\"#2a3f5f\"},\"type\":\"carpet\"}],\"table\":[{\"cells\":{\"fill\":{\"color\":\"#EBF0F8\"},\"line\":{\"color\":\"white\"}},\"header\":{\"fill\":{\"color\":\"#C8D4E3\"},\"line\":{\"color\":\"white\"}},\"type\":\"table\"}],\"barpolar\":[{\"marker\":{\"line\":{\"color\":\"#E5ECF6\",\"width\":0.5},\"pattern\":{\"fillmode\":\"overlay\",\"size\":10,\"solidity\":0.2}},\"type\":\"barpolar\"}],\"pie\":[{\"automargin\":true,\"type\":\"pie\"}]},\"layout\":{\"autotypenumbers\":\"strict\",\"colorway\":[\"#636efa\",\"#EF553B\",\"#00cc96\",\"#ab63fa\",\"#FFA15A\",\"#19d3f3\",\"#FF6692\",\"#B6E880\",\"#FF97FF\",\"#FECB52\"],\"font\":{\"color\":\"#2a3f5f\"},\"hovermode\":\"closest\",\"hoverlabel\":{\"align\":\"left\"},\"paper_bgcolor\":\"white\",\"plot_bgcolor\":\"#E5ECF6\",\"polar\":{\"bgcolor\":\"#E5ECF6\",\"angularaxis\":{\"gridcolor\":\"white\",\"linecolor\":\"white\",\"ticks\":\"\"},\"radialaxis\":{\"gridcolor\":\"white\",\"linecolor\":\"white\",\"ticks\":\"\"}},\"ternary\":{\"bgcolor\":\"#E5ECF6\",\"aaxis\":{\"gridcolor\":\"white\",\"linecolor\":\"white\",\"ticks\":\"\"},\"baxis\":{\"gridcolor\":\"white\",\"linecolor\":\"white\",\"ticks\":\"\"},\"caxis\":{\"gridcolor\":\"white\",\"linecolor\":\"white\",\"ticks\":\"\"}},\"coloraxis\":{\"colorbar\":{\"outlinewidth\":0,\"ticks\":\"\"}},\"colorscale\":{\"sequential\":[[0.0,\"#0d0887\"],[0.1111111111111111,\"#46039f\"],[0.2222222222222222,\"#7201a8\"],[0.3333333333333333,\"#9c179e\"],[0.4444444444444444,\"#bd3786\"],[0.5555555555555556,\"#d8576b\"],[0.6666666666666666,\"#ed7953\"],[0.7777777777777778,\"#fb9f3a\"],[0.8888888888888888,\"#fdca26\"],[1.0,\"#f0f921\"]],\"sequentialminus\":[[0.0,\"#0d0887\"],[0.1111111111111111,\"#46039f\"],[0.2222222222222222,\"#7201a8\"],[0.3333333333333333,\"#9c179e\"],[0.4444444444444444,\"#bd3786\"],[0.5555555555555556,\"#d8576b\"],[0.6666666666666666,\"#ed7953\"],[0.7777777777777778,\"#fb9f3a\"],[0.8888888888888888,\"#fdca26\"],[1.0,\"#f0f921\"]],\"diverging\":[[0,\"#8e0152\"],[0.1,\"#c51b7d\"],[0.2,\"#de77ae\"],[0.3,\"#f1b6da\"],[0.4,\"#fde0ef\"],[0.5,\"#f7f7f7\"],[0.6,\"#e6f5d0\"],[0.7,\"#b8e186\"],[0.8,\"#7fbc41\"],[0.9,\"#4d9221\"],[1,\"#276419\"]]},\"xaxis\":{\"gridcolor\":\"white\",\"linecolor\":\"white\",\"ticks\":\"\",\"title\":{\"standoff\":15},\"zerolinecolor\":\"white\",\"automargin\":true,\"zerolinewidth\":2},\"yaxis\":{\"gridcolor\":\"white\",\"linecolor\":\"white\",\"ticks\":\"\",\"title\":{\"standoff\":15},\"zerolinecolor\":\"white\",\"automargin\":true,\"zerolinewidth\":2},\"scene\":{\"xaxis\":{\"backgroundcolor\":\"#E5ECF6\",\"gridcolor\":\"white\",\"linecolor\":\"white\",\"showbackground\":true,\"ticks\":\"\",\"zerolinecolor\":\"white\",\"gridwidth\":2},\"yaxis\":{\"backgroundcolor\":\"#E5ECF6\",\"gridcolor\":\"white\",\"linecolor\":\"white\",\"showbackground\":true,\"ticks\":\"\",\"zerolinecolor\":\"white\",\"gridwidth\":2},\"zaxis\":{\"backgroundcolor\":\"#E5ECF6\",\"gridcolor\":\"white\",\"linecolor\":\"white\",\"showbackground\":true,\"ticks\":\"\",\"zerolinecolor\":\"white\",\"gridwidth\":2}},\"shapedefaults\":{\"line\":{\"color\":\"#2a3f5f\"}},\"annotationdefaults\":{\"arrowcolor\":\"#2a3f5f\",\"arrowhead\":0,\"arrowwidth\":1},\"geo\":{\"bgcolor\":\"white\",\"landcolor\":\"#E5ECF6\",\"subunitcolor\":\"white\",\"showland\":true,\"showlakes\":true,\"lakecolor\":\"white\"},\"title\":{\"x\":0.05},\"mapbox\":{\"style\":\"light\"}}},\"xaxis\":{\"anchor\":\"y\",\"domain\":[0.0,1.0],\"title\":{\"text\":\"date\"}},\"yaxis\":{\"anchor\":\"x\",\"domain\":[0.0,1.0],\"title\":{\"text\":\"value\"}},\"legend\":{\"title\":{\"text\":\"variable\"},\"tracegroupgap\":0},\"margin\":{\"t\":60}},                        {\"responsive\": true}                    ).then(function(){\n",
       "                            \n",
       "var gd = document.getElementById('e746e657-3c1b-4e10-b373-06450aa7bae2');\n",
       "var x = new MutationObserver(function (mutations, observer) {{\n",
       "        var display = window.getComputedStyle(gd).display;\n",
       "        if (!display || display === 'none') {{\n",
       "            console.log([gd, 'removed!']);\n",
       "            Plotly.purge(gd);\n",
       "            observer.disconnect();\n",
       "        }}\n",
       "}});\n",
       "\n",
       "// Listen for the removal of the full notebook cells\n",
       "var notebookContainer = gd.closest('#notebook-container');\n",
       "if (notebookContainer) {{\n",
       "    x.observe(notebookContainer, {childList: true});\n",
       "}}\n",
       "\n",
       "// Listen for the clearing of the current output cell\n",
       "var outputEl = gd.closest('.output');\n",
       "if (outputEl) {{\n",
       "    x.observe(outputEl, {childList: true});\n",
       "}}\n",
       "\n",
       "                        })                };                });            </script>        </div>"
      ]
     },
     "metadata": {},
     "output_type": "display_data"
    }
   ],
   "source": [
    "def zscore(series):\n",
    "    return (series - series.mean()) / np.std(series)\n",
    "\n",
    "# create a dataframe for trading signals\n",
    "signals = pd.DataFrame()\n",
    "signals['asset1'] = prices[\"NVDA\"]\n",
    "signals['asset2'] = prices[\"AMD\"]\n",
    "ratios = signals.asset1 / signals.asset2\n",
    "# calculate z-score and define upper and lower thresholds\n",
    "signals[\"z\"] = zscore(ratios)\n",
    "signals\n",
    "\n",
    "fig = px.scatter(signals)\n",
    "\n",
    "fig.update_traces(mode='markers+lines')\n",
    "\n",
    "fig.show()"
   ]
  },
  {
   "cell_type": "code",
   "execution_count": 15,
   "id": "e8d5447e-2e79-4aaf-9be6-4d78b217bfaa",
   "metadata": {},
   "outputs": [
    {
     "name": "stdout",
     "output_type": "stream",
     "text": [
      "259\n",
      "date\n",
      "2019-09-02    1.018396\n",
      "2019-09-09    1.109891\n",
      "2019-09-16    1.123940\n",
      "2019-09-23    1.094119\n",
      "2019-09-30    1.139433\n",
      "                ...   \n",
      "2024-07-15    3.823747\n",
      "2024-07-22    4.151200\n",
      "2024-07-29    4.272459\n",
      "2024-08-05    4.035460\n",
      "2024-08-06    4.123980\n",
      "Length: 259, dtype: float64\n",
      "1.8024315921981224\n"
     ]
    },
    {
     "data": {
      "application/vnd.plotly.v1+json": {
       "config": {
        "plotlyServerURL": "https://plot.ly"
       },
       "data": [
        {
         "hovertemplate": "variable=0<br>date=%{x}<br>value=%{y}<extra></extra>",
         "legendgroup": "0",
         "marker": {
          "color": "#636efa",
          "symbol": "circle"
         },
         "mode": "markers+lines",
         "name": "0",
         "orientation": "v",
         "showlegend": true,
         "type": "scatter",
         "x": [
          "2019-09-02T00:00:00",
          "2019-09-09T00:00:00",
          "2019-09-16T00:00:00",
          "2019-09-23T00:00:00",
          "2019-09-30T00:00:00",
          "2019-10-07T00:00:00",
          "2019-10-14T00:00:00",
          "2019-10-21T00:00:00",
          "2019-10-28T00:00:00",
          "2019-11-04T00:00:00",
          "2019-11-11T00:00:00",
          "2019-11-18T00:00:00",
          "2019-11-25T00:00:00",
          "2019-12-02T00:00:00",
          "2019-12-09T00:00:00",
          "2019-12-16T00:00:00",
          "2019-12-23T00:00:00",
          "2019-12-30T00:00:00",
          "2020-01-06T00:00:00",
          "2020-01-13T00:00:00",
          "2020-01-20T00:00:00",
          "2020-01-27T00:00:00",
          "2020-02-03T00:00:00",
          "2020-02-10T00:00:00",
          "2020-02-17T00:00:00",
          "2020-02-24T00:00:00",
          "2020-03-02T00:00:00",
          "2020-03-09T00:00:00",
          "2020-03-16T00:00:00",
          "2020-03-23T00:00:00",
          "2020-03-30T00:00:00",
          "2020-04-06T00:00:00",
          "2020-04-13T00:00:00",
          "2020-04-20T00:00:00",
          "2020-04-27T00:00:00",
          "2020-05-04T00:00:00",
          "2020-05-11T00:00:00",
          "2020-05-18T00:00:00",
          "2020-05-25T00:00:00",
          "2020-06-01T00:00:00",
          "2020-06-08T00:00:00",
          "2020-06-15T00:00:00",
          "2020-06-22T00:00:00",
          "2020-06-29T00:00:00",
          "2020-07-06T00:00:00",
          "2020-07-13T00:00:00",
          "2020-07-20T00:00:00",
          "2020-07-27T00:00:00",
          "2020-08-03T00:00:00",
          "2020-08-10T00:00:00",
          "2020-08-17T00:00:00",
          "2020-08-24T00:00:00",
          "2020-08-31T00:00:00",
          "2020-09-07T00:00:00",
          "2020-09-14T00:00:00",
          "2020-09-21T00:00:00",
          "2020-09-28T00:00:00",
          "2020-10-05T00:00:00",
          "2020-10-12T00:00:00",
          "2020-10-19T00:00:00",
          "2020-10-26T00:00:00",
          "2020-11-02T00:00:00",
          "2020-11-09T00:00:00",
          "2020-11-16T00:00:00",
          "2020-11-23T00:00:00",
          "2020-11-30T00:00:00",
          "2020-12-07T00:00:00",
          "2020-12-14T00:00:00",
          "2020-12-21T00:00:00",
          "2020-12-28T00:00:00",
          "2021-01-04T00:00:00",
          "2021-01-11T00:00:00",
          "2021-01-18T00:00:00",
          "2021-01-25T00:00:00",
          "2021-02-01T00:00:00",
          "2021-02-08T00:00:00",
          "2021-02-15T00:00:00",
          "2021-02-22T00:00:00",
          "2021-03-01T00:00:00",
          "2021-03-08T00:00:00",
          "2021-03-15T00:00:00",
          "2021-03-22T00:00:00",
          "2021-03-29T00:00:00",
          "2021-04-05T00:00:00",
          "2021-04-12T00:00:00",
          "2021-04-19T00:00:00",
          "2021-04-26T00:00:00",
          "2021-05-03T00:00:00",
          "2021-05-10T00:00:00",
          "2021-05-17T00:00:00",
          "2021-05-24T00:00:00",
          "2021-05-31T00:00:00",
          "2021-06-07T00:00:00",
          "2021-06-14T00:00:00",
          "2021-06-21T00:00:00",
          "2021-06-28T00:00:00",
          "2021-07-05T00:00:00",
          "2021-07-12T00:00:00",
          "2021-07-19T00:00:00",
          "2021-07-26T00:00:00",
          "2021-08-02T00:00:00",
          "2021-08-09T00:00:00",
          "2021-08-16T00:00:00",
          "2021-08-23T00:00:00",
          "2021-08-30T00:00:00",
          "2021-09-06T00:00:00",
          "2021-09-13T00:00:00",
          "2021-09-20T00:00:00",
          "2021-09-27T00:00:00",
          "2021-10-04T00:00:00",
          "2021-10-11T00:00:00",
          "2021-10-18T00:00:00",
          "2021-10-25T00:00:00",
          "2021-11-01T00:00:00",
          "2021-11-08T00:00:00",
          "2021-11-15T00:00:00",
          "2021-11-22T00:00:00",
          "2021-11-29T00:00:00",
          "2021-12-06T00:00:00",
          "2021-12-13T00:00:00",
          "2021-12-20T00:00:00",
          "2021-12-27T00:00:00",
          "2022-01-03T00:00:00",
          "2022-01-10T00:00:00",
          "2022-01-17T00:00:00",
          "2022-01-24T00:00:00",
          "2022-01-31T00:00:00",
          "2022-02-07T00:00:00",
          "2022-02-14T00:00:00",
          "2022-02-21T00:00:00",
          "2022-02-28T00:00:00",
          "2022-03-07T00:00:00",
          "2022-03-14T00:00:00",
          "2022-03-21T00:00:00",
          "2022-03-28T00:00:00",
          "2022-04-04T00:00:00",
          "2022-04-11T00:00:00",
          "2022-04-18T00:00:00",
          "2022-04-25T00:00:00",
          "2022-05-02T00:00:00",
          "2022-05-09T00:00:00",
          "2022-05-16T00:00:00",
          "2022-05-23T00:00:00",
          "2022-05-30T00:00:00",
          "2022-06-06T00:00:00",
          "2022-06-13T00:00:00",
          "2022-06-20T00:00:00",
          "2022-06-27T00:00:00",
          "2022-07-04T00:00:00",
          "2022-07-11T00:00:00",
          "2022-07-18T00:00:00",
          "2022-07-25T00:00:00",
          "2022-08-01T00:00:00",
          "2022-08-08T00:00:00",
          "2022-08-15T00:00:00",
          "2022-08-22T00:00:00",
          "2022-08-29T00:00:00",
          "2022-09-05T00:00:00",
          "2022-09-12T00:00:00",
          "2022-09-19T00:00:00",
          "2022-09-26T00:00:00",
          "2022-10-03T00:00:00",
          "2022-10-10T00:00:00",
          "2022-10-17T00:00:00",
          "2022-10-24T00:00:00",
          "2022-10-31T00:00:00",
          "2022-11-07T00:00:00",
          "2022-11-14T00:00:00",
          "2022-11-21T00:00:00",
          "2022-11-28T00:00:00",
          "2022-12-05T00:00:00",
          "2022-12-12T00:00:00",
          "2022-12-19T00:00:00",
          "2022-12-26T00:00:00",
          "2023-01-02T00:00:00",
          "2023-01-09T00:00:00",
          "2023-01-16T00:00:00",
          "2023-01-23T00:00:00",
          "2023-01-30T00:00:00",
          "2023-02-06T00:00:00",
          "2023-02-13T00:00:00",
          "2023-02-20T00:00:00",
          "2023-02-27T00:00:00",
          "2023-03-06T00:00:00",
          "2023-03-13T00:00:00",
          "2023-03-20T00:00:00",
          "2023-03-27T00:00:00",
          "2023-04-03T00:00:00",
          "2023-04-10T00:00:00",
          "2023-04-17T00:00:00",
          "2023-04-24T00:00:00",
          "2023-05-01T00:00:00",
          "2023-05-08T00:00:00",
          "2023-05-15T00:00:00",
          "2023-05-22T00:00:00",
          "2023-05-29T00:00:00",
          "2023-06-05T00:00:00",
          "2023-06-12T00:00:00",
          "2023-06-19T00:00:00",
          "2023-06-26T00:00:00",
          "2023-07-03T00:00:00",
          "2023-07-10T00:00:00",
          "2023-07-17T00:00:00",
          "2023-07-24T00:00:00",
          "2023-07-31T00:00:00",
          "2023-08-07T00:00:00",
          "2023-08-14T00:00:00",
          "2023-08-21T00:00:00",
          "2023-08-28T00:00:00",
          "2023-09-04T00:00:00",
          "2023-09-11T00:00:00",
          "2023-09-18T00:00:00",
          "2023-09-25T00:00:00",
          "2023-10-02T00:00:00",
          "2023-10-09T00:00:00",
          "2023-10-16T00:00:00",
          "2023-10-23T00:00:00",
          "2023-10-30T00:00:00",
          "2023-11-06T00:00:00",
          "2023-11-13T00:00:00",
          "2023-11-20T00:00:00",
          "2023-11-27T00:00:00",
          "2023-12-04T00:00:00",
          "2023-12-11T00:00:00",
          "2023-12-18T00:00:00",
          "2023-12-25T00:00:00",
          "2024-01-01T00:00:00",
          "2024-01-08T00:00:00",
          "2024-01-15T00:00:00",
          "2024-01-22T00:00:00",
          "2024-01-29T00:00:00",
          "2024-02-05T00:00:00",
          "2024-02-12T00:00:00",
          "2024-02-19T00:00:00",
          "2024-02-26T00:00:00",
          "2024-03-04T00:00:00",
          "2024-03-11T00:00:00",
          "2024-03-18T00:00:00",
          "2024-03-25T00:00:00",
          "2024-04-01T00:00:00",
          "2024-04-08T00:00:00",
          "2024-04-15T00:00:00",
          "2024-04-22T00:00:00",
          "2024-04-29T00:00:00",
          "2024-05-06T00:00:00",
          "2024-05-13T00:00:00",
          "2024-05-20T00:00:00",
          "2024-05-27T00:00:00",
          "2024-06-03T00:00:00",
          "2024-06-10T00:00:00",
          "2024-06-17T00:00:00",
          "2024-06-24T00:00:00",
          "2024-07-01T00:00:00",
          "2024-07-08T00:00:00",
          "2024-07-15T00:00:00",
          "2024-07-22T00:00:00",
          "2024-07-29T00:00:00",
          "2024-08-05T00:00:00",
          "2024-08-06T00:00:00"
         ],
         "xaxis": "x",
         "y": [
          1.018396264689474,
          1.1098908153980747,
          1.1239397408702654,
          1.09411901421112,
          1.1394327764096768,
          1.2167149366261671,
          1.1896005041194955,
          1.164835484900447,
          1.1839796423305922,
          1.1089158160891153,
          1.0948867203860202,
          0.9926402662884981,
          1.029962315267537,
          1.03665814734458,
          1.0080156751643001,
          1.0199329379530047,
          1.016284282504311,
          0.9615803723293515,
          0.9074461753098928,
          0.9552702794572422,
          0.91069632798619,
          0.920382457194859,
          0.9495126900814947,
          0.9543678111141018,
          0.9740998269568277,
          1.0412681257165552,
          1.083552622879218,
          1.0390778708411093,
          1.0153940822074774,
          0.9433528410364134,
          1.017297776153922,
          1.0801317352926503,
          1.0009288967027785,
          0.9483761386999767,
          0.949229848635336,
          1.0297511009891658,
          1.0812799784030243,
          1.1707480014048663,
          1.2017697181459401,
          1.21724434157347,
          1.223535990349731,
          1.2315187376625445,
          1.2502883436035428,
          1.3361487114468975,
          1.3462279166141622,
          1.3679445046455168,
          1.3615267843783976,
          1.0096012612269472,
          0.929116783392507,
          0.8996944817879656,
          0.9720452344867344,
          1.0276019394315852,
          1.0453731352966305,
          1.0165679414185986,
          1.1494969290468895,
          1.0863792935453316,
          1.116412967483902,
          1.084773110247251,
          1.1320722932822849,
          1.1254784270022793,
          1.1013467902931504,
          1.1276378233395854,
          1.1717034565407127,
          1.102736488268523,
          1.04410719283932,
          1.0294406962894616,
          0.9657115551435325,
          0.9571377873270953,
          0.9349936114973038,
          0.9472124684361776,
          0.9585979730453323,
          0.9616225549256437,
          0.9784919909608619,
          0.9859991627322113,
          1.010442638083937,
          1.0453937298562352,
          1.0810392699691949,
          1.1264620059265407,
          1.0933883359117276,
          1.075102518447902,
          1.0574587241646944,
          1.0861915516411174,
          1.1186047019306218,
          1.1415833461748943,
          1.1718741499954948,
          1.273117997647859,
          1.2254032805110535,
          1.2408499309753223,
          1.2702107736736343,
          1.2807203849256967,
          1.323749309780156,
          1.3515187287473789,
          1.4531046894099109,
          1.4788240648192552,
          1.4866110219995814,
          1.509824416166237,
          1.468576402010893,
          1.4899951052263773,
          1.4206169411969949,
          1.4139549295134086,
          1.2285233307159993,
          1.2126504486055927,
          1.206297868548214,
          1.3100205691587057,
          1.3352063823082456,
          1.3668026751423341,
          1.4163043564695104,
          1.3697928549451246,
          1.3592653624217086,
          1.326837046999943,
          1.293872167240006,
          1.2776656082656361,
          1.2511481475415926,
          1.4079955689168704,
          1.4399033391596963,
          1.3514452184373171,
          1.3991388638445736,
          1.347886093085313,
          1.3843652344798774,
          1.4298078029355383,
          1.3142311708294554,
          1.316039959650968,
          1.3440618608769375,
          1.3469957324367299,
          1.274169448626363,
          1.264422230553352,
          1.3945139496592571,
          1.264150458293686,
          1.3237918972511116,
          1.2768186706315419,
          1.2740378428044206,
          1.3363879935182033,
          1.3490807863876226,
          1.4945103874621173,
          1.5127620514782825,
          1.5560851052104316,
          1.454169783341857,
          1.484686950887119,
          1.379769938988537,
          1.3967630151249801,
          1.2410033209658076,
          1.1916465150383138,
          1.135524667576652,
          1.1909133403476726,
          1.1329905901350255,
          1.125169023424248,
          1.2459870646208564,
          1.262066181608211,
          1.2555656442406244,
          1.2728400551452712,
          1.2651718708999473,
          1.2537187212272654,
          1.2087632510088073,
          1.1070315990736197,
          1.1778916641397623,
          1.1732202136447214,
          1.1286759778592084,
          1.0882329268284023,
          1.0781665906512106,
          1.0970022591317157,
          1.1625020455003907,
          1.207508148588415,
          1.3111293983800059,
          1.2536823042846719,
          1.33476994943158,
          1.4206150774046706,
          1.416034973617758,
          1.3375423626135914,
          1.3027371571563062,
          1.3494710744003124,
          1.3911104840530142,
          1.5329450447147734,
          1.5675961897527717,
          1.4559863959040529,
          1.3858912410902786,
          1.4216790722040558,
          1.4720712536908371,
          1.5455128745175886,
          1.6638605111184142,
          1.5021369728594882,
          1.6092987329116353,
          1.6563022523190942,
          1.813432499578758,
          1.7759428722018642,
          1.7051309928364635,
          1.6073297205471617,
          1.6553015092801673,
          1.7190417518131742,
          1.7718139930260701,
          1.7759200296839066,
          1.847595867455548,
          1.842929772345577,
          1.909131335333193,
          1.7976644878357328,
          1.7695516556670228,
          1.8895615651811797,
          2.011456815507225,
          1.8206792744189715,
          2.130671068152834,
          2.2496960035142055,
          2.167298119729447,
          2.2150857860353743,
          2.34586028453139,
          2.3747375526135053,
          2.406142297371143,
          2.275217883950787,
          2.229858321765562,
          2.4620967796903477,
          2.635394745956528,
          2.5932546625156054,
          2.5216382285684515,
          2.4885810112017888,
          2.541434259573543,
          2.5246611428424677,
          2.4773580556999826,
          2.503355402580744,
          2.3998390780613055,
          2.5027456563733597,
          2.329967957343202,
          2.3673478435994157,
          2.368738114146459,
          2.2692217233753285,
          2.2305529812957237,
          2.09764863913022,
          2.0439564259671323,
          2.012568067370311,
          1.9634211878741956,
          2.0274516895165613,
          2.1084686666583004,
          1.9643049342814407,
          1.953667061056883,
          2.1732886007205177,
          2.390439546634031,
          2.390257162992077,
          2.54112552858432,
          2.307412522959126,
          2.3946476452916587,
          2.618992130105478,
          2.9982156232958754,
          2.7571242009911647,
          2.890476762910969,
          2.968233141868575,
          2.895857040006189,
          3.0341078572995026,
          3.210338362211303,
          3.2875760781757,
          3.09635453424405,
          3.5687326533091923,
          3.6485598508671524,
          4.043416568293052,
          4.578829692197485,
          4.192423231145379,
          4.160882092946259,
          3.9441307757622837,
          3.8237467091650665,
          4.1512003720839985,
          4.2724587840266315,
          4.035459799150092,
          4.1239796984075205
         ],
         "yaxis": "y"
        }
       ],
       "layout": {
        "autosize": true,
        "legend": {
         "title": {
          "text": "variable"
         },
         "tracegroupgap": 0
        },
        "margin": {
         "t": 60
        },
        "template": {
         "data": {
          "bar": [
           {
            "error_x": {
             "color": "#2a3f5f"
            },
            "error_y": {
             "color": "#2a3f5f"
            },
            "marker": {
             "line": {
              "color": "#E5ECF6",
              "width": 0.5
             },
             "pattern": {
              "fillmode": "overlay",
              "size": 10,
              "solidity": 0.2
             }
            },
            "type": "bar"
           }
          ],
          "barpolar": [
           {
            "marker": {
             "line": {
              "color": "#E5ECF6",
              "width": 0.5
             },
             "pattern": {
              "fillmode": "overlay",
              "size": 10,
              "solidity": 0.2
             }
            },
            "type": "barpolar"
           }
          ],
          "carpet": [
           {
            "aaxis": {
             "endlinecolor": "#2a3f5f",
             "gridcolor": "white",
             "linecolor": "white",
             "minorgridcolor": "white",
             "startlinecolor": "#2a3f5f"
            },
            "baxis": {
             "endlinecolor": "#2a3f5f",
             "gridcolor": "white",
             "linecolor": "white",
             "minorgridcolor": "white",
             "startlinecolor": "#2a3f5f"
            },
            "type": "carpet"
           }
          ],
          "choropleth": [
           {
            "colorbar": {
             "outlinewidth": 0,
             "ticks": ""
            },
            "type": "choropleth"
           }
          ],
          "contour": [
           {
            "colorbar": {
             "outlinewidth": 0,
             "ticks": ""
            },
            "colorscale": [
             [
              0,
              "#0d0887"
             ],
             [
              0.1111111111111111,
              "#46039f"
             ],
             [
              0.2222222222222222,
              "#7201a8"
             ],
             [
              0.3333333333333333,
              "#9c179e"
             ],
             [
              0.4444444444444444,
              "#bd3786"
             ],
             [
              0.5555555555555556,
              "#d8576b"
             ],
             [
              0.6666666666666666,
              "#ed7953"
             ],
             [
              0.7777777777777778,
              "#fb9f3a"
             ],
             [
              0.8888888888888888,
              "#fdca26"
             ],
             [
              1,
              "#f0f921"
             ]
            ],
            "type": "contour"
           }
          ],
          "contourcarpet": [
           {
            "colorbar": {
             "outlinewidth": 0,
             "ticks": ""
            },
            "type": "contourcarpet"
           }
          ],
          "heatmap": [
           {
            "colorbar": {
             "outlinewidth": 0,
             "ticks": ""
            },
            "colorscale": [
             [
              0,
              "#0d0887"
             ],
             [
              0.1111111111111111,
              "#46039f"
             ],
             [
              0.2222222222222222,
              "#7201a8"
             ],
             [
              0.3333333333333333,
              "#9c179e"
             ],
             [
              0.4444444444444444,
              "#bd3786"
             ],
             [
              0.5555555555555556,
              "#d8576b"
             ],
             [
              0.6666666666666666,
              "#ed7953"
             ],
             [
              0.7777777777777778,
              "#fb9f3a"
             ],
             [
              0.8888888888888888,
              "#fdca26"
             ],
             [
              1,
              "#f0f921"
             ]
            ],
            "type": "heatmap"
           }
          ],
          "heatmapgl": [
           {
            "colorbar": {
             "outlinewidth": 0,
             "ticks": ""
            },
            "colorscale": [
             [
              0,
              "#0d0887"
             ],
             [
              0.1111111111111111,
              "#46039f"
             ],
             [
              0.2222222222222222,
              "#7201a8"
             ],
             [
              0.3333333333333333,
              "#9c179e"
             ],
             [
              0.4444444444444444,
              "#bd3786"
             ],
             [
              0.5555555555555556,
              "#d8576b"
             ],
             [
              0.6666666666666666,
              "#ed7953"
             ],
             [
              0.7777777777777778,
              "#fb9f3a"
             ],
             [
              0.8888888888888888,
              "#fdca26"
             ],
             [
              1,
              "#f0f921"
             ]
            ],
            "type": "heatmapgl"
           }
          ],
          "histogram": [
           {
            "marker": {
             "pattern": {
              "fillmode": "overlay",
              "size": 10,
              "solidity": 0.2
             }
            },
            "type": "histogram"
           }
          ],
          "histogram2d": [
           {
            "colorbar": {
             "outlinewidth": 0,
             "ticks": ""
            },
            "colorscale": [
             [
              0,
              "#0d0887"
             ],
             [
              0.1111111111111111,
              "#46039f"
             ],
             [
              0.2222222222222222,
              "#7201a8"
             ],
             [
              0.3333333333333333,
              "#9c179e"
             ],
             [
              0.4444444444444444,
              "#bd3786"
             ],
             [
              0.5555555555555556,
              "#d8576b"
             ],
             [
              0.6666666666666666,
              "#ed7953"
             ],
             [
              0.7777777777777778,
              "#fb9f3a"
             ],
             [
              0.8888888888888888,
              "#fdca26"
             ],
             [
              1,
              "#f0f921"
             ]
            ],
            "type": "histogram2d"
           }
          ],
          "histogram2dcontour": [
           {
            "colorbar": {
             "outlinewidth": 0,
             "ticks": ""
            },
            "colorscale": [
             [
              0,
              "#0d0887"
             ],
             [
              0.1111111111111111,
              "#46039f"
             ],
             [
              0.2222222222222222,
              "#7201a8"
             ],
             [
              0.3333333333333333,
              "#9c179e"
             ],
             [
              0.4444444444444444,
              "#bd3786"
             ],
             [
              0.5555555555555556,
              "#d8576b"
             ],
             [
              0.6666666666666666,
              "#ed7953"
             ],
             [
              0.7777777777777778,
              "#fb9f3a"
             ],
             [
              0.8888888888888888,
              "#fdca26"
             ],
             [
              1,
              "#f0f921"
             ]
            ],
            "type": "histogram2dcontour"
           }
          ],
          "mesh3d": [
           {
            "colorbar": {
             "outlinewidth": 0,
             "ticks": ""
            },
            "type": "mesh3d"
           }
          ],
          "parcoords": [
           {
            "line": {
             "colorbar": {
              "outlinewidth": 0,
              "ticks": ""
             }
            },
            "type": "parcoords"
           }
          ],
          "pie": [
           {
            "automargin": true,
            "type": "pie"
           }
          ],
          "scatter": [
           {
            "fillpattern": {
             "fillmode": "overlay",
             "size": 10,
             "solidity": 0.2
            },
            "type": "scatter"
           }
          ],
          "scatter3d": [
           {
            "line": {
             "colorbar": {
              "outlinewidth": 0,
              "ticks": ""
             }
            },
            "marker": {
             "colorbar": {
              "outlinewidth": 0,
              "ticks": ""
             }
            },
            "type": "scatter3d"
           }
          ],
          "scattercarpet": [
           {
            "marker": {
             "colorbar": {
              "outlinewidth": 0,
              "ticks": ""
             }
            },
            "type": "scattercarpet"
           }
          ],
          "scattergeo": [
           {
            "marker": {
             "colorbar": {
              "outlinewidth": 0,
              "ticks": ""
             }
            },
            "type": "scattergeo"
           }
          ],
          "scattergl": [
           {
            "marker": {
             "colorbar": {
              "outlinewidth": 0,
              "ticks": ""
             }
            },
            "type": "scattergl"
           }
          ],
          "scattermapbox": [
           {
            "marker": {
             "colorbar": {
              "outlinewidth": 0,
              "ticks": ""
             }
            },
            "type": "scattermapbox"
           }
          ],
          "scatterpolar": [
           {
            "marker": {
             "colorbar": {
              "outlinewidth": 0,
              "ticks": ""
             }
            },
            "type": "scatterpolar"
           }
          ],
          "scatterpolargl": [
           {
            "marker": {
             "colorbar": {
              "outlinewidth": 0,
              "ticks": ""
             }
            },
            "type": "scatterpolargl"
           }
          ],
          "scatterternary": [
           {
            "marker": {
             "colorbar": {
              "outlinewidth": 0,
              "ticks": ""
             }
            },
            "type": "scatterternary"
           }
          ],
          "surface": [
           {
            "colorbar": {
             "outlinewidth": 0,
             "ticks": ""
            },
            "colorscale": [
             [
              0,
              "#0d0887"
             ],
             [
              0.1111111111111111,
              "#46039f"
             ],
             [
              0.2222222222222222,
              "#7201a8"
             ],
             [
              0.3333333333333333,
              "#9c179e"
             ],
             [
              0.4444444444444444,
              "#bd3786"
             ],
             [
              0.5555555555555556,
              "#d8576b"
             ],
             [
              0.6666666666666666,
              "#ed7953"
             ],
             [
              0.7777777777777778,
              "#fb9f3a"
             ],
             [
              0.8888888888888888,
              "#fdca26"
             ],
             [
              1,
              "#f0f921"
             ]
            ],
            "type": "surface"
           }
          ],
          "table": [
           {
            "cells": {
             "fill": {
              "color": "#EBF0F8"
             },
             "line": {
              "color": "white"
             }
            },
            "header": {
             "fill": {
              "color": "#C8D4E3"
             },
             "line": {
              "color": "white"
             }
            },
            "type": "table"
           }
          ]
         },
         "layout": {
          "annotationdefaults": {
           "arrowcolor": "#2a3f5f",
           "arrowhead": 0,
           "arrowwidth": 1
          },
          "autotypenumbers": "strict",
          "coloraxis": {
           "colorbar": {
            "outlinewidth": 0,
            "ticks": ""
           }
          },
          "colorscale": {
           "diverging": [
            [
             0,
             "#8e0152"
            ],
            [
             0.1,
             "#c51b7d"
            ],
            [
             0.2,
             "#de77ae"
            ],
            [
             0.3,
             "#f1b6da"
            ],
            [
             0.4,
             "#fde0ef"
            ],
            [
             0.5,
             "#f7f7f7"
            ],
            [
             0.6,
             "#e6f5d0"
            ],
            [
             0.7,
             "#b8e186"
            ],
            [
             0.8,
             "#7fbc41"
            ],
            [
             0.9,
             "#4d9221"
            ],
            [
             1,
             "#276419"
            ]
           ],
           "sequential": [
            [
             0,
             "#0d0887"
            ],
            [
             0.1111111111111111,
             "#46039f"
            ],
            [
             0.2222222222222222,
             "#7201a8"
            ],
            [
             0.3333333333333333,
             "#9c179e"
            ],
            [
             0.4444444444444444,
             "#bd3786"
            ],
            [
             0.5555555555555556,
             "#d8576b"
            ],
            [
             0.6666666666666666,
             "#ed7953"
            ],
            [
             0.7777777777777778,
             "#fb9f3a"
            ],
            [
             0.8888888888888888,
             "#fdca26"
            ],
            [
             1,
             "#f0f921"
            ]
           ],
           "sequentialminus": [
            [
             0,
             "#0d0887"
            ],
            [
             0.1111111111111111,
             "#46039f"
            ],
            [
             0.2222222222222222,
             "#7201a8"
            ],
            [
             0.3333333333333333,
             "#9c179e"
            ],
            [
             0.4444444444444444,
             "#bd3786"
            ],
            [
             0.5555555555555556,
             "#d8576b"
            ],
            [
             0.6666666666666666,
             "#ed7953"
            ],
            [
             0.7777777777777778,
             "#fb9f3a"
            ],
            [
             0.8888888888888888,
             "#fdca26"
            ],
            [
             1,
             "#f0f921"
            ]
           ]
          },
          "colorway": [
           "#636efa",
           "#EF553B",
           "#00cc96",
           "#ab63fa",
           "#FFA15A",
           "#19d3f3",
           "#FF6692",
           "#B6E880",
           "#FF97FF",
           "#FECB52"
          ],
          "font": {
           "color": "#2a3f5f"
          },
          "geo": {
           "bgcolor": "white",
           "lakecolor": "white",
           "landcolor": "#E5ECF6",
           "showlakes": true,
           "showland": true,
           "subunitcolor": "white"
          },
          "hoverlabel": {
           "align": "left"
          },
          "hovermode": "closest",
          "mapbox": {
           "style": "light"
          },
          "paper_bgcolor": "white",
          "plot_bgcolor": "#E5ECF6",
          "polar": {
           "angularaxis": {
            "gridcolor": "white",
            "linecolor": "white",
            "ticks": ""
           },
           "bgcolor": "#E5ECF6",
           "radialaxis": {
            "gridcolor": "white",
            "linecolor": "white",
            "ticks": ""
           }
          },
          "scene": {
           "xaxis": {
            "backgroundcolor": "#E5ECF6",
            "gridcolor": "white",
            "gridwidth": 2,
            "linecolor": "white",
            "showbackground": true,
            "ticks": "",
            "zerolinecolor": "white"
           },
           "yaxis": {
            "backgroundcolor": "#E5ECF6",
            "gridcolor": "white",
            "gridwidth": 2,
            "linecolor": "white",
            "showbackground": true,
            "ticks": "",
            "zerolinecolor": "white"
           },
           "zaxis": {
            "backgroundcolor": "#E5ECF6",
            "gridcolor": "white",
            "gridwidth": 2,
            "linecolor": "white",
            "showbackground": true,
            "ticks": "",
            "zerolinecolor": "white"
           }
          },
          "shapedefaults": {
           "line": {
            "color": "#2a3f5f"
           }
          },
          "ternary": {
           "aaxis": {
            "gridcolor": "white",
            "linecolor": "white",
            "ticks": ""
           },
           "baxis": {
            "gridcolor": "white",
            "linecolor": "white",
            "ticks": ""
           },
           "bgcolor": "#E5ECF6",
           "caxis": {
            "gridcolor": "white",
            "linecolor": "white",
            "ticks": ""
           }
          },
          "title": {
           "x": 0.05
          },
          "xaxis": {
           "automargin": true,
           "gridcolor": "white",
           "linecolor": "white",
           "ticks": "",
           "title": {
            "standoff": 15
           },
           "zerolinecolor": "white",
           "zerolinewidth": 2
          },
          "yaxis": {
           "automargin": true,
           "gridcolor": "white",
           "linecolor": "white",
           "ticks": "",
           "title": {
            "standoff": 15
           },
           "zerolinecolor": "white",
           "zerolinewidth": 2
          }
         }
        },
        "xaxis": {
         "anchor": "y",
         "autorange": true,
         "domain": [
          0,
          1
         ],
         "range": [
          "2019-05-15 23:00:06.5099",
          "2024-11-23 00:59:53.4901"
         ],
         "title": {
          "text": "date"
         },
         "type": "date"
        },
        "yaxis": {
         "anchor": "x",
         "autorange": true,
         "domain": [
          0,
          1
         ],
         "range": [
          0.6148270573599319,
          4.863697116625518
         ],
         "title": {
          "text": "value"
         },
         "type": "linear"
        }
       }
      },
      "image/png": "[encoded data removed]",
      "text/html": [
       "<div>                            <div id=\"27b71e3e-e867-4d69-a722-9e9f12274625\" class=\"plotly-graph-div\" style=\"height:525px; width:100%;\"></div>            <script type=\"text/javascript\">                require([\"plotly\"], function(Plotly) {                    window.PLOTLYENV=window.PLOTLYENV || {};                                    if (document.getElementById(\"27b71e3e-e867-4d69-a722-9e9f12274625\")) {                    Plotly.newPlot(                        \"27b71e3e-e867-4d69-a722-9e9f12274625\",                        [{\"hovertemplate\":\"variable=0\\u003cbr\\u003edate=%{x}\\u003cbr\\u003evalue=%{y}\\u003cextra\\u003e\\u003c\\u002fextra\\u003e\",\"legendgroup\":\"0\",\"marker\":{\"color\":\"#636efa\",\"symbol\":\"circle\"},\"mode\":\"markers+lines\",\"name\":\"0\",\"orientation\":\"v\",\"showlegend\":true,\"x\":[\"2019-09-02T00:00:00\",\"2019-09-09T00:00:00\",\"2019-09-16T00:00:00\",\"2019-09-23T00:00:00\",\"2019-09-30T00:00:00\",\"2019-10-07T00:00:00\",\"2019-10-14T00:00:00\",\"2019-10-21T00:00:00\",\"2019-10-28T00:00:00\",\"2019-11-04T00:00:00\",\"2019-11-11T00:00:00\",\"2019-11-18T00:00:00\",\"2019-11-25T00:00:00\",\"2019-12-02T00:00:00\",\"2019-12-09T00:00:00\",\"2019-12-16T00:00:00\",\"2019-12-23T00:00:00\",\"2019-12-30T00:00:00\",\"2020-01-06T00:00:00\",\"2020-01-13T00:00:00\",\"2020-01-20T00:00:00\",\"2020-01-27T00:00:00\",\"2020-02-03T00:00:00\",\"2020-02-10T00:00:00\",\"2020-02-17T00:00:00\",\"2020-02-24T00:00:00\",\"2020-03-02T00:00:00\",\"2020-03-09T00:00:00\",\"2020-03-16T00:00:00\",\"2020-03-23T00:00:00\",\"2020-03-30T00:00:00\",\"2020-04-06T00:00:00\",\"2020-04-13T00:00:00\",\"2020-04-20T00:00:00\",\"2020-04-27T00:00:00\",\"2020-05-04T00:00:00\",\"2020-05-11T00:00:00\",\"2020-05-18T00:00:00\",\"2020-05-25T00:00:00\",\"2020-06-01T00:00:00\",\"2020-06-08T00:00:00\",\"2020-06-15T00:00:00\",\"2020-06-22T00:00:00\",\"2020-06-29T00:00:00\",\"2020-07-06T00:00:00\",\"2020-07-13T00:00:00\",\"2020-07-20T00:00:00\",\"2020-07-27T00:00:00\",\"2020-08-03T00:00:00\",\"2020-08-10T00:00:00\",\"2020-08-17T00:00:00\",\"2020-08-24T00:00:00\",\"2020-08-31T00:00:00\",\"2020-09-07T00:00:00\",\"2020-09-14T00:00:00\",\"2020-09-21T00:00:00\",\"2020-09-28T00:00:00\",\"2020-10-05T00:00:00\",\"2020-10-12T00:00:00\",\"2020-10-19T00:00:00\",\"2020-10-26T00:00:00\",\"2020-11-02T00:00:00\",\"2020-11-09T00:00:00\",\"2020-11-16T00:00:00\",\"2020-11-23T00:00:00\",\"2020-11-30T00:00:00\",\"2020-12-07T00:00:00\",\"2020-12-14T00:00:00\",\"2020-12-21T00:00:00\",\"2020-12-28T00:00:00\",\"2021-01-04T00:00:00\",\"2021-01-11T00:00:00\",\"2021-01-18T00:00:00\",\"2021-01-25T00:00:00\",\"2021-02-01T00:00:00\",\"2021-02-08T00:00:00\",\"2021-02-15T00:00:00\",\"2021-02-22T00:00:00\",\"2021-03-01T00:00:00\",\"2021-03-08T00:00:00\",\"2021-03-15T00:00:00\",\"2021-03-22T00:00:00\",\"2021-03-29T00:00:00\",\"2021-04-05T00:00:00\",\"2021-04-12T00:00:00\",\"2021-04-19T00:00:00\",\"2021-04-26T00:00:00\",\"2021-05-03T00:00:00\",\"2021-05-10T00:00:00\",\"2021-05-17T00:00:00\",\"2021-05-24T00:00:00\",\"2021-05-31T00:00:00\",\"2021-06-07T00:00:00\",\"2021-06-14T00:00:00\",\"2021-06-21T00:00:00\",\"2021-06-28T00:00:00\",\"2021-07-05T00:00:00\",\"2021-07-12T00:00:00\",\"2021-07-19T00:00:00\",\"2021-07-26T00:00:00\",\"2021-08-02T00:00:00\",\"2021-08-09T00:00:00\",\"2021-08-16T00:00:00\",\"2021-08-23T00:00:00\",\"2021-08-30T00:00:00\",\"2021-09-06T00:00:00\",\"2021-09-13T00:00:00\",\"2021-09-20T00:00:00\",\"2021-09-27T00:00:00\",\"2021-10-04T00:00:00\",\"2021-10-11T00:00:00\",\"2021-10-18T00:00:00\",\"2021-10-25T00:00:00\",\"2021-11-01T00:00:00\",\"2021-11-08T00:00:00\",\"2021-11-15T00:00:00\",\"2021-11-22T00:00:00\",\"2021-11-29T00:00:00\",\"2021-12-06T00:00:00\",\"2021-12-13T00:00:00\",\"2021-12-20T00:00:00\",\"2021-12-27T00:00:00\",\"2022-01-03T00:00:00\",\"2022-01-10T00:00:00\",\"2022-01-17T00:00:00\",\"2022-01-24T00:00:00\",\"2022-01-31T00:00:00\",\"2022-02-07T00:00:00\",\"2022-02-14T00:00:00\",\"2022-02-21T00:00:00\",\"2022-02-28T00:00:00\",\"2022-03-07T00:00:00\",\"2022-03-14T00:00:00\",\"2022-03-21T00:00:00\",\"2022-03-28T00:00:00\",\"2022-04-04T00:00:00\",\"2022-04-11T00:00:00\",\"2022-04-18T00:00:00\",\"2022-04-25T00:00:00\",\"2022-05-02T00:00:00\",\"2022-05-09T00:00:00\",\"2022-05-16T00:00:00\",\"2022-05-23T00:00:00\",\"2022-05-30T00:00:00\",\"2022-06-06T00:00:00\",\"2022-06-13T00:00:00\",\"2022-06-20T00:00:00\",\"2022-06-27T00:00:00\",\"2022-07-04T00:00:00\",\"2022-07-11T00:00:00\",\"2022-07-18T00:00:00\",\"2022-07-25T00:00:00\",\"2022-08-01T00:00:00\",\"2022-08-08T00:00:00\",\"2022-08-15T00:00:00\",\"2022-08-22T00:00:00\",\"2022-08-29T00:00:00\",\"2022-09-05T00:00:00\",\"2022-09-12T00:00:00\",\"2022-09-19T00:00:00\",\"2022-09-26T00:00:00\",\"2022-10-03T00:00:00\",\"2022-10-10T00:00:00\",\"2022-10-17T00:00:00\",\"2022-10-24T00:00:00\",\"2022-10-31T00:00:00\",\"2022-11-07T00:00:00\",\"2022-11-14T00:00:00\",\"2022-11-21T00:00:00\",\"2022-11-28T00:00:00\",\"2022-12-05T00:00:00\",\"2022-12-12T00:00:00\",\"2022-12-19T00:00:00\",\"2022-12-26T00:00:00\",\"2023-01-02T00:00:00\",\"2023-01-09T00:00:00\",\"2023-01-16T00:00:00\",\"2023-01-23T00:00:00\",\"2023-01-30T00:00:00\",\"2023-02-06T00:00:00\",\"2023-02-13T00:00:00\",\"2023-02-20T00:00:00\",\"2023-02-27T00:00:00\",\"2023-03-06T00:00:00\",\"2023-03-13T00:00:00\",\"2023-03-20T00:00:00\",\"2023-03-27T00:00:00\",\"2023-04-03T00:00:00\",\"2023-04-10T00:00:00\",\"2023-04-17T00:00:00\",\"2023-04-24T00:00:00\",\"2023-05-01T00:00:00\",\"2023-05-08T00:00:00\",\"2023-05-15T00:00:00\",\"2023-05-22T00:00:00\",\"2023-05-29T00:00:00\",\"2023-06-05T00:00:00\",\"2023-06-12T00:00:00\",\"2023-06-19T00:00:00\",\"2023-06-26T00:00:00\",\"2023-07-03T00:00:00\",\"2023-07-10T00:00:00\",\"2023-07-17T00:00:00\",\"2023-07-24T00:00:00\",\"2023-07-31T00:00:00\",\"2023-08-07T00:00:00\",\"2023-08-14T00:00:00\",\"2023-08-21T00:00:00\",\"2023-08-28T00:00:00\",\"2023-09-04T00:00:00\",\"2023-09-11T00:00:00\",\"2023-09-18T00:00:00\",\"2023-09-25T00:00:00\",\"2023-10-02T00:00:00\",\"2023-10-09T00:00:00\",\"2023-10-16T00:00:00\",\"2023-10-23T00:00:00\",\"2023-10-30T00:00:00\",\"2023-11-06T00:00:00\",\"2023-11-13T00:00:00\",\"2023-11-20T00:00:00\",\"2023-11-27T00:00:00\",\"2023-12-04T00:00:00\",\"2023-12-11T00:00:00\",\"2023-12-18T00:00:00\",\"2023-12-25T00:00:00\",\"2024-01-01T00:00:00\",\"2024-01-08T00:00:00\",\"2024-01-15T00:00:00\",\"2024-01-22T00:00:00\",\"2024-01-29T00:00:00\",\"2024-02-05T00:00:00\",\"2024-02-12T00:00:00\",\"2024-02-19T00:00:00\",\"2024-02-26T00:00:00\",\"2024-03-04T00:00:00\",\"2024-03-11T00:00:00\",\"2024-03-18T00:00:00\",\"2024-03-25T00:00:00\",\"2024-04-01T00:00:00\",\"2024-04-08T00:00:00\",\"2024-04-15T00:00:00\",\"2024-04-22T00:00:00\",\"2024-04-29T00:00:00\",\"2024-05-06T00:00:00\",\"2024-05-13T00:00:00\",\"2024-05-20T00:00:00\",\"2024-05-27T00:00:00\",\"2024-06-03T00:00:00\",\"2024-06-10T00:00:00\",\"2024-06-17T00:00:00\",\"2024-06-24T00:00:00\",\"2024-07-01T00:00:00\",\"2024-07-08T00:00:00\",\"2024-07-15T00:00:00\",\"2024-07-22T00:00:00\",\"2024-07-29T00:00:00\",\"2024-08-05T00:00:00\",\"2024-08-06T00:00:00\"],\"xaxis\":\"x\",\"y\":[1.018396264689474,1.1098908153980747,1.1239397408702654,1.09411901421112,1.1394327764096768,1.2167149366261671,1.1896005041194955,1.164835484900447,1.1839796423305922,1.1089158160891153,1.0948867203860202,0.9926402662884981,1.029962315267537,1.03665814734458,1.0080156751643001,1.0199329379530047,1.016284282504311,0.9615803723293515,0.9074461753098928,0.9552702794572422,0.91069632798619,0.920382457194859,0.9495126900814947,0.9543678111141018,0.9740998269568277,1.0412681257165552,1.083552622879218,1.0390778708411093,1.0153940822074774,0.9433528410364134,1.017297776153922,1.0801317352926503,1.0009288967027785,0.9483761386999767,0.949229848635336,1.0297511009891658,1.0812799784030243,1.1707480014048663,1.2017697181459401,1.21724434157347,1.223535990349731,1.2315187376625445,1.2502883436035428,1.3361487114468975,1.3462279166141622,1.3679445046455168,1.3615267843783976,1.0096012612269472,0.929116783392507,0.8996944817879656,0.9720452344867344,1.0276019394315852,1.0453731352966305,1.0165679414185986,1.1494969290468895,1.0863792935453316,1.116412967483902,1.084773110247251,1.1320722932822849,1.1254784270022793,1.1013467902931504,1.1276378233395854,1.1717034565407127,1.102736488268523,1.04410719283932,1.0294406962894616,0.9657115551435325,0.9571377873270953,0.9349936114973038,0.9472124684361776,0.9585979730453323,0.9616225549256437,0.9784919909608619,0.9859991627322113,1.010442638083937,1.0453937298562352,1.0810392699691949,1.1264620059265407,1.0933883359117276,1.075102518447902,1.0574587241646944,1.0861915516411174,1.1186047019306218,1.1415833461748943,1.1718741499954948,1.273117997647859,1.2254032805110535,1.2408499309753223,1.2702107736736343,1.2807203849256967,1.323749309780156,1.3515187287473789,1.4531046894099109,1.4788240648192552,1.4866110219995814,1.509824416166237,1.468576402010893,1.4899951052263773,1.4206169411969949,1.4139549295134086,1.2285233307159993,1.2126504486055927,1.206297868548214,1.3100205691587057,1.3352063823082456,1.3668026751423341,1.4163043564695104,1.3697928549451246,1.3592653624217086,1.326837046999943,1.293872167240006,1.2776656082656361,1.2511481475415926,1.4079955689168704,1.4399033391596963,1.3514452184373171,1.3991388638445736,1.347886093085313,1.3843652344798774,1.4298078029355383,1.3142311708294554,1.316039959650968,1.3440618608769375,1.3469957324367299,1.274169448626363,1.264422230553352,1.3945139496592571,1.264150458293686,1.3237918972511116,1.2768186706315419,1.2740378428044206,1.3363879935182033,1.3490807863876226,1.4945103874621173,1.5127620514782825,1.5560851052104316,1.454169783341857,1.484686950887119,1.379769938988537,1.3967630151249801,1.2410033209658076,1.1916465150383138,1.135524667576652,1.1909133403476726,1.1329905901350255,1.125169023424248,1.2459870646208564,1.262066181608211,1.2555656442406244,1.2728400551452712,1.2651718708999473,1.2537187212272654,1.2087632510088073,1.1070315990736197,1.1778916641397623,1.1732202136447214,1.1286759778592084,1.0882329268284023,1.0781665906512106,1.0970022591317157,1.1625020455003907,1.207508148588415,1.3111293983800059,1.2536823042846719,1.33476994943158,1.4206150774046706,1.416034973617758,1.3375423626135914,1.3027371571563062,1.3494710744003124,1.3911104840530142,1.5329450447147734,1.5675961897527717,1.4559863959040529,1.3858912410902786,1.4216790722040558,1.4720712536908371,1.5455128745175886,1.6638605111184142,1.5021369728594882,1.6092987329116353,1.6563022523190942,1.813432499578758,1.7759428722018642,1.7051309928364635,1.6073297205471617,1.6553015092801673,1.7190417518131742,1.7718139930260701,1.7759200296839066,1.847595867455548,1.842929772345577,1.909131335333193,1.7976644878357328,1.7695516556670228,1.8895615651811797,2.011456815507225,1.8206792744189715,2.130671068152834,2.2496960035142055,2.167298119729447,2.2150857860353743,2.34586028453139,2.3747375526135053,2.406142297371143,2.275217883950787,2.229858321765562,2.4620967796903477,2.635394745956528,2.5932546625156054,2.5216382285684515,2.4885810112017888,2.541434259573543,2.5246611428424677,2.4773580556999826,2.503355402580744,2.3998390780613055,2.5027456563733597,2.329967957343202,2.3673478435994157,2.368738114146459,2.2692217233753285,2.2305529812957237,2.09764863913022,2.0439564259671323,2.012568067370311,1.9634211878741956,2.0274516895165613,2.1084686666583004,1.9643049342814407,1.953667061056883,2.1732886007205177,2.390439546634031,2.390257162992077,2.54112552858432,2.307412522959126,2.3946476452916587,2.618992130105478,2.9982156232958754,2.7571242009911647,2.890476762910969,2.968233141868575,2.895857040006189,3.0341078572995026,3.210338362211303,3.2875760781757,3.09635453424405,3.5687326533091923,3.6485598508671524,4.043416568293052,4.578829692197485,4.192423231145379,4.160882092946259,3.9441307757622837,3.8237467091650665,4.1512003720839985,4.2724587840266315,4.035459799150092,4.1239796984075205],\"yaxis\":\"y\",\"type\":\"scatter\"}],                        {\"template\":{\"data\":{\"histogram2dcontour\":[{\"type\":\"histogram2dcontour\",\"colorbar\":{\"outlinewidth\":0,\"ticks\":\"\"},\"colorscale\":[[0.0,\"#0d0887\"],[0.1111111111111111,\"#46039f\"],[0.2222222222222222,\"#7201a8\"],[0.3333333333333333,\"#9c179e\"],[0.4444444444444444,\"#bd3786\"],[0.5555555555555556,\"#d8576b\"],[0.6666666666666666,\"#ed7953\"],[0.7777777777777778,\"#fb9f3a\"],[0.8888888888888888,\"#fdca26\"],[1.0,\"#f0f921\"]]}],\"choropleth\":[{\"type\":\"choropleth\",\"colorbar\":{\"outlinewidth\":0,\"ticks\":\"\"}}],\"histogram2d\":[{\"type\":\"histogram2d\",\"colorbar\":{\"outlinewidth\":0,\"ticks\":\"\"},\"colorscale\":[[0.0,\"#0d0887\"],[0.1111111111111111,\"#46039f\"],[0.2222222222222222,\"#7201a8\"],[0.3333333333333333,\"#9c179e\"],[0.4444444444444444,\"#bd3786\"],[0.5555555555555556,\"#d8576b\"],[0.6666666666666666,\"#ed7953\"],[0.7777777777777778,\"#fb9f3a\"],[0.8888888888888888,\"#fdca26\"],[1.0,\"#f0f921\"]]}],\"heatmap\":[{\"type\":\"heatmap\",\"colorbar\":{\"outlinewidth\":0,\"ticks\":\"\"},\"colorscale\":[[0.0,\"#0d0887\"],[0.1111111111111111,\"#46039f\"],[0.2222222222222222,\"#7201a8\"],[0.3333333333333333,\"#9c179e\"],[0.4444444444444444,\"#bd3786\"],[0.5555555555555556,\"#d8576b\"],[0.6666666666666666,\"#ed7953\"],[0.7777777777777778,\"#fb9f3a\"],[0.8888888888888888,\"#fdca26\"],[1.0,\"#f0f921\"]]}],\"heatmapgl\":[{\"type\":\"heatmapgl\",\"colorbar\":{\"outlinewidth\":0,\"ticks\":\"\"},\"colorscale\":[[0.0,\"#0d0887\"],[0.1111111111111111,\"#46039f\"],[0.2222222222222222,\"#7201a8\"],[0.3333333333333333,\"#9c179e\"],[0.4444444444444444,\"#bd3786\"],[0.5555555555555556,\"#d8576b\"],[0.6666666666666666,\"#ed7953\"],[0.7777777777777778,\"#fb9f3a\"],[0.8888888888888888,\"#fdca26\"],[1.0,\"#f0f921\"]]}],\"contourcarpet\":[{\"type\":\"contourcarpet\",\"colorbar\":{\"outlinewidth\":0,\"ticks\":\"\"}}],\"contour\":[{\"type\":\"contour\",\"colorbar\":{\"outlinewidth\":0,\"ticks\":\"\"},\"colorscale\":[[0.0,\"#0d0887\"],[0.1111111111111111,\"#46039f\"],[0.2222222222222222,\"#7201a8\"],[0.3333333333333333,\"#9c179e\"],[0.4444444444444444,\"#bd3786\"],[0.5555555555555556,\"#d8576b\"],[0.6666666666666666,\"#ed7953\"],[0.7777777777777778,\"#fb9f3a\"],[0.8888888888888888,\"#fdca26\"],[1.0,\"#f0f921\"]]}],\"surface\":[{\"type\":\"surface\",\"colorbar\":{\"outlinewidth\":0,\"ticks\":\"\"},\"colorscale\":[[0.0,\"#0d0887\"],[0.1111111111111111,\"#46039f\"],[0.2222222222222222,\"#7201a8\"],[0.3333333333333333,\"#9c179e\"],[0.4444444444444444,\"#bd3786\"],[0.5555555555555556,\"#d8576b\"],[0.6666666666666666,\"#ed7953\"],[0.7777777777777778,\"#fb9f3a\"],[0.8888888888888888,\"#fdca26\"],[1.0,\"#f0f921\"]]}],\"mesh3d\":[{\"type\":\"mesh3d\",\"colorbar\":{\"outlinewidth\":0,\"ticks\":\"\"}}],\"scatter\":[{\"fillpattern\":{\"fillmode\":\"overlay\",\"size\":10,\"solidity\":0.2},\"type\":\"scatter\"}],\"parcoords\":[{\"type\":\"parcoords\",\"line\":{\"colorbar\":{\"outlinewidth\":0,\"ticks\":\"\"}}}],\"scatterpolargl\":[{\"type\":\"scatterpolargl\",\"marker\":{\"colorbar\":{\"outlinewidth\":0,\"ticks\":\"\"}}}],\"bar\":[{\"error_x\":{\"color\":\"#2a3f5f\"},\"error_y\":{\"color\":\"#2a3f5f\"},\"marker\":{\"line\":{\"color\":\"#E5ECF6\",\"width\":0.5},\"pattern\":{\"fillmode\":\"overlay\",\"size\":10,\"solidity\":0.2}},\"type\":\"bar\"}],\"scattergeo\":[{\"type\":\"scattergeo\",\"marker\":{\"colorbar\":{\"outlinewidth\":0,\"ticks\":\"\"}}}],\"scatterpolar\":[{\"type\":\"scatterpolar\",\"marker\":{\"colorbar\":{\"outlinewidth\":0,\"ticks\":\"\"}}}],\"histogram\":[{\"marker\":{\"pattern\":{\"fillmode\":\"overlay\",\"size\":10,\"solidity\":0.2}},\"type\":\"histogram\"}],\"scattergl\":[{\"type\":\"scattergl\",\"marker\":{\"colorbar\":{\"outlinewidth\":0,\"ticks\":\"\"}}}],\"scatter3d\":[{\"type\":\"scatter3d\",\"line\":{\"colorbar\":{\"outlinewidth\":0,\"ticks\":\"\"}},\"marker\":{\"colorbar\":{\"outlinewidth\":0,\"ticks\":\"\"}}}],\"scattermapbox\":[{\"type\":\"scattermapbox\",\"marker\":{\"colorbar\":{\"outlinewidth\":0,\"ticks\":\"\"}}}],\"scatterternary\":[{\"type\":\"scatterternary\",\"marker\":{\"colorbar\":{\"outlinewidth\":0,\"ticks\":\"\"}}}],\"scattercarpet\":[{\"type\":\"scattercarpet\",\"marker\":{\"colorbar\":{\"outlinewidth\":0,\"ticks\":\"\"}}}],\"carpet\":[{\"aaxis\":{\"endlinecolor\":\"#2a3f5f\",\"gridcolor\":\"white\",\"linecolor\":\"white\",\"minorgridcolor\":\"white\",\"startlinecolor\":\"#2a3f5f\"},\"baxis\":{\"endlinecolor\":\"#2a3f5f\",\"gridcolor\":\"white\",\"linecolor\":\"white\",\"minorgridcolor\":\"white\",\"startlinecolor\":\"#2a3f5f\"},\"type\":\"carpet\"}],\"table\":[{\"cells\":{\"fill\":{\"color\":\"#EBF0F8\"},\"line\":{\"color\":\"white\"}},\"header\":{\"fill\":{\"color\":\"#C8D4E3\"},\"line\":{\"color\":\"white\"}},\"type\":\"table\"}],\"barpolar\":[{\"marker\":{\"line\":{\"color\":\"#E5ECF6\",\"width\":0.5},\"pattern\":{\"fillmode\":\"overlay\",\"size\":10,\"solidity\":0.2}},\"type\":\"barpolar\"}],\"pie\":[{\"automargin\":true,\"type\":\"pie\"}]},\"layout\":{\"autotypenumbers\":\"strict\",\"colorway\":[\"#636efa\",\"#EF553B\",\"#00cc96\",\"#ab63fa\",\"#FFA15A\",\"#19d3f3\",\"#FF6692\",\"#B6E880\",\"#FF97FF\",\"#FECB52\"],\"font\":{\"color\":\"#2a3f5f\"},\"hovermode\":\"closest\",\"hoverlabel\":{\"align\":\"left\"},\"paper_bgcolor\":\"white\",\"plot_bgcolor\":\"#E5ECF6\",\"polar\":{\"bgcolor\":\"#E5ECF6\",\"angularaxis\":{\"gridcolor\":\"white\",\"linecolor\":\"white\",\"ticks\":\"\"},\"radialaxis\":{\"gridcolor\":\"white\",\"linecolor\":\"white\",\"ticks\":\"\"}},\"ternary\":{\"bgcolor\":\"#E5ECF6\",\"aaxis\":{\"gridcolor\":\"white\",\"linecolor\":\"white\",\"ticks\":\"\"},\"baxis\":{\"gridcolor\":\"white\",\"linecolor\":\"white\",\"ticks\":\"\"},\"caxis\":{\"gridcolor\":\"white\",\"linecolor\":\"white\",\"ticks\":\"\"}},\"coloraxis\":{\"colorbar\":{\"outlinewidth\":0,\"ticks\":\"\"}},\"colorscale\":{\"sequential\":[[0.0,\"#0d0887\"],[0.1111111111111111,\"#46039f\"],[0.2222222222222222,\"#7201a8\"],[0.3333333333333333,\"#9c179e\"],[0.4444444444444444,\"#bd3786\"],[0.5555555555555556,\"#d8576b\"],[0.6666666666666666,\"#ed7953\"],[0.7777777777777778,\"#fb9f3a\"],[0.8888888888888888,\"#fdca26\"],[1.0,\"#f0f921\"]],\"sequentialminus\":[[0.0,\"#0d0887\"],[0.1111111111111111,\"#46039f\"],[0.2222222222222222,\"#7201a8\"],[0.3333333333333333,\"#9c179e\"],[0.4444444444444444,\"#bd3786\"],[0.5555555555555556,\"#d8576b\"],[0.6666666666666666,\"#ed7953\"],[0.7777777777777778,\"#fb9f3a\"],[0.8888888888888888,\"#fdca26\"],[1.0,\"#f0f921\"]],\"diverging\":[[0,\"#8e0152\"],[0.1,\"#c51b7d\"],[0.2,\"#de77ae\"],[0.3,\"#f1b6da\"],[0.4,\"#fde0ef\"],[0.5,\"#f7f7f7\"],[0.6,\"#e6f5d0\"],[0.7,\"#b8e186\"],[0.8,\"#7fbc41\"],[0.9,\"#4d9221\"],[1,\"#276419\"]]},\"xaxis\":{\"gridcolor\":\"white\",\"linecolor\":\"white\",\"ticks\":\"\",\"title\":{\"standoff\":15},\"zerolinecolor\":\"white\",\"automargin\":true,\"zerolinewidth\":2},\"yaxis\":{\"gridcolor\":\"white\",\"linecolor\":\"white\",\"ticks\":\"\",\"title\":{\"standoff\":15},\"zerolinecolor\":\"white\",\"automargin\":true,\"zerolinewidth\":2},\"scene\":{\"xaxis\":{\"backgroundcolor\":\"#E5ECF6\",\"gridcolor\":\"white\",\"linecolor\":\"white\",\"showbackground\":true,\"ticks\":\"\",\"zerolinecolor\":\"white\",\"gridwidth\":2},\"yaxis\":{\"backgroundcolor\":\"#E5ECF6\",\"gridcolor\":\"white\",\"linecolor\":\"white\",\"showbackground\":true,\"ticks\":\"\",\"zerolinecolor\":\"white\",\"gridwidth\":2},\"zaxis\":{\"backgroundcolor\":\"#E5ECF6\",\"gridcolor\":\"white\",\"linecolor\":\"white\",\"showbackground\":true,\"ticks\":\"\",\"zerolinecolor\":\"white\",\"gridwidth\":2}},\"shapedefaults\":{\"line\":{\"color\":\"#2a3f5f\"}},\"annotationdefaults\":{\"arrowcolor\":\"#2a3f5f\",\"arrowhead\":0,\"arrowwidth\":1},\"geo\":{\"bgcolor\":\"white\",\"landcolor\":\"#E5ECF6\",\"subunitcolor\":\"white\",\"showland\":true,\"showlakes\":true,\"lakecolor\":\"white\"},\"title\":{\"x\":0.05},\"mapbox\":{\"style\":\"light\"}}},\"xaxis\":{\"anchor\":\"y\",\"domain\":[0.0,1.0],\"title\":{\"text\":\"date\"}},\"yaxis\":{\"anchor\":\"x\",\"domain\":[0.0,1.0],\"title\":{\"text\":\"value\"}},\"legend\":{\"title\":{\"text\":\"variable\"},\"tracegroupgap\":0},\"margin\":{\"t\":60}},                        {\"responsive\": true}                    ).then(function(){\n",
       "                            \n",
       "var gd = document.getElementById('27b71e3e-e867-4d69-a722-9e9f12274625');\n",
       "var x = new MutationObserver(function (mutations, observer) {{\n",
       "        var display = window.getComputedStyle(gd).display;\n",
       "        if (!display || display === 'none') {{\n",
       "            console.log([gd, 'removed!']);\n",
       "            Plotly.purge(gd);\n",
       "            observer.disconnect();\n",
       "        }}\n",
       "}});\n",
       "\n",
       "// Listen for the removal of the full notebook cells\n",
       "var notebookContainer = gd.closest('#notebook-container');\n",
       "if (notebookContainer) {{\n",
       "    x.observe(notebookContainer, {childList: true});\n",
       "}}\n",
       "\n",
       "// Listen for the clearing of the current output cell\n",
       "var outputEl = gd.closest('.output');\n",
       "if (outputEl) {{\n",
       "    x.observe(outputEl, {childList: true});\n",
       "}}\n",
       "\n",
       "                        })                };                });            </script>        </div>"
      ]
     },
     "metadata": {},
     "output_type": "display_data"
    }
   ],
   "source": [
    "returns = prices.pct_change().dropna()\n",
    "#for ticker in tickers:\n",
    "df = returns[\"NVDA\"].subtract(returns[\"AMD\"])\n",
    "print(df.count())\n",
    "print((df+1).cumprod())\n",
    "print(df.sum())\n",
    "\n",
    "df_fig = (df+1).cumprod()\n",
    "fig = px.scatter(df_fig)\n",
    "\n",
    "fig.update_traces(mode='markers+lines')\n",
    "\n",
    "fig.show()\n",
    "\n",
    "#df.to_excel(\"data/ls1.xlsx\")"
   ]
  },
  {
   "cell_type": "code",
   "execution_count": null,
   "id": "37df301a-9578-4148-b90c-c98ac0c6cbed",
   "metadata": {},
   "outputs": [],
   "source": []
  }
 ],
 "metadata": {
  "kernelspec": {
   "display_name": "Python 3 (ipykernel)",
   "language": "python",
   "name": "python3"
  },
  "language_info": {
   "codemirror_mode": {
    "name": "ipython",
    "version": 3
   },
   "file_extension": ".py",
   "mimetype": "text/x-python",
   "name": "python",
   "nbconvert_exporter": "python",
   "pygments_lexer": "ipython3",
   "version": "3.11.9"
  }
 },
 "nbformat": 4,
 "nbformat_minor": 5
}
